{
 "cells": [
  {
   "cell_type": "markdown",
   "metadata": {},
   "source": [
    "Basic analysis of store 781(either customellow, kolon).\n",
    "\n",
    "Sequentially crawled(using since) from http://walkinsights.com/api/v1/shops/781/sessions?&limit=10000&user_token=77eFJPB37UkgYyLjWZrx&user_email=jeeyeachung@kolon.com"
   ]
  },
  {
   "cell_type": "code",
   "execution_count": 2,
   "metadata": {
    "collapsed": true
   },
   "outputs": [],
   "source": [
    "import pandas as pd"
   ]
  },
  {
   "cell_type": "code",
   "execution_count": 5,
   "metadata": {
    "collapsed": false
   },
   "outputs": [],
   "source": [
    "df = pd.read_pickle(\"../data/781.p\")"
   ]
  },
  {
   "cell_type": "code",
   "execution_count": 7,
   "metadata": {
    "collapsed": false
   },
   "outputs": [
    {
     "data": {
      "text/html": [
       "<div>\n",
       "<table border=\"1\" class=\"dataframe\">\n",
       "  <thead>\n",
       "    <tr style=\"text-align: right;\">\n",
       "      <th></th>\n",
       "      <th>area</th>\n",
       "      <th>deny</th>\n",
       "      <th>device_id</th>\n",
       "      <th>dwell_time</th>\n",
       "      <th>key</th>\n",
       "      <th>revisit_count</th>\n",
       "      <th>revisit_period</th>\n",
       "      <th>ts</th>\n",
       "    </tr>\n",
       "  </thead>\n",
       "  <tbody>\n",
       "    <tr>\n",
       "      <th>3962126</th>\n",
       "      <td>out</td>\n",
       "      <td>True</td>\n",
       "      <td>44689a999123656a443f2d9bdd39d3df</td>\n",
       "      <td>14208</td>\n",
       "      <td>781:7feb09773901772a:out</td>\n",
       "      <td>NaN</td>\n",
       "      <td>NaN</td>\n",
       "      <td>1440568078312</td>\n",
       "    </tr>\n",
       "    <tr>\n",
       "      <th>3962127</th>\n",
       "      <td>1f</td>\n",
       "      <td>NaN</td>\n",
       "      <td>028a1f4dbca00ed06814fdda60f1b599</td>\n",
       "      <td>2497</td>\n",
       "      <td>781:7feb09773985e932:1f</td>\n",
       "      <td>NaN</td>\n",
       "      <td>NaN</td>\n",
       "      <td>1440568076193</td>\n",
       "    </tr>\n",
       "    <tr>\n",
       "      <th>3962128</th>\n",
       "      <td>b1</td>\n",
       "      <td>NaN</td>\n",
       "      <td>028a1f4dbca00ed06814fdda60f1b599</td>\n",
       "      <td>628</td>\n",
       "      <td>781:7feb09773985e932:b1</td>\n",
       "      <td>NaN</td>\n",
       "      <td>NaN</td>\n",
       "      <td>1440568076193</td>\n",
       "    </tr>\n",
       "    <tr>\n",
       "      <th>3962129</th>\n",
       "      <td>in</td>\n",
       "      <td>NaN</td>\n",
       "      <td>028a1f4dbca00ed06814fdda60f1b599</td>\n",
       "      <td>2497</td>\n",
       "      <td>781:7feb09773985e932:in</td>\n",
       "      <td>NaN</td>\n",
       "      <td>NaN</td>\n",
       "      <td>1440568076193</td>\n",
       "    </tr>\n",
       "    <tr>\n",
       "      <th>3962130</th>\n",
       "      <td>out</td>\n",
       "      <td>NaN</td>\n",
       "      <td>d16c36ff62b04a89a51e68bd0b9c7a82</td>\n",
       "      <td>25972</td>\n",
       "      <td>781:7feb097739e7b7ec:out</td>\n",
       "      <td>NaN</td>\n",
       "      <td>NaN</td>\n",
       "      <td>1440568074628</td>\n",
       "    </tr>\n",
       "    <tr>\n",
       "      <th>3962131</th>\n",
       "      <td>out</td>\n",
       "      <td>NaN</td>\n",
       "      <td>d0554ae8254cf22edae87bce9230b57e</td>\n",
       "      <td>25981</td>\n",
       "      <td>781:7feb09773aa56e59:out</td>\n",
       "      <td>NaN</td>\n",
       "      <td>NaN</td>\n",
       "      <td>1440568071593</td>\n",
       "    </tr>\n",
       "    <tr>\n",
       "      <th>3962132</th>\n",
       "      <td>out</td>\n",
       "      <td>NaN</td>\n",
       "      <td>028a1f4dbca00ed06814fdda60f1b599</td>\n",
       "      <td>2673</td>\n",
       "      <td>781:7feb09773ac347cb:out</td>\n",
       "      <td>NaN</td>\n",
       "      <td>NaN</td>\n",
       "      <td>1440568071115</td>\n",
       "    </tr>\n",
       "    <tr>\n",
       "      <th>3962133</th>\n",
       "      <td>out</td>\n",
       "      <td>NaN</td>\n",
       "      <td>373b818105152ed3ea1e503a2690ad8e</td>\n",
       "      <td>25971</td>\n",
       "      <td>781:7feb09773ae4ce78:out</td>\n",
       "      <td>NaN</td>\n",
       "      <td>NaN</td>\n",
       "      <td>1440568070579</td>\n",
       "    </tr>\n",
       "    <tr>\n",
       "      <th>3962134</th>\n",
       "      <td>out</td>\n",
       "      <td>True</td>\n",
       "      <td>8b4357a377e3673d44489d67eee696ac</td>\n",
       "      <td>26023</td>\n",
       "      <td>781:7feb09773b1a576d:out</td>\n",
       "      <td>NaN</td>\n",
       "      <td>NaN</td>\n",
       "      <td>1440568069722</td>\n",
       "    </tr>\n",
       "    <tr>\n",
       "      <th>3962135</th>\n",
       "      <td>out</td>\n",
       "      <td>NaN</td>\n",
       "      <td>c96d2af5dde757bf8caa8712818d984a</td>\n",
       "      <td>25906</td>\n",
       "      <td>781:7feb09773b1f2d03:out</td>\n",
       "      <td>NaN</td>\n",
       "      <td>NaN</td>\n",
       "      <td>1440568069645</td>\n",
       "    </tr>\n",
       "  </tbody>\n",
       "</table>\n",
       "</div>"
      ],
      "text/plain": [
       "        area  deny                         device_id  dwell_time  \\\n",
       "3962126  out  True  44689a999123656a443f2d9bdd39d3df       14208   \n",
       "3962127   1f   NaN  028a1f4dbca00ed06814fdda60f1b599        2497   \n",
       "3962128   b1   NaN  028a1f4dbca00ed06814fdda60f1b599         628   \n",
       "3962129   in   NaN  028a1f4dbca00ed06814fdda60f1b599        2497   \n",
       "3962130  out   NaN  d16c36ff62b04a89a51e68bd0b9c7a82       25972   \n",
       "3962131  out   NaN  d0554ae8254cf22edae87bce9230b57e       25981   \n",
       "3962132  out   NaN  028a1f4dbca00ed06814fdda60f1b599        2673   \n",
       "3962133  out   NaN  373b818105152ed3ea1e503a2690ad8e       25971   \n",
       "3962134  out  True  8b4357a377e3673d44489d67eee696ac       26023   \n",
       "3962135  out   NaN  c96d2af5dde757bf8caa8712818d984a       25906   \n",
       "\n",
       "                              key  revisit_count  revisit_period  \\\n",
       "3962126  781:7feb09773901772a:out            NaN             NaN   \n",
       "3962127   781:7feb09773985e932:1f            NaN             NaN   \n",
       "3962128   781:7feb09773985e932:b1            NaN             NaN   \n",
       "3962129   781:7feb09773985e932:in            NaN             NaN   \n",
       "3962130  781:7feb097739e7b7ec:out            NaN             NaN   \n",
       "3962131  781:7feb09773aa56e59:out            NaN             NaN   \n",
       "3962132  781:7feb09773ac347cb:out            NaN             NaN   \n",
       "3962133  781:7feb09773ae4ce78:out            NaN             NaN   \n",
       "3962134  781:7feb09773b1a576d:out            NaN             NaN   \n",
       "3962135  781:7feb09773b1f2d03:out            NaN             NaN   \n",
       "\n",
       "                    ts  \n",
       "3962126  1440568078312  \n",
       "3962127  1440568076193  \n",
       "3962128  1440568076193  \n",
       "3962129  1440568076193  \n",
       "3962130  1440568074628  \n",
       "3962131  1440568071593  \n",
       "3962132  1440568071115  \n",
       "3962133  1440568070579  \n",
       "3962134  1440568069722  \n",
       "3962135  1440568069645  "
      ]
     },
     "execution_count": 7,
     "metadata": {},
     "output_type": "execute_result"
    }
   ],
   "source": [
    "df.tail(10)"
   ]
  },
  {
   "cell_type": "code",
   "execution_count": 8,
   "metadata": {
    "collapsed": false
   },
   "outputs": [
    {
     "name": "stdout",
     "output_type": "stream",
     "text": [
      "1526073\n",
      "(3962136, 8)\n"
     ]
    }
   ],
   "source": [
    "device_ids = df['device_id'].unique()\n",
    "print (len(device_ids))\n",
    "print (df.shape)"
   ]
  },
  {
   "cell_type": "code",
   "execution_count": 9,
   "metadata": {
    "collapsed": false
   },
   "outputs": [
    {
     "name": "stdout",
     "output_type": "stream",
     "text": [
      "<class 'pandas.core.frame.DataFrame'>\n",
      "RangeIndex: 3962136 entries, 0 to 3962135\n",
      "Data columns (total 8 columns):\n",
      "area              object\n",
      "deny              object\n",
      "device_id         object\n",
      "dwell_time        int64\n",
      "key               object\n",
      "revisit_count     float64\n",
      "revisit_period    float64\n",
      "ts                int64\n",
      "dtypes: float64(2), int64(2), object(4)\n",
      "memory usage: 241.8+ MB\n"
     ]
    }
   ],
   "source": [
    "df.info()"
   ]
  },
  {
   "cell_type": "code",
   "execution_count": 10,
   "metadata": {
    "collapsed": false
   },
   "outputs": [
    {
     "data": {
      "text/plain": [
       "85.0        27\n",
       "82.0        27\n",
       "83.0        42\n",
       "84.0        58\n",
       "86.0        94\n",
       "81.0       161\n",
       "87.0       176\n",
       "58.0       259\n",
       "48.0       271\n",
       "56.0       274\n",
       "62.0       281\n",
       "60.0       281\n",
       "42.0       298\n",
       "68.0       309\n",
       "43.0       319\n",
       "64.0       324\n",
       "63.0       328\n",
       "70.0       329\n",
       "80.0       366\n",
       "40.0       367\n",
       "79.0       370\n",
       "39.0       373\n",
       "41.0       378\n",
       "44.0       378\n",
       "50.0       379\n",
       "38.0       379\n",
       "45.0       387\n",
       "34.0       391\n",
       "46.0       412\n",
       "37.0       412\n",
       "         ...  \n",
       "27.0       613\n",
       "22.0       619\n",
       "16.0       671\n",
       "20.0       671\n",
       "19.0       687\n",
       "77.0       747\n",
       "76.0       748\n",
       "57.0       824\n",
       "18.0       854\n",
       "15.0       859\n",
       "78.0       991\n",
       "90.0       993\n",
       "13.0      1034\n",
       "12.0      1130\n",
       "14.0      1134\n",
       "74.0      1428\n",
       "75.0      1513\n",
       "88.0      1619\n",
       "10.0      1622\n",
       "89.0      1654\n",
       "11.0      1661\n",
       "9.0       2330\n",
       "8.0       2696\n",
       "7.0       3670\n",
       "6.0       3944\n",
       "5.0       5158\n",
       "4.0      10239\n",
       "3.0      17591\n",
       "2.0      35772\n",
       "1.0     149888\n",
       "Name: revisit_count, dtype: int64"
      ]
     },
     "execution_count": 10,
     "metadata": {},
     "output_type": "execute_result"
    }
   ],
   "source": [
    "df.loc[:,\"revisit_count\"].value_counts(ascending=True)"
   ]
  },
  {
   "cell_type": "code",
   "execution_count": 11,
   "metadata": {
    "collapsed": false
   },
   "outputs": [
    {
     "data": {
      "text/plain": [
       "04234bfeb6036f5199bac2b583e307f9        1\n",
       "6d5b183844adb44bfbd0519e1eb93b9a        1\n",
       "bd58d6cd32851d53f45acc6a382bfe54        1\n",
       "8ac98255df88f3f33ea1f7625df9be8a        1\n",
       "cded69718e20356597ec31e5aa978cda        1\n",
       "8dfaf6ae4b580dcc98f6f6b7c58135ee        1\n",
       "4b465d14d9c599ea603b7b418cd17e72        1\n",
       "a20d8267b52ac60c64700a372bdcbea0        1\n",
       "ec268ca513e9c2e88a359f862c361f96        1\n",
       "578a609476886aecaa89d2600b60945b        1\n",
       "1e39fb91a85e2cfc22717212817a6abe        1\n",
       "511701ec11cd3ab112b8eb86a84baf2a        1\n",
       "c12f4e5a89578c782ed6c4209db7b4a3        1\n",
       "af3520f84dbbc36700685a4f2488037d        1\n",
       "cadd63f10f03f2ef5cbdfdeecb8244c3        1\n",
       "1726b789e8f75f08901916abaf99b397        1\n",
       "fd5563bc4d4014f690e08be2836d9f05        1\n",
       "387774d214ce3a058f53e7cc48443d10        1\n",
       "771816849a3e8f7ef8287c610785a1c9        1\n",
       "4c18310654d6ef4b472beee0495f53c2        1\n",
       "311841f9b6349bbe0a873f79f58b8eeb        1\n",
       "6e5ec48996a05bb779253ae2805db8ac        1\n",
       "e8045364664c6923b414c61fccf66519        1\n",
       "3a85a56b34cc6734621fe6f6ed748b1d        1\n",
       "05a65efe571cc46c0d3d312d0ba923c1        1\n",
       "b327e55f391879de0dc9ebdc65a033aa        1\n",
       "f0232c7f7e86e19eeb8baaea83aa8be5        1\n",
       "30ae96283583b1f50fd50e4c3660a2be        1\n",
       "40f8a51666308c24f8893ccd9f22ca7b        1\n",
       "507f47eda6b48c1dfb1142d497ee742e        1\n",
       "                                    ...  \n",
       "ff9b6eb2a29795fd04135e7ae550b1b8     2162\n",
       "f076ab559ef130c78ab7123d3807c1fc     2235\n",
       "e529f40f1d247adfa250cb83887a2086     2257\n",
       "d9ec5bf041949ce011c1b3150b1d3871     2394\n",
       "4b86f085545e6439e1afb68126d0ece6     2436\n",
       "812c3399f7dd8e4926e01364a7b7f800     2463\n",
       "839d202915edc20699f08f733d46f030     2674\n",
       "5ea0dd92e5123e6a8d6232cfe542a8b4     2923\n",
       "4f4d40271b9606435793b546b447dc2c     3014\n",
       "76b4e4495f7310c6d053720caf4dc2c3     3109\n",
       "15493306b1ea43056a690005e664d346     3241\n",
       "af3a382fb40b3f14c6141806e56d1a9e     3342\n",
       "ceb0005b0d1e75950118f92c16d9a619     3438\n",
       "e8b2d90a20d53d6a8d6d77d4467cda1b     3486\n",
       "0d4fd55bb363bf6f6f7f8b3342cd0467     3489\n",
       "ca28a4c8953d911f550f28efc7d28706     3514\n",
       "abc379b11e6d867c7df570cd72e508fa     3517\n",
       "1db3536d99f40283b39fa9b3f65de2e7     3563\n",
       "d1f927011e90b5a5ec535158841c51de     3732\n",
       "89867a9ca3bccf50cad7f88dce3d420e     3919\n",
       "62ba29fbc3967fc0e17cf052fd0c9c9c     3922\n",
       "f14146dbd85d847824cca6e2edeb634e     4303\n",
       "7961e337158a5b699a0d6314a7c680b1     4314\n",
       "e0431137960d72a4e08ccc8863a5a4fb     4336\n",
       "33c5ed9c41a8701c06b3732c40c65a1c     4404\n",
       "bc4573cb1e7583be35ef91cc2522de01     4465\n",
       "39cea245c27b942333494864db1acb6d     5440\n",
       "44689a999123656a443f2d9bdd39d3df     9296\n",
       "cae0f3cb170db4ae18897d6af8497c38     9434\n",
       "f6258edf9145d1c0404e6f3d7a27a29d    13196\n",
       "Name: device_id, dtype: int64"
      ]
     },
     "execution_count": 11,
     "metadata": {},
     "output_type": "execute_result"
    }
   ],
   "source": [
    "df.loc[:,\"device_id\"].value_counts(ascending=True)"
   ]
  },
  {
   "cell_type": "code",
   "execution_count": 12,
   "metadata": {
    "collapsed": false
   },
   "outputs": [
    {
     "data": {
      "text/plain": [
       "33780          1\n",
       "37798          1\n",
       "15283          1\n",
       "19389          1\n",
       "21438          1\n",
       "13235          1\n",
       "10130          1\n",
       "31674          1\n",
       "29629          1\n",
       "17341          1\n",
       "9138           1\n",
       "31673          1\n",
       "25530          1\n",
       "17342          1\n",
       "35750          1\n",
       "9139           1\n",
       "44931          1\n",
       "13232          1\n",
       "19386          1\n",
       "21433          1\n",
       "23480          1\n",
       "7085           1\n",
       "32665          1\n",
       "37820          1\n",
       "25507          1\n",
       "9131           1\n",
       "30616          1\n",
       "35774          1\n",
       "41892          1\n",
       "15287          1\n",
       "          ...   \n",
       "29         19215\n",
       "27         19601\n",
       "26         19919\n",
       "25         20760\n",
       "24         21552\n",
       "23         21656\n",
       "31         22161\n",
       "18         22696\n",
       "22         22894\n",
       "17         23325\n",
       "16         24343\n",
       "30         24518\n",
       "14         24580\n",
       "19         24784\n",
       "13         25120\n",
       "15         25490\n",
       "21         27350\n",
       "12         28095\n",
       "9          31467\n",
       "11         32635\n",
       "20         33168\n",
       "10         33727\n",
       "8          34037\n",
       "7          39512\n",
       "6          47461\n",
       "5          61582\n",
       "4          69062\n",
       "2          72852\n",
       "3          90283\n",
       "0        1638547\n",
       "Name: dwell_time, dtype: int64"
      ]
     },
     "execution_count": 12,
     "metadata": {},
     "output_type": "execute_result"
    }
   ],
   "source": [
    "df.loc[:,\"dwell_time\"].value_counts(ascending=True)"
   ]
  },
  {
   "cell_type": "code",
   "execution_count": 13,
   "metadata": {
    "collapsed": false
   },
   "outputs": [
    {
     "data": {
      "text/plain": [
       "b1-left-2          321\n",
       "left-2            2375\n",
       "b1-left-3         2424\n",
       "b1-left-1         2529\n",
       "1f-left-1         3431\n",
       "b1-center-1       3487\n",
       "b1-center-2       3558\n",
       "b1-right          4061\n",
       "left-test         4987\n",
       "right-test        6329\n",
       "1f-left-2         6956\n",
       "1f-right-1       10006\n",
       "1f-right-2       18871\n",
       "b1               34315\n",
       "1f               64512\n",
       "in               82912\n",
       "out            3711062\n",
       "Name: area, dtype: int64"
      ]
     },
     "execution_count": 13,
     "metadata": {},
     "output_type": "execute_result"
    }
   ],
   "source": [
    "df.loc[:,\"area\"].value_counts(ascending=True)"
   ]
  },
  {
   "cell_type": "code",
   "execution_count": null,
   "metadata": {
    "collapsed": true
   },
   "outputs": [],
   "source": []
  },
  {
   "cell_type": "code",
   "execution_count": null,
   "metadata": {
    "collapsed": true
   },
   "outputs": [],
   "source": []
  }
 ],
 "metadata": {
  "anaconda-cloud": {},
  "kernelspec": {
   "display_name": "Python [py35]",
   "language": "python",
   "name": "Python [py35]"
  },
  "language_info": {
   "codemirror_mode": {
    "name": "ipython",
    "version": 3
   },
   "file_extension": ".py",
   "mimetype": "text/x-python",
   "name": "python",
   "nbconvert_exporter": "python",
   "pygments_lexer": "ipython3",
   "version": "3.5.2"
  }
 },
 "nbformat": 4,
 "nbformat_minor": 0
}

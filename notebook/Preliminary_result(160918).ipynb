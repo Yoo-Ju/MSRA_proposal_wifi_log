{
 "cells": [
  {
   "cell_type": "markdown",
   "metadata": {},
   "source": [
    "### 연구 목적: Indoor moving patterns을 이용하여 revisit intention을 예측.\n",
    "\n",
    "크롤링한 User들의 Wi-Fi log을, moving pattern별로 indexing한 후, 적합한 feature들을 선별하여, 어떤 moving pattern이 추후 customer revisit과 관련이 있는지 분석하고자 함.\n",
    "\n",
    "#### Feature description:\n",
    "특정 moving pattern의 revisit intention을 예측하는 supervised learning(classification) 모델에 이용될 feature들\n",
    "\n",
    "**1. Feature 1 (History)**\n",
    "    1. 해당 moving pattern이 일어난 시점까지 customer가 방문한 횟수: new_visit_count\n",
    "**2. Feature 2-7 (Basic stats)**\n",
    "    2. 해당 moving pattern에서 Wi-Fi에 연결된 area의 총 개수: num_logs\n",
    "    3. 해당 moving pattern에서 Wi-Fi에 잡힌 총 시간(중복 포함 - 특정 시점에 다수의 Wi-Fi에 연결할 경우 시간을 모두 합함): total_dwell_time\n",
    "    4. 해당 moving pattern에서 dwell_time > 100인 indoor area(stay point) 개수: num_sp_100\n",
    "    5. 해당 moving pattern에서 customer가 방문한 indoor area의 총 개수 중에서 dwell_time > 100인 확률(방문한 area 중에서 stay point가 차지하는 비율): prob_dwell_100\n",
    "    6. 해당 moving pattern에서 stay points에서 보낸 시간의 합(중복 포함 - 특정 시점에 다수의 Wi-Fi에 연결할 경우 시간을 모두 합함): time_sp_100\n",
    "    7. 해당 moving pattern에서 dwell_time > 100인 indoor area들의 variance: std_sp_100\n",
    "**3. Feature 8-14**\n",
    "    8. 해당 moving pattern이 발생한 요일(Categorical variable): One-hot-encoding을 이용하여 Mon-Sun 7개의 feature(binary variable)로 표현\n",
    "**4. Feature 15-137 (Trajectory)**\n",
    "    9. Trajectory의 uni-gram, bi-gram features ('1f', '1f 1f', '1f 1f-inner', '1f 1f-left', '1f 1f-right', '1f 2f' ...) - 해당 moving pattern에 각 unigram 및 bigram이 몇 번 나왔는지 카운트\n",
    "\n",
    "\n",
    "#### Details\n",
    "1. Moving pattern: 한 유저가 하루 동안 매장 안에서 돌아다닌 와이파이 로그\n",
    "2. Simple trajectory: Moving pattern에서 area를 시간 순서대로 나열한 sequence  (e.g., out,in,b1,b1-left-1,1f,out,in,b1-left)\n",
    "2. Raw data의 경우 wi-fi에 찍힌 로그(어떤 device_id가 어떤 장소의 wi-fi 수신기에 몇시부터 몇초간 접속중이었고, 직원인지의 여부와, 현재까지의 revisit count와 가장 최근의 revisit interval)가 하나의 row로 이루어져 있다. 고로, 하나의 moving pattern에 대한 log가 여러 개로 이루어져 있는데, 로그의 날짜와 device_id를 조합하여 key로 삼고 aggregate하여 하나의 moving pattern이 하나의 row로 나타낼 수 있도록 함)\n",
    "3. Raw data의 revisit_count 데이터를 보면 꼬인 경우가 많았다, 같은 device_id인데 오늘까지 revisit count가 69였는데 그다음날 7이 된다거나, 그래서 이 데이터를 이용하지 않고 새로 카운트해 주었다.\n",
    "4. revisit_intention은 binary variable이며 우리가 예측하고자 하는 label이다, 매장 방문 이후 n일 (n=90) 이내에 다시 매장 방문 내역이 있다면 revisit_intention = 1 로 표시해 주었다.\n",
    "5. 매장 방문의 정의: 특정 일에 특정 유저의 moving pattern이 out으로만 이루어진 로그가 아니면 매장을 방문하였다고 함. out만 여러번 있는 로그의 경우는 지나가는 행인이라고 생각하여 매장을 방문하지 않았다고 간주. (매장 방문 예시1: out,in,1f,1f-right  매장 방문 예시2: out,1f,1f-right,1f,out,2f,1f)\n",
    "6. 따라서 어떤 유저의 timestamp가 가장 오래 된 방문을 가장 첫 방문이라고 가정하고, 그 다음 매장 방문이 발생하면 revisit_count를 1씩 더해 주었다, 이 때 각 방문 사이의 간격은 적어도 1일 이상이다. revisit_count는 각 방문 패턴의 history 정보를 누락시키지 않는다는 목적으로 feature로 삼기로 했다.\n",
    "7. 참고: User-ID별로 indexing해서 유저별 revisit_count를 naive하게 예측한 이전 모델은 supervised_model(basic_features).ipynb 에 정리\n",
    "\n",
    "#### 데이터\n",
    "1. 786번 매장(코오롱 문정직영점) 데이터\n",
    "    1. 직원이라고 한번이라도 로그에 찍힌 device_id는 제거\n",
    "    2. 각 moving pattern별로 재인덱싱 이후 세어본 정식매장 방문 횟수(traj에 in을 포함한 경우) 22,642개(0: 19,953 vs 1: 2,689, revisit_intention 여부) \n",
    "    3. 위 데이터의 revisit intention label 비율을 50:50로 조절한 총 5,378개(0: 2,689 vs 1: 2,689)의 moving patterns을 최종으로 이용함.\n",
    "\n",
    "####  Preliminary results\n",
    "<pre>\n",
    "* 10-fold CV 결과의 평균값\n",
    "    * Area Under Curve\n",
    "        * 3 Nearest Neighbors 0.7656\n",
    "        * AdaBoost            0.8620\n",
    "        * Naive Bayes         0.8536\n",
    "        * Decision Tree       0.8636\n",
    "        * Random Forest       0.8654\n",
    "    * F1\n",
    "        * Naive Bayes         0.5718\n",
    "        * 3 Nearest Neighbors 0.7125\n",
    "        * Decision Tree       0.7381\n",
    "        * AdaBoost            0.7533\n",
    "        * Random Forest       0.7661\n",
    "        \n",
    "* XGBOOST 결과\n",
    "    *    train-auc:     0.8997\t eval-auc:     0.8602\n",
    "         train-logloss: 0.3817\t eval-logloss: 0.4303\n",
    "         train-error:   0.2099\t eval-error:   0.2340\t\t\n",
    "      \n",
    "    *    test-auc:  0.900915750916\n",
    "</pre>"
   ]
  },
  {
   "cell_type": "code",
   "execution_count": 1,
   "metadata": {
    "collapsed": true
   },
   "outputs": [],
   "source": [
    "### import libraries\n",
    "import pandas as pd\n",
    "import datetime\n",
    "import numpy as np\n",
    "import re"
   ]
  },
  {
   "cell_type": "code",
   "execution_count": 2,
   "metadata": {
    "collapsed": false
   },
   "outputs": [],
   "source": [
    "### 각 moving pattern별로 재인덱싱한 데이터 로드\n",
    "trajs_combined = pd.read_pickle(\"../data/786/786_trajs_combined.p\")"
   ]
  },
  {
   "cell_type": "code",
   "execution_count": 3,
   "metadata": {
    "collapsed": false
   },
   "outputs": [
    {
     "name": "stdout",
     "output_type": "stream",
     "text": [
      "(22642, 18)\n"
     ]
    },
    {
     "data": {
      "text/html": [
       "<div>\n",
       "<table border=\"1\" class=\"dataframe\">\n",
       "  <thead>\n",
       "    <tr style=\"text-align: right;\">\n",
       "      <th></th>\n",
       "      <th>date</th>\n",
       "      <th>device_id</th>\n",
       "      <th>traj</th>\n",
       "      <th>new_visit_count</th>\n",
       "      <th>num_logs</th>\n",
       "      <th>total_dwell_time</th>\n",
       "      <th>num_sp_100</th>\n",
       "      <th>prob_dwell_100</th>\n",
       "      <th>time_sp_100</th>\n",
       "      <th>std_sp_100</th>\n",
       "      <th>Fri</th>\n",
       "      <th>Mon</th>\n",
       "      <th>Sat</th>\n",
       "      <th>Sun</th>\n",
       "      <th>Thu</th>\n",
       "      <th>Tue</th>\n",
       "      <th>Wed</th>\n",
       "      <th>revisit_intention</th>\n",
       "    </tr>\n",
       "  </thead>\n",
       "  <tbody>\n",
       "    <tr>\n",
       "      <th>16675_02614c7588f7f8eaa0d3b9047ac08410</th>\n",
       "      <td>16675.0</td>\n",
       "      <td>02614c7588f7f8eaa0d3b9047ac08410</td>\n",
       "      <td>out,in,1f,1f-right,2f-left,2f,2f-right</td>\n",
       "      <td>1.0</td>\n",
       "      <td>7</td>\n",
       "      <td>1267</td>\n",
       "      <td>3.0</td>\n",
       "      <td>0.500000</td>\n",
       "      <td>354.0</td>\n",
       "      <td>10.000000</td>\n",
       "      <td>1.0</td>\n",
       "      <td>0.0</td>\n",
       "      <td>0.0</td>\n",
       "      <td>0.0</td>\n",
       "      <td>0.0</td>\n",
       "      <td>0.0</td>\n",
       "      <td>0.0</td>\n",
       "      <td>0.0</td>\n",
       "    </tr>\n",
       "    <tr>\n",
       "      <th>16675_028a1f4dbca00ed06814fdda60f1b599</th>\n",
       "      <td>16675.0</td>\n",
       "      <td>028a1f4dbca00ed06814fdda60f1b599</td>\n",
       "      <td>out,in,3f,2f,2f-right,2f-inner,2f-left,1f,1f-r...</td>\n",
       "      <td>1.0</td>\n",
       "      <td>11</td>\n",
       "      <td>7139</td>\n",
       "      <td>7.0</td>\n",
       "      <td>0.700000</td>\n",
       "      <td>3553.0</td>\n",
       "      <td>362.141251</td>\n",
       "      <td>1.0</td>\n",
       "      <td>0.0</td>\n",
       "      <td>0.0</td>\n",
       "      <td>0.0</td>\n",
       "      <td>0.0</td>\n",
       "      <td>0.0</td>\n",
       "      <td>0.0</td>\n",
       "      <td>0.0</td>\n",
       "    </tr>\n",
       "    <tr>\n",
       "      <th>16675_062c73a8b307fd05f6af2472a35671ef</th>\n",
       "      <td>16675.0</td>\n",
       "      <td>062c73a8b307fd05f6af2472a35671ef</td>\n",
       "      <td>out,in,1f,1f-inner</td>\n",
       "      <td>1.0</td>\n",
       "      <td>4</td>\n",
       "      <td>2189</td>\n",
       "      <td>2.0</td>\n",
       "      <td>0.666667</td>\n",
       "      <td>1130.0</td>\n",
       "      <td>0.000000</td>\n",
       "      <td>1.0</td>\n",
       "      <td>0.0</td>\n",
       "      <td>0.0</td>\n",
       "      <td>0.0</td>\n",
       "      <td>0.0</td>\n",
       "      <td>0.0</td>\n",
       "      <td>0.0</td>\n",
       "      <td>0.0</td>\n",
       "    </tr>\n",
       "    <tr>\n",
       "      <th>16675_06c041f68ec481883941d47d99d6903f</th>\n",
       "      <td>16675.0</td>\n",
       "      <td>06c041f68ec481883941d47d99d6903f</td>\n",
       "      <td>out,in,3f,in,1f,out</td>\n",
       "      <td>1.0</td>\n",
       "      <td>6</td>\n",
       "      <td>4259</td>\n",
       "      <td>4.0</td>\n",
       "      <td>1.000000</td>\n",
       "      <td>1286.0</td>\n",
       "      <td>159.307878</td>\n",
       "      <td>1.0</td>\n",
       "      <td>0.0</td>\n",
       "      <td>0.0</td>\n",
       "      <td>0.0</td>\n",
       "      <td>0.0</td>\n",
       "      <td>0.0</td>\n",
       "      <td>0.0</td>\n",
       "      <td>0.0</td>\n",
       "    </tr>\n",
       "    <tr>\n",
       "      <th>16675_0a47ed78e921824cf54dddcf49ae2911</th>\n",
       "      <td>16675.0</td>\n",
       "      <td>0a47ed78e921824cf54dddcf49ae2911</td>\n",
       "      <td>out,in</td>\n",
       "      <td>1.0</td>\n",
       "      <td>2</td>\n",
       "      <td>2636</td>\n",
       "      <td>1.0</td>\n",
       "      <td>1.000000</td>\n",
       "      <td>457.0</td>\n",
       "      <td>NaN</td>\n",
       "      <td>1.0</td>\n",
       "      <td>0.0</td>\n",
       "      <td>0.0</td>\n",
       "      <td>0.0</td>\n",
       "      <td>0.0</td>\n",
       "      <td>0.0</td>\n",
       "      <td>0.0</td>\n",
       "      <td>1.0</td>\n",
       "    </tr>\n",
       "  </tbody>\n",
       "</table>\n",
       "</div>"
      ],
      "text/plain": [
       "                                           date  \\\n",
       "16675_02614c7588f7f8eaa0d3b9047ac08410  16675.0   \n",
       "16675_028a1f4dbca00ed06814fdda60f1b599  16675.0   \n",
       "16675_062c73a8b307fd05f6af2472a35671ef  16675.0   \n",
       "16675_06c041f68ec481883941d47d99d6903f  16675.0   \n",
       "16675_0a47ed78e921824cf54dddcf49ae2911  16675.0   \n",
       "\n",
       "                                                               device_id  \\\n",
       "16675_02614c7588f7f8eaa0d3b9047ac08410  02614c7588f7f8eaa0d3b9047ac08410   \n",
       "16675_028a1f4dbca00ed06814fdda60f1b599  028a1f4dbca00ed06814fdda60f1b599   \n",
       "16675_062c73a8b307fd05f6af2472a35671ef  062c73a8b307fd05f6af2472a35671ef   \n",
       "16675_06c041f68ec481883941d47d99d6903f  06c041f68ec481883941d47d99d6903f   \n",
       "16675_0a47ed78e921824cf54dddcf49ae2911  0a47ed78e921824cf54dddcf49ae2911   \n",
       "\n",
       "                                                                                     traj  \\\n",
       "16675_02614c7588f7f8eaa0d3b9047ac08410             out,in,1f,1f-right,2f-left,2f,2f-right   \n",
       "16675_028a1f4dbca00ed06814fdda60f1b599  out,in,3f,2f,2f-right,2f-inner,2f-left,1f,1f-r...   \n",
       "16675_062c73a8b307fd05f6af2472a35671ef                                 out,in,1f,1f-inner   \n",
       "16675_06c041f68ec481883941d47d99d6903f                                out,in,3f,in,1f,out   \n",
       "16675_0a47ed78e921824cf54dddcf49ae2911                                             out,in   \n",
       "\n",
       "                                        new_visit_count  num_logs  \\\n",
       "16675_02614c7588f7f8eaa0d3b9047ac08410              1.0         7   \n",
       "16675_028a1f4dbca00ed06814fdda60f1b599              1.0        11   \n",
       "16675_062c73a8b307fd05f6af2472a35671ef              1.0         4   \n",
       "16675_06c041f68ec481883941d47d99d6903f              1.0         6   \n",
       "16675_0a47ed78e921824cf54dddcf49ae2911              1.0         2   \n",
       "\n",
       "                                        total_dwell_time  num_sp_100  \\\n",
       "16675_02614c7588f7f8eaa0d3b9047ac08410              1267         3.0   \n",
       "16675_028a1f4dbca00ed06814fdda60f1b599              7139         7.0   \n",
       "16675_062c73a8b307fd05f6af2472a35671ef              2189         2.0   \n",
       "16675_06c041f68ec481883941d47d99d6903f              4259         4.0   \n",
       "16675_0a47ed78e921824cf54dddcf49ae2911              2636         1.0   \n",
       "\n",
       "                                        prob_dwell_100  time_sp_100  \\\n",
       "16675_02614c7588f7f8eaa0d3b9047ac08410        0.500000        354.0   \n",
       "16675_028a1f4dbca00ed06814fdda60f1b599        0.700000       3553.0   \n",
       "16675_062c73a8b307fd05f6af2472a35671ef        0.666667       1130.0   \n",
       "16675_06c041f68ec481883941d47d99d6903f        1.000000       1286.0   \n",
       "16675_0a47ed78e921824cf54dddcf49ae2911        1.000000        457.0   \n",
       "\n",
       "                                        std_sp_100  Fri  Mon  Sat  Sun  Thu  \\\n",
       "16675_02614c7588f7f8eaa0d3b9047ac08410   10.000000  1.0  0.0  0.0  0.0  0.0   \n",
       "16675_028a1f4dbca00ed06814fdda60f1b599  362.141251  1.0  0.0  0.0  0.0  0.0   \n",
       "16675_062c73a8b307fd05f6af2472a35671ef    0.000000  1.0  0.0  0.0  0.0  0.0   \n",
       "16675_06c041f68ec481883941d47d99d6903f  159.307878  1.0  0.0  0.0  0.0  0.0   \n",
       "16675_0a47ed78e921824cf54dddcf49ae2911         NaN  1.0  0.0  0.0  0.0  0.0   \n",
       "\n",
       "                                        Tue  Wed  revisit_intention  \n",
       "16675_02614c7588f7f8eaa0d3b9047ac08410  0.0  0.0                0.0  \n",
       "16675_028a1f4dbca00ed06814fdda60f1b599  0.0  0.0                0.0  \n",
       "16675_062c73a8b307fd05f6af2472a35671ef  0.0  0.0                0.0  \n",
       "16675_06c041f68ec481883941d47d99d6903f  0.0  0.0                0.0  \n",
       "16675_0a47ed78e921824cf54dddcf49ae2911  0.0  0.0                1.0  "
      ]
     },
     "execution_count": 3,
     "metadata": {},
     "output_type": "execute_result"
    }
   ],
   "source": [
    "print(trajs_combined.shape)\n",
    "trajs_combined.head(5)"
   ]
  },
  {
   "cell_type": "markdown",
   "metadata": {},
   "source": [
    "Revisit intention이 있는 경우와 없는 경우 모두 비슷한 trajectories를 가지고 있어서, history를 고려하지 않는다고 할 때, indoor moving pattern만으로 classification이 가능할 지 걱정이 된다 (아래 참고)"
   ]
  },
  {
   "cell_type": "code",
   "execution_count": 4,
   "metadata": {
    "collapsed": false
   },
   "outputs": [
    {
     "name": "stdout",
     "output_type": "stream",
     "text": [
      "Top 10 trajectories with revisit intention in 3 months\n",
      " out,in,1f             335\n",
      "out,in                228\n",
      "out,in,2f              92\n",
      "out,in,1f,1f-right     78\n",
      "out,in,1f,out          69\n",
      "out,out,in,1f          59\n",
      "out,in,1f-right,1f     47\n",
      "out,out,in             40\n",
      "out,in,out             38\n",
      "out,in,1f,1f-inner     32\n",
      "Name: traj, dtype: int64\n",
      " \n",
      "Top 10 trajectories with no revisit intention in 3 months\n",
      " out,in,1f             3078\n",
      "out,in                2196\n",
      "out,in,2f              794\n",
      "out,in,1f,out          663\n",
      "out,in,1f,1f-right     624\n",
      "out,out,in,1f          565\n",
      "out,in,out             446\n",
      "out,out,in             435\n",
      "out,in,1f-right,1f     296\n",
      "out,in,1f,1f-inner     290\n",
      "Name: traj, dtype: int64\n"
     ]
    }
   ],
   "source": [
    "### 어떤 trajectories가 있나 확인 (revisit_intention == 1인 경우)\n",
    "print('Top 10 trajectories with revisit intention in 3 months\\n', trajs_combined.loc[trajs_combined['revisit_intention'] == 1]['traj'].value_counts().head(10))\n",
    "print(' ')\n",
    "### 어떤 trajectories가 있나 확인 (revisit_intention == 0인 경우)\n",
    "print('Top 10 trajectories with no revisit intention in 3 months\\n', trajs_combined.loc[trajs_combined['revisit_intention'] == 0]['traj'].value_counts().head(10))"
   ]
  },
  {
   "cell_type": "code",
   "execution_count": 5,
   "metadata": {
    "collapsed": false
   },
   "outputs": [
    {
     "name": "stdout",
     "output_type": "stream",
     "text": [
      "1.0    16036\n",
      "2.0     1932\n",
      "3.0      914\n",
      "Name: new_visit_count, dtype: int64\n"
     ]
    },
    {
     "data": {
      "text/plain": [
       "<matplotlib.axes._subplots.AxesSubplot at 0x11338d4a8>"
      ]
     },
     "execution_count": 5,
     "metadata": {},
     "output_type": "execute_result"
    },
    {
     "data": {
      "image/png": "[encoded data removed]",
      "text/plain": [
       "<matplotlib.figure.Figure at 0x11230f780>"
      ]
     },
     "metadata": {},
     "output_type": "display_data"
    }
   ],
   "source": [
    "# 재방문 횟수별 사람 수\n",
    "customer_revisit_count = trajs_combined.groupby(['device_id'])['new_visit_count'].max().value_counts().sort_index()\n",
    "print (customer_revisit_count)\n",
    "\n",
    "%matplotlib inline \n",
    "customer_revisit_count.plot(kind='bar', logy=True)"
   ]
  },
  {
   "cell_type": "markdown",
   "metadata": {},
   "source": [
    "우리가 알고 싶은 방문객의 방문 횟수 범위는 3번 이하였다. 원본 데이터의 방문 횟수는 아래와 같다\n",
    "![](2016-09-18_10.07.01.png)"
   ]
  },
  {
   "cell_type": "markdown",
   "metadata": {},
   "source": [
    "### Final data preprocessing\n",
    "라벨 비율 맞추기"
   ]
  },
  {
   "cell_type": "code",
   "execution_count": 6,
   "metadata": {
    "collapsed": false
   },
   "outputs": [
    {
     "name": "stdout",
     "output_type": "stream",
     "text": [
      "(2689, 18)\n",
      "(19953, 18)\n",
      "(5378, 18)\n"
     ]
    }
   ],
   "source": [
    "## Revisit intention 비율을 50대 50으로 맞춤 (sampling)\n",
    "# trajs_combined = trajs_combined.loc[trajs_combined['prob_deny']==0]\n",
    "trajs_1 = trajs_combined.loc[trajs_combined['revisit_intention']==1]\n",
    "trajs_0 = trajs_combined.loc[trajs_combined['revisit_intention']==0]\n",
    "\n",
    "new_trajs_0 = trajs_0.iloc[np.random.permutation(len(trajs_0))][:trajs_1.shape[0]]  ## trajs_1의 크기에 맞게 trajs_0을 랜덤 샘플링.\n",
    "\n",
    "# 1:1 비율의 dataframe 만들기\n",
    "trajs_combined_balanced = pd.concat([trajs_1, new_trajs_0])\n",
    "trajs_combined_balanced = trajs_combined_balanced.sample(frac=1)  ## reshuffle after concatenation\n",
    "\n",
    "print(trajs_1.shape)\n",
    "print(trajs_0.shape)\n",
    "print(trajs_combined_balanced.shape) ## 이용할 데이터"
   ]
  },
  {
   "cell_type": "code",
   "execution_count": 13,
   "metadata": {
    "collapsed": false
   },
   "outputs": [
    {
     "data": {
      "text/html": [
       "<div>\n",
       "<table border=\"1\" class=\"dataframe\">\n",
       "  <thead>\n",
       "    <tr style=\"text-align: right;\">\n",
       "      <th></th>\n",
       "      <th>date</th>\n",
       "      <th>device_id</th>\n",
       "      <th>traj</th>\n",
       "      <th>new_visit_count</th>\n",
       "      <th>num_logs</th>\n",
       "      <th>total_dwell_time</th>\n",
       "      <th>num_sp_100</th>\n",
       "      <th>prob_dwell_100</th>\n",
       "      <th>time_sp_100</th>\n",
       "      <th>std_sp_100</th>\n",
       "      <th>Fri</th>\n",
       "      <th>Mon</th>\n",
       "      <th>Sat</th>\n",
       "      <th>Sun</th>\n",
       "      <th>Thu</th>\n",
       "      <th>Tue</th>\n",
       "      <th>Wed</th>\n",
       "      <th>revisit_intention</th>\n",
       "    </tr>\n",
       "  </thead>\n",
       "  <tbody>\n",
       "    <tr>\n",
       "      <th>16726_7a19471f288bdc5195cc2fc2e4a922bb</th>\n",
       "      <td>16726.0</td>\n",
       "      <td>7a19471f288bdc5195cc2fc2e4a922bb</td>\n",
       "      <td>out,in,1f-left,1f,out,in,2f</td>\n",
       "      <td>1.0</td>\n",
       "      <td>7</td>\n",
       "      <td>1958</td>\n",
       "      <td>5.0</td>\n",
       "      <td>1.000000</td>\n",
       "      <td>862.0</td>\n",
       "      <td>62.624276</td>\n",
       "      <td>0.0</td>\n",
       "      <td>0.0</td>\n",
       "      <td>0.0</td>\n",
       "      <td>1.0</td>\n",
       "      <td>0.0</td>\n",
       "      <td>0.0</td>\n",
       "      <td>0.0</td>\n",
       "      <td>0.0</td>\n",
       "    </tr>\n",
       "    <tr>\n",
       "      <th>16878_43292c0e3ec0b0de1c4ff00b0189d01d</th>\n",
       "      <td>16878.0</td>\n",
       "      <td>43292c0e3ec0b0de1c4ff00b0189d01d</td>\n",
       "      <td>out,in,3f,2f,1f-right,1f</td>\n",
       "      <td>2.0</td>\n",
       "      <td>6</td>\n",
       "      <td>1646</td>\n",
       "      <td>1.0</td>\n",
       "      <td>0.200000</td>\n",
       "      <td>663.0</td>\n",
       "      <td>0.000000</td>\n",
       "      <td>1.0</td>\n",
       "      <td>0.0</td>\n",
       "      <td>0.0</td>\n",
       "      <td>0.0</td>\n",
       "      <td>0.0</td>\n",
       "      <td>0.0</td>\n",
       "      <td>0.0</td>\n",
       "      <td>0.0</td>\n",
       "    </tr>\n",
       "    <tr>\n",
       "      <th>16691_abfbc44a35880d9d2dade96d561a82cc</th>\n",
       "      <td>16691.0</td>\n",
       "      <td>abfbc44a35880d9d2dade96d561a82cc</td>\n",
       "      <td>out,in,1f-left,1f</td>\n",
       "      <td>1.0</td>\n",
       "      <td>4</td>\n",
       "      <td>144</td>\n",
       "      <td>0.0</td>\n",
       "      <td>0.000000</td>\n",
       "      <td>0.0</td>\n",
       "      <td>0.000000</td>\n",
       "      <td>0.0</td>\n",
       "      <td>0.0</td>\n",
       "      <td>0.0</td>\n",
       "      <td>1.0</td>\n",
       "      <td>0.0</td>\n",
       "      <td>0.0</td>\n",
       "      <td>0.0</td>\n",
       "      <td>0.0</td>\n",
       "    </tr>\n",
       "    <tr>\n",
       "      <th>16775_ae0c90bc80f6e6383f6f3af03ec1e16d</th>\n",
       "      <td>16775.0</td>\n",
       "      <td>ae0c90bc80f6e6383f6f3af03ec1e16d</td>\n",
       "      <td>out,in</td>\n",
       "      <td>1.0</td>\n",
       "      <td>2</td>\n",
       "      <td>10092</td>\n",
       "      <td>1.0</td>\n",
       "      <td>1.000000</td>\n",
       "      <td>537.0</td>\n",
       "      <td>0.000000</td>\n",
       "      <td>0.0</td>\n",
       "      <td>0.0</td>\n",
       "      <td>0.0</td>\n",
       "      <td>1.0</td>\n",
       "      <td>0.0</td>\n",
       "      <td>0.0</td>\n",
       "      <td>0.0</td>\n",
       "      <td>0.0</td>\n",
       "    </tr>\n",
       "    <tr>\n",
       "      <th>16691_89811c043ce8f0e29215d8e2408a18c3</th>\n",
       "      <td>16691.0</td>\n",
       "      <td>89811c043ce8f0e29215d8e2408a18c3</td>\n",
       "      <td>out,out,out,out,in,1f,1f-left,1f-inner,1f-righ...</td>\n",
       "      <td>1.0</td>\n",
       "      <td>13</td>\n",
       "      <td>2828</td>\n",
       "      <td>4.0</td>\n",
       "      <td>0.444444</td>\n",
       "      <td>1192.0</td>\n",
       "      <td>141.121697</td>\n",
       "      <td>0.0</td>\n",
       "      <td>0.0</td>\n",
       "      <td>0.0</td>\n",
       "      <td>1.0</td>\n",
       "      <td>0.0</td>\n",
       "      <td>0.0</td>\n",
       "      <td>0.0</td>\n",
       "      <td>1.0</td>\n",
       "    </tr>\n",
       "  </tbody>\n",
       "</table>\n",
       "</div>"
      ],
      "text/plain": [
       "                                           date  \\\n",
       "16726_7a19471f288bdc5195cc2fc2e4a922bb  16726.0   \n",
       "16878_43292c0e3ec0b0de1c4ff00b0189d01d  16878.0   \n",
       "16691_abfbc44a35880d9d2dade96d561a82cc  16691.0   \n",
       "16775_ae0c90bc80f6e6383f6f3af03ec1e16d  16775.0   \n",
       "16691_89811c043ce8f0e29215d8e2408a18c3  16691.0   \n",
       "\n",
       "                                                               device_id  \\\n",
       "16726_7a19471f288bdc5195cc2fc2e4a922bb  7a19471f288bdc5195cc2fc2e4a922bb   \n",
       "16878_43292c0e3ec0b0de1c4ff00b0189d01d  43292c0e3ec0b0de1c4ff00b0189d01d   \n",
       "16691_abfbc44a35880d9d2dade96d561a82cc  abfbc44a35880d9d2dade96d561a82cc   \n",
       "16775_ae0c90bc80f6e6383f6f3af03ec1e16d  ae0c90bc80f6e6383f6f3af03ec1e16d   \n",
       "16691_89811c043ce8f0e29215d8e2408a18c3  89811c043ce8f0e29215d8e2408a18c3   \n",
       "\n",
       "                                                                                     traj  \\\n",
       "16726_7a19471f288bdc5195cc2fc2e4a922bb                        out,in,1f-left,1f,out,in,2f   \n",
       "16878_43292c0e3ec0b0de1c4ff00b0189d01d                           out,in,3f,2f,1f-right,1f   \n",
       "16691_abfbc44a35880d9d2dade96d561a82cc                                  out,in,1f-left,1f   \n",
       "16775_ae0c90bc80f6e6383f6f3af03ec1e16d                                             out,in   \n",
       "16691_89811c043ce8f0e29215d8e2408a18c3  out,out,out,out,in,1f,1f-left,1f-inner,1f-righ...   \n",
       "\n",
       "                                        new_visit_count  num_logs  \\\n",
       "16726_7a19471f288bdc5195cc2fc2e4a922bb              1.0         7   \n",
       "16878_43292c0e3ec0b0de1c4ff00b0189d01d              2.0         6   \n",
       "16691_abfbc44a35880d9d2dade96d561a82cc              1.0         4   \n",
       "16775_ae0c90bc80f6e6383f6f3af03ec1e16d              1.0         2   \n",
       "16691_89811c043ce8f0e29215d8e2408a18c3              1.0        13   \n",
       "\n",
       "                                        total_dwell_time  num_sp_100  \\\n",
       "16726_7a19471f288bdc5195cc2fc2e4a922bb              1958         5.0   \n",
       "16878_43292c0e3ec0b0de1c4ff00b0189d01d              1646         1.0   \n",
       "16691_abfbc44a35880d9d2dade96d561a82cc               144         0.0   \n",
       "16775_ae0c90bc80f6e6383f6f3af03ec1e16d             10092         1.0   \n",
       "16691_89811c043ce8f0e29215d8e2408a18c3              2828         4.0   \n",
       "\n",
       "                                        prob_dwell_100  time_sp_100  \\\n",
       "16726_7a19471f288bdc5195cc2fc2e4a922bb        1.000000        862.0   \n",
       "16878_43292c0e3ec0b0de1c4ff00b0189d01d        0.200000        663.0   \n",
       "16691_abfbc44a35880d9d2dade96d561a82cc        0.000000          0.0   \n",
       "16775_ae0c90bc80f6e6383f6f3af03ec1e16d        1.000000        537.0   \n",
       "16691_89811c043ce8f0e29215d8e2408a18c3        0.444444       1192.0   \n",
       "\n",
       "                                        std_sp_100  Fri  Mon  Sat  Sun  Thu  \\\n",
       "16726_7a19471f288bdc5195cc2fc2e4a922bb   62.624276  0.0  0.0  0.0  1.0  0.0   \n",
       "16878_43292c0e3ec0b0de1c4ff00b0189d01d    0.000000  1.0  0.0  0.0  0.0  0.0   \n",
       "16691_abfbc44a35880d9d2dade96d561a82cc    0.000000  0.0  0.0  0.0  1.0  0.0   \n",
       "16775_ae0c90bc80f6e6383f6f3af03ec1e16d    0.000000  0.0  0.0  0.0  1.0  0.0   \n",
       "16691_89811c043ce8f0e29215d8e2408a18c3  141.121697  0.0  0.0  0.0  1.0  0.0   \n",
       "\n",
       "                                        Tue  Wed  revisit_intention  \n",
       "16726_7a19471f288bdc5195cc2fc2e4a922bb  0.0  0.0                0.0  \n",
       "16878_43292c0e3ec0b0de1c4ff00b0189d01d  0.0  0.0                0.0  \n",
       "16691_abfbc44a35880d9d2dade96d561a82cc  0.0  0.0                0.0  \n",
       "16775_ae0c90bc80f6e6383f6f3af03ec1e16d  0.0  0.0                0.0  \n",
       "16691_89811c043ce8f0e29215d8e2408a18c3  0.0  0.0                1.0  "
      ]
     },
     "execution_count": 13,
     "metadata": {},
     "output_type": "execute_result"
    }
   ],
   "source": [
    "df_learning = trajs_combined_balanced\n",
    "df_learning = df_learning.fillna(0)\n",
    "df_learning = df_learning.reindex(np.random.permutation(df_learning.index))\n",
    "df_learning.tail(5)"
   ]
  },
  {
   "cell_type": "code",
   "execution_count": 15,
   "metadata": {
    "collapsed": true
   },
   "outputs": [],
   "source": [
    "data = np.asarray(df_learning)\n",
    "X_small, y = data[:, 3:-1], data[:, -1].astype(int)"
   ]
  },
  {
   "cell_type": "markdown",
   "metadata": {},
   "source": [
    "### Add some trajectory features (Uni-gram, Bi-gram)"
   ]
  },
  {
   "cell_type": "code",
   "execution_count": 16,
   "metadata": {
    "collapsed": false
   },
   "outputs": [
    {
     "name": "stdout",
     "output_type": "stream",
     "text": [
      "True\n",
      "[[1 0 0 ..., 2 1 1]\n",
      " [1 0 0 ..., 2 1 1]\n",
      " [1 0 0 ..., 1 1 0]\n",
      " ..., \n",
      " [0 0 0 ..., 1 1 0]\n",
      " [1 0 0 ..., 2 1 0]\n",
      " [1 0 0 ..., 1 1 0]]\n",
      "['date', 'device_id', 'traj', 'new_visit_count', 'num_logs', 'total_dwell_time', 'num_sp_100', 'prob_dwell_100', 'time_sp_100', 'std_sp_100', 'Fri', 'Mon', 'Sat', 'Sun', 'Thu', 'Tue', 'Wed', '1f', '1f 1f', '1f 1f-inner', '1f 1f-left', '1f 1f-right', '1f 2f', '1f 2f-inner', '1f 2f-left', '1f 2f-right', '1f 3f', '1f in', '1f out', '1f-inner', '1f-inner 1f', '1f-inner 1f-inner', '1f-inner 1f-left', '1f-inner 1f-right', '1f-inner 2f', '1f-inner 2f-inner', '1f-inner 2f-left', '1f-inner 2f-right', '1f-inner 3f', '1f-inner in', '1f-inner out', '1f-left', '1f-left 1f', '1f-left 1f-inner', '1f-left 1f-left', '1f-left 1f-right', '1f-left 2f', '1f-left 2f-inner', '1f-left 2f-left', '1f-left 2f-right', '1f-left 3f', '1f-left in', '1f-left out', '1f-right', '1f-right 1f', '1f-right 1f-inner', '1f-right 1f-left', '1f-right 1f-right', '1f-right 2f', '1f-right 2f-inner', '1f-right 2f-left', '1f-right 2f-right', '1f-right 3f', '1f-right in', '1f-right out', '2f', '2f 1f', '2f 1f-inner', '2f 1f-left', '2f 1f-right', '2f 2f', '2f 2f-inner', '2f 2f-left', '2f 2f-right', '2f 3f', '2f in', '2f out', '2f-inner', '2f-inner 1f', '2f-inner 1f-inner', '2f-inner 1f-left', '2f-inner 1f-right', '2f-inner 2f', '2f-inner 2f-inner', '2f-inner 2f-left', '2f-inner 2f-right', '2f-inner 3f', '2f-inner in', '2f-inner out', '2f-left', '2f-left 1f', '2f-left 1f-inner', '2f-left 1f-left', '2f-left 1f-right', '2f-left 2f', '2f-left 2f-inner', '2f-left 2f-right', '2f-left 3f', '2f-left in', '2f-left out', '2f-right', '2f-right 1f', '2f-right 1f-inner', '2f-right 1f-left', '2f-right 1f-right', '2f-right 2f', '2f-right 2f-inner', '2f-right 2f-left', '2f-right 2f-right', '2f-right 3f', '2f-right in', '2f-right out', '3f', '3f 1f', '3f 1f-inner', '3f 1f-left', '3f 1f-right', '3f 2f', '3f 2f-inner', '3f 2f-left', '3f 2f-right', '3f 3f', '3f in', '3f out', 'in', 'in 1f', 'in 1f-inner', 'in 1f-left', 'in 1f-right', 'in 2f', 'in 2f-inner', 'in 2f-left', 'in 2f-right', 'in 3f', 'in in', 'in out', 'out', 'out in', 'out out']\n",
      "(5378, 136)\n"
     ]
    }
   ],
   "source": [
    "from sklearn.feature_extraction.text import CountVectorizer\n",
    "bigram_vectorizer = CountVectorizer(min_df=1, token_pattern='\\w+\\-*\\w+', ngram_range=(1, 2))\n",
    "\n",
    "### Test with toy example\n",
    "analyze = bigram_vectorizer.build_analyzer()\n",
    "print(analyze('Bi-grams are cool!') == (['bi-grams', 'are', 'cool', 'bi-grams are', 'are cool']))\n",
    "\n",
    "### Trajecory를 이용하여 bi-gram 생성 후 각 moving pattern별로 count\n",
    "corpus = trajs_combined_balanced['traj']\n",
    "corpvec2 = bigram_vectorizer.fit_transform(corpus)\n",
    "print(corpvec2.toarray())\n",
    "corpvec2\n",
    "\n",
    "X = np.concatenate((X_small, corpvec2.toarray()), axis=1)\n",
    "newcolumns = df_learning.columns.tolist()[:-1]+bigram_vectorizer.get_feature_names()\n",
    "print(newcolumns)\n",
    "print(X.shape)"
   ]
  },
  {
   "cell_type": "code",
   "execution_count": null,
   "metadata": {
    "collapsed": true
   },
   "outputs": [],
   "source": []
  },
  {
   "cell_type": "code",
   "execution_count": null,
   "metadata": {
    "collapsed": true
   },
   "outputs": [],
   "source": []
  },
  {
   "cell_type": "code",
   "execution_count": null,
   "metadata": {
    "collapsed": true
   },
   "outputs": [],
   "source": []
  },
  {
   "cell_type": "code",
   "execution_count": null,
   "metadata": {
    "collapsed": true
   },
   "outputs": [],
   "source": []
  },
  {
   "cell_type": "markdown",
   "metadata": {
    "collapsed": true
   },
   "source": [
    "## Analysis with sklearn (easier classifier)\n",
    "\n",
    "### Decision tree\n",
    "* Decision tree: http://scikit-learn.org/stable/modules/generated/sklearn.tree.DecisionTreeClassifier.html\n",
    "* Cross validation: http://scikit-learn.org/stable/modules/generated/sklearn.cross_validation.cross_val_score.html"
   ]
  },
  {
   "cell_type": "code",
   "execution_count": 9,
   "metadata": {
    "collapsed": false
   },
   "outputs": [
    {
     "name": "stdout",
     "output_type": "stream",
     "text": [
      "Features [[1.0 5 3030 4.0 1.0 2144.0 87.39946605481447 1.0 0.0 0.0 0.0 0.0 0.0 0.0]\n",
      " [1.0 3 218 0.0 0.0 0.0 0.0 1.0 0.0 0.0 0.0 0.0 0.0 0.0]\n",
      " [2.0 4 161 0.0 0.0 0.0 0.0 0.0 0.0 1.0 0.0 0.0 0.0 0.0]\n",
      " [1.0 6 5215 4.0 0.8 3318.0 642.8605343825881 0.0 0.0 0.0 0.0 1.0 0.0 0.0]]\n",
      "Labels [0 1 1 1]\n"
     ]
    }
   ],
   "source": [
    "### DataFame to nparray, divide features and labels\n",
    "data = np.asarray(df_learning)\n",
    "X, y = data[:, 3:-1], data[:, -1].astype(int)\n",
    "print(\"Features\", X[1:5])\n",
    "print(\"Labels\", y[1:5])"
   ]
  },
  {
   "cell_type": "code",
   "execution_count": 10,
   "metadata": {
    "collapsed": false
   },
   "outputs": [
    {
     "data": {
      "text/plain": [
       "array([ 0.61152416,  0.58921933,  0.57434944,  0.65613383,  0.59665428,\n",
       "        0.60223048,  0.62081784,  0.60037175,  0.66542751,  0.60820896])"
      ]
     },
     "execution_count": 10,
     "metadata": {},
     "output_type": "execute_result"
    }
   ],
   "source": [
    "from sklearn.cross_validation import cross_val_score\n",
    "from sklearn.tree import DecisionTreeClassifier\n",
    "clf = DecisionTreeClassifier(max_depth=5)\n",
    "cross_val_score(clf, X, y, cv=10)   ## accuracy"
   ]
  }
 ],
 "metadata": {
  "anaconda-cloud": {},
  "kernelspec": {
   "display_name": "Python [py35]",
   "language": "python",
   "name": "Python [py35]"
  },
  "language_info": {
   "codemirror_mode": {
    "name": "ipython",
    "version": 3
   },
   "file_extension": ".py",
   "mimetype": "text/x-python",
   "name": "python",
   "nbconvert_exporter": "python",
   "pygments_lexer": "ipython3",
   "version": "3.5.2"
  }
 },
 "nbformat": 4,
 "nbformat_minor": 0
}

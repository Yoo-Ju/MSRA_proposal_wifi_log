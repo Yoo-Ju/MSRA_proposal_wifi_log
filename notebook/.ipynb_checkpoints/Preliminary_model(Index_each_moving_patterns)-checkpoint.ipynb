{
 "cells": [
  {
   "cell_type": "markdown",
   "metadata": {
    "collapsed": true
   },
   "source": [
    "### 연구 목적: Indoor moving patterns을 이용하여 revisit intention을 예측.\n",
    "\n",
    "크롤링한 User들의 Wi-fi log을, moving pattern별로 indexing한 후, 적합한 feature들을 선별하여, 어떤 moving pattern이 추후 user revisit과 관련이 있는지 분석하고자 함.\n",
    "\n",
    "#### Feature description:\n",
    "특정 moving pattern의 revisit intention을 예측하는 supervised learning(classification) 모델에 이용될 feature들\n",
    "1. User가 찍힌 로그 총 개수: num_logs\n",
    "2. 한 User가 와이파이에 잡힌 총 시간: total_dwell_time\n",
    "3. dwell_time > 10인 indoor area 개수: num_sp_100\n",
    "4. indoor 로그 중 dwell_time > 10인 확률: prob_dwell_10\n",
    "5. 전체 로그 중 deny=True(직원)인 확률: prob_deny\n",
    "6. dwell_time > 100인 indoor area에서 보낸 total time: time_sp_100\n",
    "7. dwell_time > 100인 indoor area들의 variance: std_sp_100\n",
    "\n",
    "\n",
    "#### Details\n",
    "1. Moving pattern: 한 유저가 하루동안 매장 안에서 돌아다닌 wi-fi patterns (e.g., out,in,b1,b1-left-1,1f,out,in,b1-left)\n",
    "2. Raw data의 경우 wi-fi에 찍힌 로그(어떤 device_id가 어떤 장소의 wi-fi 수신기에 몇시부터 몇초간 접속중이었고, 직원인지의 여부와, 현재까지의 revisit count와 가장 최근의 revisit interval)가 하나의 row로 이루어져 있다. 고로, 하나의 moving pattern에 대한 log가 여러 개로 이루어져 있는데, 로그의 날짜와 device_id를 조합하여 key로 삼고 aggregate하여 하나의 moving pattern이 하나의 row로 나타낼 수 있도록 함)\n",
    "3. 기존 revisit_count 데이터를 보면 꼬인 경우가 많았다, 같은 device_id인데 오늘까지 revisit count가 69였는데 그다음날 7이 된다거나, 그래서 이 데이터를 이용하지 않고 로그를 기반하여 정제해 주었다.\n",
    "4. revisit_intention은 binary variable이며 우리가 예측하고자 하는 label이다, 매장 방문 이후 n일 이내에 다시 매장 방문 내역이 있다면 revisit_intention = 1 로 표시해 주었다.\n",
    "5. 매장 방문의 정의: 특정 일에 특정 유저의 moving pattern이 at least 'in을 포함된' 로그를 가지고 있을 경우 매장을 방문하였다고 함. out만 여러번 있는 로그의 경우는 지나가는 행인이라고 생각하여 매장을 방문하지 않았다고 간주.\n",
    "6. 따라서 어떤 유저가 'in' 로그를 갖는 timestamp가 가장 오래 된 방문을 가장 첫 방문이라고 가정하고, 그 다음 'in' 로그를 갖는 방문을 세서 revisit_count를 계산해 주었다, 이 때 각 방문 사이의 간격은 적어도 1일 이상이다. revisit_count는 각 방문 패턴의 history 정보를 누락시키지 않는다는 목적으로 feature로 삼기로 했다.\n",
    "7. 참고: User-ID별로 indexing해서 유저별 revisit_count를 naive하게 예측한 이전 모델은 supervised_model(basic_features).ipynb, 에 정리\n",
    "\n",
    "__데이터__\n",
    "1. 781, 786번 매장 데이터"
   ]
  },
  {
   "cell_type": "code",
   "execution_count": 92,
   "metadata": {
    "collapsed": true
   },
   "outputs": [],
   "source": [
    "### import libraries\n",
    "import pandas as pd\n",
    "import datetime\n",
    "import numpy as np\n",
    "import re"
   ]
  },
  {
   "cell_type": "code",
   "execution_count": 9,
   "metadata": {
    "collapsed": false
   },
   "outputs": [
    {
     "data": {
      "text/html": [
       "<div>\n",
       "<table border=\"1\" class=\"dataframe\">\n",
       "  <thead>\n",
       "    <tr style=\"text-align: right;\">\n",
       "      <th></th>\n",
       "      <th>area</th>\n",
       "      <th>deny</th>\n",
       "      <th>device_id</th>\n",
       "      <th>dwell_time</th>\n",
       "      <th>key</th>\n",
       "      <th>revisit_count</th>\n",
       "      <th>revisit_period</th>\n",
       "      <th>ts</th>\n",
       "    </tr>\n",
       "  </thead>\n",
       "  <tbody>\n",
       "    <tr>\n",
       "      <th>0</th>\n",
       "      <td>1f-right-1</td>\n",
       "      <td>True</td>\n",
       "      <td>cae0f3cb170db4ae18897d6af8497c38</td>\n",
       "      <td>3330</td>\n",
       "      <td>781:7fea91f80d36bcc5:1f-right-1</td>\n",
       "      <td>NaN</td>\n",
       "      <td>NaN</td>\n",
       "      <td>1472645246100</td>\n",
       "    </tr>\n",
       "    <tr>\n",
       "      <th>1</th>\n",
       "      <td>right-test</td>\n",
       "      <td>True</td>\n",
       "      <td>cae0f3cb170db4ae18897d6af8497c38</td>\n",
       "      <td>3330</td>\n",
       "      <td>781:7fea91f80d36bcc5:right-test</td>\n",
       "      <td>NaN</td>\n",
       "      <td>NaN</td>\n",
       "      <td>1472645246100</td>\n",
       "    </tr>\n",
       "    <tr>\n",
       "      <th>2</th>\n",
       "      <td>out</td>\n",
       "      <td>NaN</td>\n",
       "      <td>c41e7932a5fedc55d61950559232c0bf</td>\n",
       "      <td>0</td>\n",
       "      <td>781:7fea91f80e6add4d:out</td>\n",
       "      <td>NaN</td>\n",
       "      <td>NaN</td>\n",
       "      <td>1472645241170</td>\n",
       "    </tr>\n",
       "    <tr>\n",
       "      <th>3</th>\n",
       "      <td>out</td>\n",
       "      <td>NaN</td>\n",
       "      <td>249e7ac1b1cd6ba9bee1cd81ef1e013f</td>\n",
       "      <td>85</td>\n",
       "      <td>781:7fea91f80ea49f2d:out</td>\n",
       "      <td>NaN</td>\n",
       "      <td>NaN</td>\n",
       "      <td>1472645240246</td>\n",
       "    </tr>\n",
       "    <tr>\n",
       "      <th>4</th>\n",
       "      <td>out</td>\n",
       "      <td>NaN</td>\n",
       "      <td>35e9e62a01594c31a9297c397cee0390</td>\n",
       "      <td>34</td>\n",
       "      <td>781:7fea91f80ee44f5d:out</td>\n",
       "      <td>NaN</td>\n",
       "      <td>NaN</td>\n",
       "      <td>1472645239227</td>\n",
       "    </tr>\n",
       "  </tbody>\n",
       "</table>\n",
       "</div>"
      ],
      "text/plain": [
       "         area  deny                         device_id  dwell_time  \\\n",
       "0  1f-right-1  True  cae0f3cb170db4ae18897d6af8497c38        3330   \n",
       "1  right-test  True  cae0f3cb170db4ae18897d6af8497c38        3330   \n",
       "2         out   NaN  c41e7932a5fedc55d61950559232c0bf           0   \n",
       "3         out   NaN  249e7ac1b1cd6ba9bee1cd81ef1e013f          85   \n",
       "4         out   NaN  35e9e62a01594c31a9297c397cee0390          34   \n",
       "\n",
       "                               key  revisit_count  revisit_period  \\\n",
       "0  781:7fea91f80d36bcc5:1f-right-1            NaN             NaN   \n",
       "1  781:7fea91f80d36bcc5:right-test            NaN             NaN   \n",
       "2         781:7fea91f80e6add4d:out            NaN             NaN   \n",
       "3         781:7fea91f80ea49f2d:out            NaN             NaN   \n",
       "4         781:7fea91f80ee44f5d:out            NaN             NaN   \n",
       "\n",
       "              ts  \n",
       "0  1472645246100  \n",
       "1  1472645246100  \n",
       "2  1472645241170  \n",
       "3  1472645240246  \n",
       "4  1472645239227  "
      ]
     },
     "execution_count": 9,
     "metadata": {},
     "output_type": "execute_result"
    }
   ],
   "source": [
    "df = pd.read_pickle(\"../data/781/781.p\")\n",
    "df.head(5)   ### Show raw data"
   ]
  },
  {
   "cell_type": "code",
   "execution_count": 11,
   "metadata": {
    "collapsed": false
   },
   "outputs": [],
   "source": [
    "df['date'] = df['ts'] // 86400000\n",
    "# df = df.loc[(df['deny']!= True) & (df['dwell_time'] > 0)]\n",
    "df = df.loc[(df['dwell_time'] > 0)]\n",
    "df['date_device_id'] = df.date.map(str) + \"_\" + df.device_id"
   ]
  },
  {
   "cell_type": "code",
   "execution_count": 12,
   "metadata": {
    "collapsed": false
   },
   "outputs": [
    {
     "data": {
      "text/html": [
       "<div>\n",
       "<table border=\"1\" class=\"dataframe\">\n",
       "  <thead>\n",
       "    <tr style=\"text-align: right;\">\n",
       "      <th></th>\n",
       "      <th>area</th>\n",
       "      <th>deny</th>\n",
       "      <th>device_id</th>\n",
       "      <th>dwell_time</th>\n",
       "      <th>key</th>\n",
       "      <th>revisit_count</th>\n",
       "      <th>revisit_period</th>\n",
       "      <th>ts</th>\n",
       "      <th>date</th>\n",
       "      <th>date_device_id</th>\n",
       "      <th>day</th>\n",
       "    </tr>\n",
       "  </thead>\n",
       "  <tbody>\n",
       "    <tr>\n",
       "      <th>0</th>\n",
       "      <td>1f-right-1</td>\n",
       "      <td>True</td>\n",
       "      <td>cae0f3cb170db4ae18897d6af8497c38</td>\n",
       "      <td>3330</td>\n",
       "      <td>781:7fea91f80d36bcc5:1f-right-1</td>\n",
       "      <td>NaN</td>\n",
       "      <td>NaN</td>\n",
       "      <td>1472645246100</td>\n",
       "      <td>17044</td>\n",
       "      <td>17044_cae0f3cb170db4ae18897d6af8497c38</td>\n",
       "      <td>Wed</td>\n",
       "    </tr>\n",
       "    <tr>\n",
       "      <th>1</th>\n",
       "      <td>right-test</td>\n",
       "      <td>True</td>\n",
       "      <td>cae0f3cb170db4ae18897d6af8497c38</td>\n",
       "      <td>3330</td>\n",
       "      <td>781:7fea91f80d36bcc5:right-test</td>\n",
       "      <td>NaN</td>\n",
       "      <td>NaN</td>\n",
       "      <td>1472645246100</td>\n",
       "      <td>17044</td>\n",
       "      <td>17044_cae0f3cb170db4ae18897d6af8497c38</td>\n",
       "      <td>Wed</td>\n",
       "    </tr>\n",
       "    <tr>\n",
       "      <th>3</th>\n",
       "      <td>out</td>\n",
       "      <td>NaN</td>\n",
       "      <td>249e7ac1b1cd6ba9bee1cd81ef1e013f</td>\n",
       "      <td>85</td>\n",
       "      <td>781:7fea91f80ea49f2d:out</td>\n",
       "      <td>NaN</td>\n",
       "      <td>NaN</td>\n",
       "      <td>1472645240246</td>\n",
       "      <td>17044</td>\n",
       "      <td>17044_249e7ac1b1cd6ba9bee1cd81ef1e013f</td>\n",
       "      <td>Wed</td>\n",
       "    </tr>\n",
       "    <tr>\n",
       "      <th>4</th>\n",
       "      <td>out</td>\n",
       "      <td>NaN</td>\n",
       "      <td>35e9e62a01594c31a9297c397cee0390</td>\n",
       "      <td>34</td>\n",
       "      <td>781:7fea91f80ee44f5d:out</td>\n",
       "      <td>NaN</td>\n",
       "      <td>NaN</td>\n",
       "      <td>1472645239227</td>\n",
       "      <td>17044</td>\n",
       "      <td>17044_35e9e62a01594c31a9297c397cee0390</td>\n",
       "      <td>Wed</td>\n",
       "    </tr>\n",
       "    <tr>\n",
       "      <th>6</th>\n",
       "      <td>out</td>\n",
       "      <td>NaN</td>\n",
       "      <td>6370140ec2920e3f1878d877cd9a7b2a</td>\n",
       "      <td>776</td>\n",
       "      <td>781:7fea91f80f441dc9:out</td>\n",
       "      <td>NaN</td>\n",
       "      <td>NaN</td>\n",
       "      <td>1472645237694</td>\n",
       "      <td>17044</td>\n",
       "      <td>17044_6370140ec2920e3f1878d877cd9a7b2a</td>\n",
       "      <td>Wed</td>\n",
       "    </tr>\n",
       "  </tbody>\n",
       "</table>\n",
       "</div>"
      ],
      "text/plain": [
       "         area  deny                         device_id  dwell_time  \\\n",
       "0  1f-right-1  True  cae0f3cb170db4ae18897d6af8497c38        3330   \n",
       "1  right-test  True  cae0f3cb170db4ae18897d6af8497c38        3330   \n",
       "3         out   NaN  249e7ac1b1cd6ba9bee1cd81ef1e013f          85   \n",
       "4         out   NaN  35e9e62a01594c31a9297c397cee0390          34   \n",
       "6         out   NaN  6370140ec2920e3f1878d877cd9a7b2a         776   \n",
       "\n",
       "                               key  revisit_count  revisit_period  \\\n",
       "0  781:7fea91f80d36bcc5:1f-right-1            NaN             NaN   \n",
       "1  781:7fea91f80d36bcc5:right-test            NaN             NaN   \n",
       "3         781:7fea91f80ea49f2d:out            NaN             NaN   \n",
       "4         781:7fea91f80ee44f5d:out            NaN             NaN   \n",
       "6         781:7fea91f80f441dc9:out            NaN             NaN   \n",
       "\n",
       "              ts   date                          date_device_id  day  \n",
       "0  1472645246100  17044  17044_cae0f3cb170db4ae18897d6af8497c38  Wed  \n",
       "1  1472645246100  17044  17044_cae0f3cb170db4ae18897d6af8497c38  Wed  \n",
       "3  1472645240246  17044  17044_249e7ac1b1cd6ba9bee1cd81ef1e013f  Wed  \n",
       "4  1472645239227  17044  17044_35e9e62a01594c31a9297c397cee0390  Wed  \n",
       "6  1472645237694  17044  17044_6370140ec2920e3f1878d877cd9a7b2a  Wed  "
      ]
     },
     "execution_count": 12,
     "metadata": {},
     "output_type": "execute_result"
    }
   ],
   "source": [
    "remainder = (df['ts']%604800000)/1000\n",
    "\n",
    "def timestamp_to_day(x):\n",
    "    a = x / 86400\n",
    "    switcher = {\n",
    "        0: \"Thu\",\n",
    "        1: \"Fri\",\n",
    "        2: \"Sat\",\n",
    "        3: \"Sun\",\n",
    "        4: \"Mon\",\n",
    "        5: \"Tue\",\n",
    "        6: \"Wed\"\n",
    "    }\n",
    "    return switcher.get(int(a))\n",
    "\n",
    "df['day'] = remainder.apply(lambda x: timestamp_to_day(x))\n",
    "\n",
    "df.head(5) ### show difference after basic preprocessing"
   ]
  },
  {
   "cell_type": "code",
   "execution_count": 125,
   "metadata": {
    "collapsed": true
   },
   "outputs": [],
   "source": [
    "def feature_generator(df_toy):\n",
    "    print('Generating features from raw data')\n",
    "    ### F1: 로그 총 개수\n",
    "    f1 = df_toy.groupby(['date_device_id'])['ts'].count()\n",
    "#     print(f1.head(5))\n",
    "\n",
    "    ### F2: 와이파이에 잡힌 총 시간\n",
    "    f2 = df_toy.groupby(['date_device_id'])['dwell_time'].sum()\n",
    "#     print(f2.head(5))\n",
    "\n",
    "    ### F3: dwell_time > 100인 indoor area 개수\n",
    "    df_toy_indoor = df_toy.loc[df_toy['area']!='out']\n",
    "    df_toy_indoor2 = df_toy_indoor.loc[df_toy_indoor['dwell_time']>100]\n",
    "    f3 = df_toy_indoor2.groupby(['date_device_id'])['area'].count()\n",
    "#     print(f3.head(5))\n",
    "\n",
    "    ### F4: indoor 로그 중 dwell_time > 100인 확률\n",
    "    f3_2 = df_toy_indoor.groupby(['date_device_id'])['area'].count()\n",
    "    f4 = f3.div(f3_2)\n",
    "#     print(f4.head(5))\n",
    "\n",
    "    ### F5: dwell_time > 100인 indoor area에서 보낸 total time\n",
    "    f5 = df_toy_indoor2.groupby(['date_device_id'])['dwell_time'].sum()\n",
    "#     print(f5.head(5))\n",
    "\n",
    "    ### F6: dwell_time > 100인 indoor area들의 standard deviation\n",
    "    f6 = df_toy_indoor2.groupby(['date_device_id'])['dwell_time'].std()\n",
    "#     print(f6.head(5))\n",
    "\n",
    "    ### F7: deny = True일 확률\n",
    "    a = df_toy.groupby(['date_device_id']).deny.count()\n",
    "    b = df_toy['date_device_id'].value_counts()\n",
    "    f7 = a.div(b)\n",
    "#     print(f7.head(5))\n",
    "\n",
    "\n",
    "    \n",
    "#     ### F8: 로그 총 개수 - 요일별\n",
    "#     days = ['Mon', 'Tue', 'Wed', 'Thu', 'Fri', 'Sat', 'Sun']\n",
    "#     f8 = df_toy_indoor2.groupby(['day', 'date_device_id'])['dwell_time'].sum()\n",
    "#     f8 = f8.reindex(days, level='day')\n",
    "#     f8 = f8.to_frame(name='count').reset_index()\n",
    "# #     print(f8.head(5))\n",
    "    \n",
    "#     ### Label: Maximum revisit count from the log\n",
    "#     label_toy = df_toy.groupby(['date_device_id'])['revisit_count'].max()\n",
    "# #     print(label_toy.head(5))\n",
    "\n",
    "    return f1, f2, f3, f4, f5, f6, f7"
   ]
  },
  {
   "cell_type": "code",
   "execution_count": 156,
   "metadata": {
    "collapsed": false
   },
   "outputs": [],
   "source": [
    "def df_generator(df, f1, f2, f3, f4, f5, f6, f7):\n",
    "    print('Generating a data frame which aggergated features')\n",
    "\n",
    "#     days = ['Mon', 'Tue', 'Wed', 'Thu', 'Fri', 'Sat', 'Sun']\n",
    "#     days_numlogs = ['num_logs_' + s for s in days]\n",
    "    columns = ['num_logs', 'total_dwell_time', 'num_sp_100', 'prob_dwell_10', 'time_sp_100', 'std_sp_100', 'prob_deny']\n",
    "#     columns = columns + days_numlogs\n",
    "\n",
    "    # feature들과의 index의 통일을 위해 np.sort를 이용.\n",
    "    device_ids = np.sort(df['date_device_id'].unique())       \n",
    "    df2 = pd.DataFrame(columns=columns, index=device_ids)\n",
    "\n",
    "    # feature를 df에 삽입\n",
    "    df2[\"num_logs\"] = f1          \n",
    "    df2[\"total_dwell_time\"] = f2\n",
    "    df2[\"num_sp_100\"] = f3\n",
    "    df2[\"prob_dwell_100\"] = f4\n",
    "    df2[\"time_sp_100\"] = f5\n",
    "    df2[\"std_sp_100\"] = f6\n",
    "    df2[\"prob_deny\"] = f7\n",
    "\n",
    "#     ### F8를 df에 합치는 부분\n",
    "#     for day in days:\n",
    "#         f8_certain_day = f8.loc[f8['day']==day]\n",
    "#         f8_certain_day = f8_certain_day[[\"date_device_id\", \"count\"]].set_index(['date_device_id'])\n",
    "#         columnName = 'num_logs_'+day\n",
    "#         df2[columnName] = f8_certain_day\n",
    "\n",
    "#     # label을 df에 합침\n",
    "#     df2 = pd.concat([df2, label], axis=1)   \n",
    "\n",
    "    # machine learning에 바로 이용될 dataframe을 리턴\n",
    "    return df2"
   ]
  },
  {
   "cell_type": "code",
   "execution_count": 126,
   "metadata": {
    "collapsed": false
   },
   "outputs": [
    {
     "name": "stdout",
     "output_type": "stream",
     "text": [
      "Generating features from raw data\n"
     ]
    }
   ],
   "source": [
    "f1, f2, f3, f4, f5, f6, f7 = feature_generator(df)"
   ]
  },
  {
   "cell_type": "code",
   "execution_count": 128,
   "metadata": {
    "collapsed": false
   },
   "outputs": [
    {
     "name": "stdout",
     "output_type": "stream",
     "text": [
      "Generating a data frame which aggergated features\n"
     ]
    }
   ],
   "source": [
    "df2 = df_generator(df, f1, f2, f3, f4, f5, f6, f7)"
   ]
  },
  {
   "cell_type": "code",
   "execution_count": 130,
   "metadata": {
    "collapsed": false
   },
   "outputs": [
    {
     "data": {
      "text/plain": [
       "(1876809, 7)"
      ]
     },
     "execution_count": 130,
     "metadata": {},
     "output_type": "execute_result"
    }
   ],
   "source": [
    "df2.shape"
   ]
  },
  {
   "cell_type": "markdown",
   "metadata": {},
   "source": [
    "### 메소드에 아직 못합친 부분\n",
    "각 moving pattern별 트라젝토리 및 revisit_count등"
   ]
  },
  {
   "cell_type": "code",
   "execution_count": 15,
   "metadata": {
    "collapsed": true
   },
   "outputs": [],
   "source": [
    "### traj1: Generate trajectories for each moving patterns\n",
    "traj = df.groupby(['date', 'device_id'])['area']\n",
    "trajformovings = traj.apply(lambda x: ','.join(x.sort_index(ascending=False))[::])\n",
    "traj1 = trajformovings.to_frame(name='traj').reset_index()\n",
    "\n",
    "### traj2: Count visit_counts for each user (history)\n",
    "trajsum = traj.sum()\n",
    "def checkin(x):\n",
    "    result = 1\n",
    "    if \"in\" in x: \n",
    "        result = 1\n",
    "    else:\n",
    "        result = 0\n",
    "    return result\n",
    "trajcount = trajsum.map(lambda x: checkin(x)).groupby(level=1).cumsum()\n",
    "traj2 = trajcount.to_frame(name='new_visit_count').reset_index()"
   ]
  },
  {
   "cell_type": "code",
   "execution_count": 71,
   "metadata": {
    "collapsed": false
   },
   "outputs": [
    {
     "data": {
      "text/html": [
       "<div>\n",
       "<table border=\"1\" class=\"dataframe\">\n",
       "  <thead>\n",
       "    <tr style=\"text-align: right;\">\n",
       "      <th></th>\n",
       "      <th>date</th>\n",
       "      <th>device_id</th>\n",
       "      <th>traj</th>\n",
       "      <th>new_visit_count</th>\n",
       "    </tr>\n",
       "    <tr>\n",
       "      <th>date_device_id</th>\n",
       "      <th></th>\n",
       "      <th></th>\n",
       "      <th></th>\n",
       "      <th></th>\n",
       "    </tr>\n",
       "  </thead>\n",
       "  <tbody>\n",
       "    <tr>\n",
       "      <th>17044_7961e337158a5b699a0d6314a7c680b1</th>\n",
       "      <td>17044</td>\n",
       "      <td>7961e337158a5b699a0d6314a7c680b1</td>\n",
       "      <td>out,in,1f,in,1f-right-2,1f,in,1f,in,1f,in,1f,i...</td>\n",
       "      <td>107</td>\n",
       "    </tr>\n",
       "    <tr>\n",
       "      <th>17044_8b4357a377e3673d44489d67eee696ac</th>\n",
       "      <td>17044</td>\n",
       "      <td>8b4357a377e3673d44489d67eee696ac</td>\n",
       "      <td>out,in,b1</td>\n",
       "      <td>362</td>\n",
       "    </tr>\n",
       "    <tr>\n",
       "      <th>17044_cae0f3cb170db4ae18897d6af8497c38</th>\n",
       "      <td>17044</td>\n",
       "      <td>cae0f3cb170db4ae18897d6af8497c38</td>\n",
       "      <td>out,in,1f,right-test,1f-right-1,1f-right-2,lef...</td>\n",
       "      <td>258</td>\n",
       "    </tr>\n",
       "    <tr>\n",
       "      <th>17044_ceb0005b0d1e75950118f92c16d9a619</th>\n",
       "      <td>17044</td>\n",
       "      <td>ceb0005b0d1e75950118f92c16d9a619</td>\n",
       "      <td>out,in,b1,in,b1,in,b1,in,b1,in,b1,in,b1</td>\n",
       "      <td>261</td>\n",
       "    </tr>\n",
       "    <tr>\n",
       "      <th>17044_f6258edf9145d1c0404e6f3d7a27a29d</th>\n",
       "      <td>17044</td>\n",
       "      <td>f6258edf9145d1c0404e6f3d7a27a29d</td>\n",
       "      <td>out,in,b1,out,in,b1,out,in,1f,out,in,b1,out,in...</td>\n",
       "      <td>311</td>\n",
       "    </tr>\n",
       "  </tbody>\n",
       "</table>\n",
       "</div>"
      ],
      "text/plain": [
       "                                         date  \\\n",
       "date_device_id                                  \n",
       "17044_7961e337158a5b699a0d6314a7c680b1  17044   \n",
       "17044_8b4357a377e3673d44489d67eee696ac  17044   \n",
       "17044_cae0f3cb170db4ae18897d6af8497c38  17044   \n",
       "17044_ceb0005b0d1e75950118f92c16d9a619  17044   \n",
       "17044_f6258edf9145d1c0404e6f3d7a27a29d  17044   \n",
       "\n",
       "                                                               device_id  \\\n",
       "date_device_id                                                             \n",
       "17044_7961e337158a5b699a0d6314a7c680b1  7961e337158a5b699a0d6314a7c680b1   \n",
       "17044_8b4357a377e3673d44489d67eee696ac  8b4357a377e3673d44489d67eee696ac   \n",
       "17044_cae0f3cb170db4ae18897d6af8497c38  cae0f3cb170db4ae18897d6af8497c38   \n",
       "17044_ceb0005b0d1e75950118f92c16d9a619  ceb0005b0d1e75950118f92c16d9a619   \n",
       "17044_f6258edf9145d1c0404e6f3d7a27a29d  f6258edf9145d1c0404e6f3d7a27a29d   \n",
       "\n",
       "                                                                                     traj  \\\n",
       "date_device_id                                                                              \n",
       "17044_7961e337158a5b699a0d6314a7c680b1  out,in,1f,in,1f-right-2,1f,in,1f,in,1f,in,1f,i...   \n",
       "17044_8b4357a377e3673d44489d67eee696ac                                          out,in,b1   \n",
       "17044_cae0f3cb170db4ae18897d6af8497c38  out,in,1f,right-test,1f-right-1,1f-right-2,lef...   \n",
       "17044_ceb0005b0d1e75950118f92c16d9a619            out,in,b1,in,b1,in,b1,in,b1,in,b1,in,b1   \n",
       "17044_f6258edf9145d1c0404e6f3d7a27a29d  out,in,b1,out,in,b1,out,in,1f,out,in,b1,out,in...   \n",
       "\n",
       "                                        new_visit_count  \n",
       "date_device_id                                           \n",
       "17044_7961e337158a5b699a0d6314a7c680b1              107  \n",
       "17044_8b4357a377e3673d44489d67eee696ac              362  \n",
       "17044_cae0f3cb170db4ae18897d6af8497c38              258  \n",
       "17044_ceb0005b0d1e75950118f92c16d9a619              261  \n",
       "17044_f6258edf9145d1c0404e6f3d7a27a29d              311  "
      ]
     },
     "execution_count": 71,
     "metadata": {},
     "output_type": "execute_result"
    }
   ],
   "source": [
    "traj1['date_device_id'] = traj1.date.map(str) + \"_\" + traj1.device_id\n",
    "traj2['date_device_id'] = traj2.date.map(str) + \"_\" + traj2.device_id\n",
    "\n",
    "traj1 = traj1.set_index(['date_device_id'])\n",
    "traj2 = traj2.set_index(['date_device_id'])\n",
    "\n",
    "trajs_full = pd.concat([traj1, traj2[['new_visit_count']]], axis=1)\n",
    "\n",
    "### show some sample moving patterns having large history\n",
    "trajs_full.loc[trajs_full['new_visit_count']>100].tail(5)"
   ]
  },
  {
   "cell_type": "code",
   "execution_count": 73,
   "metadata": {
    "collapsed": false
   },
   "outputs": [
    {
     "name": "stdout",
     "output_type": "stream",
     "text": [
      "(1876809, 4)\n",
      "(50233, 4)\n",
      "(13724, 4)\n",
      "(9772, 4)\n"
     ]
    }
   ],
   "source": [
    "print(trajs_full.shape)\n",
    "print(trajs_full.loc[trajs_full.new_visit_count>=1].shape)\n",
    "print(trajs_full.loc[trajs_full.new_visit_count>=2].shape)\n",
    "print(trajs_full.loc[trajs_full.new_visit_count>=3].shape)  \n",
    "\n",
    "## 제대로 된 로그가 거의 없단 얘기  (재방문 >= 1 인 로그가 1,876,809개 중 50,233개밖에 안됨.)"
   ]
  },
  {
   "cell_type": "code",
   "execution_count": 41,
   "metadata": {
    "collapsed": false
   },
   "outputs": [],
   "source": [
    "# print 해보고 싶으면 커맨트 다 uncomment하고 돌리면 됨.\n",
    "\n",
    "trajs = trajs_full.loc[trajs.new_visit_count>=1]\n",
    "trajs['revisit_intention'] = 0\n",
    "revisit_interval_thres = 120\n",
    "\n",
    "for ids in trajs['device_id'].unique():\n",
    "    dff = trajs.loc[trajs['device_id']==ids]   \n",
    "    a = 0\n",
    "    date = 16672\n",
    "    prev_idx = ''\n",
    "    for index, row in dff.iterrows():\n",
    "        if a+1 == row['new_visit_count']:\n",
    "            if date+revisit_interval_thres > row['date']:\n",
    "#                 print('regular revisit: {0} days interval'.format(row['date']-date))\n",
    "#                 print('previous index: ',prev_idx)\n",
    "                trajs.set_value(prev_idx, 'revisit_intention', 1)\n",
    "                ## 이때만 하기.\n",
    "                \n",
    "#             elif row['new_visit_count'] == 1:\n",
    "#                 print('regular revisit: {0} days interval'.format(row['date']-date))\n",
    "                \n",
    "#             else:\n",
    "#                 print('Irregular revisit: {0} days interval'.format(row['date']-date))\n",
    "\n",
    "            prev_idx = index\n",
    "                \n",
    "#             print(row,'\\n')\n",
    "            a = row['new_visit_count']\n",
    "            date = row['date']"
   ]
  },
  {
   "cell_type": "code",
   "execution_count": 137,
   "metadata": {
    "collapsed": false
   },
   "outputs": [],
   "source": [
    "trajs_combined = pd.concat([trajs, df2], axis=1, join='inner')"
   ]
  },
  {
   "cell_type": "code",
   "execution_count": 140,
   "metadata": {
    "collapsed": false
   },
   "outputs": [
    {
     "data": {
      "text/plain": [
       "out,in,b1                                                                                                                                                                                                                                                                                                                                                                                            606\n",
       "out,in,1f                                                                                                                                                                                                                                                                                                                                                                                            233\n",
       "out,in,b1,1f                                                                                                                                                                                                                                                                                                                                                                                         198\n",
       "out,in,b1,in,b1                                                                                                                                                                                                                                                                                                                                                                                       67\n",
       "out,out,in,1f                                                                                                                                                                                                                                                                                                                                                                                         48\n",
       "out,in                                                                                                                                                                                                                                                                                                                                                                                                47\n",
       "out,in,b1,in,b1,in,b1                                                                                                                                                                                                                                                                                                                                                                                 43\n",
       "out,in,1f,out                                                                                                                                                                                                                                                                                                                                                                                         43\n",
       "out,in,b1,in,b1,in,b1,in,b1,in,b1                                                                                                                                                                                                                                                                                                                                                                     37\n",
       "out,in,b1,out,in,b1                                                                                                                                                                                                                                                                                                                                                                                   37\n",
       "out,in,b1,in,b1,in,b1,in,b1                                                                                                                                                                                                                                                                                                                                                                           30\n",
       "out,in,b1,in,b1,in,b1,in,b1,in,b1,in,b1                                                                                                                                                                                                                                                                                                                                                               29\n",
       "out,in,1f-right-2,1f                                                                                                                                                                                                                                                                                                                                                                                  28\n",
       "out,in,1f,in,1f                                                                                                                                                                                                                                                                                                                                                                                       27\n",
       "out,in,1f,1f-right-2                                                                                                                                                                                                                                                                                                                                                                                  24\n",
       "out,in,b1,in,b1,in,b1,in,b1,in,b1,in,b1,in,b1                                                                                                                                                                                                                                                                                                                                                         18\n",
       "out,in,b1,in,b1,in,b1,in,b1,in,b1,in,b1,in,b1,in,b1                                                                                                                                                                                                                                                                                                                                                   18\n",
       "out,in,b1,out                                                                                                                                                                                                                                                                                                                                                                                         16\n",
       "out,in,b1,in,b1,in,b1,in,b1,in,b1,in,b1,in,b1,in,b1,in,b1                                                                                                                                                                                                                                                                                                                                             16\n",
       "out,in,b1,1f,out,in,b1,1f                                                                                                                                                                                                                                                                                                                                                                             15\n",
       "out,out,in,b1                                                                                                                                                                                                                                                                                                                                                                                         14\n",
       "out,in,b1,1f,in,b1,1f                                                                                                                                                                                                                                                                                                                                                                                 13\n",
       "out,in,b1,b1-center-1                                                                                                                                                                                                                                                                                                                                                                                 12\n",
       "out,out,in,b1,1f                                                                                                                                                                                                                                                                                                                                                                                      11\n",
       "out,in,b1,in,b1,out,in,b1                                                                                                                                                                                                                                                                                                                                                                             11\n",
       "out,in,b1,1f,out                                                                                                                                                                                                                                                                                                                                                                                      11\n",
       "out,in,1f,in,1f,in,1f                                                                                                                                                                                                                                                                                                                                                                                 10\n",
       "out,in,b1,b1-right                                                                                                                                                                                                                                                                                                                                                                                    10\n",
       "out,in,1f-right-1,1f                                                                                                                                                                                                                                                                                                                                                                                  10\n",
       "out,in,out                                                                                                                                                                                                                                                                                                                                                                                             9\n",
       "                                                                                                                                                                                                                                                                                                                                                                                                    ... \n",
       "out,in,1f-left-1,1f,1f-right-2,right-test,1f-right-1,1f-left-2,left-test,left-test,right-test,left-test,left-test,1f-right-1,1f-right-1,right-test,right-test,1f-left-1,right-test,left-test,1f-left-1,left-test,1f-left-1,1f-right-1,right-test,right-test,right-test,1f-left-1,1f-left-1,left-test,1f-right-1                                                                                        1\n",
       "out,in,1f-right-2,1f,right-test,1f-right-1,right-test,right-test,right-test,1f-right-2,1f-right-2,right-test,right-test,right-test,right-test                                                                                                                                                                                                                                                          1\n",
       "out,in,b1,1f,b1,out,in,b1,out,in,b1,out,in,b1,in,b1                                                                                                                                                                                                                                                                                                                                                    1\n",
       "out,in,1f,b1,b1-center-2,b1-left-1                                                                                                                                                                                                                                                                                                                                                                     1\n",
       "out,in,b1,b1-right,1f,b1,in,b1,in,b1,1f-right-2,1f,right-test,1f-right-1,1f-left-2,right-test,1f-left-2,in,b1,1f-right-1,1f,right-test,1f-right-2,right-test,b1,right-test,1f-right-1,1f,1f-right-2,1f-left-2,b1-center-2,b1                                                                                                                                                                           1\n",
       "out,in,b1-right,b1,left-2                                                                                                                                                                                                                                                                                                                                                                              1\n",
       "out,in,b1,1f,b1-center-1,b1-left-1,b1-center-2                                                                                                                                                                                                                                                                                                                                                         1\n",
       "out,in,b1,1f,in,b1,1f,in,b1,1f,b1-center-2,1f-right-2,out,in,b1,1f,in,b1,1f,b1-right,b1-right,out,in,b1,1f,b1-center-2,b1-left-2,in,b1,1f,in,b1,1f,b1-right                                                                                                                                                                                                                                            1\n",
       "out,in,b1,out,in,b1,b1-center-2,in,b1,1f,1f-right-1,b1,1f-right-2,in,b1,in,b1,1f-left-1,1f,b1                                                                                                                                                                                                                                                                                                          1\n",
       "out,in,1f-left-1,1f,right-test,1f-right-1,left-test,1f-left-2,1f-right-2,1f-right-2,b1,1f-right-2,1f-right-2,b1,1f-left-1,1f-right-2,1f-right-2,1f-left-1,1f-left-1,1f-left-1                                                                                                                                                                                                                          1\n",
       "out,in,b1,out,out,in,b1,1f,in,b1,1f,left-test,1f-left-2,in,1f,1f-right-2,b1,in,1f,b1,b1-right,1f-right-2,1f,out,in,b1,out,in,b1,out,out,in,b1,out,in,b1,in,b1                                                                                                                                                                                                                                          1\n",
       "out,in,b1,b1-center-2,left-2,b1-left-1,b1-center-1,out                                                                                                                                                                                                                                                                                                                                                 1\n",
       "out,in,b1,in,b1,out,out,in,b1,out,in,b1,out,out,out,out,out,in,b1,out,out,out,out,out,in,b1                                                                                                                                                                                                                                                                                                            1\n",
       "out,in,b1,b1-left-3,b1-right,b1-left-1,b1-center-1,b1-right,b1-center-1,b1-right,left-2,b1-left-1                                                                                                                                                                                                                                                                                                      1\n",
       "out,in,1f,1f-right-2,in,1f,in,1f,in,1f                                                                                                                                                                                                                                                                                                                                                                 1\n",
       "out,in,1f-right-2,1f,1f-left-2,1f-left-1,left-test,1f-left-1,left-test,1f-left-2,1f-left-1,1f-left-1,1f-left-1,left-test,1f-left-2,1f-left-1,1f-left-1,1f-left-2,1f-left-2,1f-left-1,left-test                                                                                                                                                                                                         1\n",
       "out,in,1f-right-2,1f,1f-right-1,1f-right-1,1f-right-1,1f-right-1,1f-right-1,1f-right-1,1f-right-1,1f-right-2,1f-right-2,1f-right-2,1f-right-2                                                                                                                                                                                                                                                          1\n",
       "out,in,b1,1f,in,1f,1f-right-2,b1,in,b1,1f,in,b1,1f,1f-right-2,out,in,b1,1f,1f-right-2,b1,b1,in,b1,1f,in,1f,in,b1,1f                                                                                                                                                                                                                                                                                    1\n",
       "out,in,1f-right-2,1f,out,in,1f-right-2,1f                                                                                                                                                                                                                                                                                                                                                              1\n",
       "out,in,1f-right-2,1f,1f-left-1,1f-right-1,1f-left-1,1f-left-1,1f-left-1,1f-right-1,1f-right-1,left-test,1f-left-2,1f-right-1,1f-right-1                                                                                                                                                                                                                                                                1\n",
       "out,in,b1,in,b1,b1-right,out,in,b1,b1-center-1,left-2,b1-right,b1-center-2,1f                                                                                                                                                                                                                                                                                                                          1\n",
       "out,out,in,b1,out,in,b1,in,b1,in,b1,1f,1f-right-2,in,1f,in,b1,in,b1,in,b1,in,b1,out                                                                                                                                                                                                                                                                                                                    1\n",
       "out,in,1f-right-2,1f,left-test,1f-left-2,right-test,1f-right-1,right-test,right-test,right-test,right-test                                                                                                                                                                                                                                                                                             1\n",
       "out,in,b1,in,b1,in,b1,1f-left-1,1f,1f-right-2,1f-left-2                                                                                                                                                                                                                                                                                                                                                1\n",
       "out,in,b1,1f,out,in,b1,1f,b1-center-2,in,b1,1f,right-test,1f-right-1,1f-right-2,b1-center-2,1f-right-2,b1-center-2,b1-center-2,1f-right-2,in,b1,1f,b1-left-1,b1-center-1,b1-center-2,b1-center-1,b1-center-2,b1-left-1,b1-right,b1-center-1,b1-left-3,b1-center-2,b1-center-2,b1-right,b1-left-1,b1-center-2,b1-center-2,b1-right,b1-left-1,b1-right,b1-center-1,b1-center-2,1f-right-2,1f-left-2      1\n",
       "out,in,b1,in,b1,in,b1,in,b1,in,b1,out,in,b1,b1-right,out,in,b1,1f-right-2,1f,b1,in,b1                                                                                                                                                                                                                                                                                                                  1\n",
       "out,in,b1,in,out,in,1f,1f-right-2,b1,out,in,1f,b1,1f-right-2,in,1f,1f-right-2,in,1f,1f-right-2,out,in,1f-right-2,1f,left-test,1f-left-2,out,in,1f-right-2,1f,b1,in,b1,1f,1f-right-2,b1,in,b1                                                                                                                                                                                                           1\n",
       "out,in,b1,in,b1,out,in,b1,out,in,b1,out,in,b1,in,b1                                                                                                                                                                                                                                                                                                                                                    1\n",
       "out,in,1f-right-2,1f,b1,1f-right-2,in,b1,1f,b1-right,out,in,b1,1f,in,b1,1f,in,b1,1f                                                                                                                                                                                                                                                                                                                    1\n",
       "out,in,b1,1f,1f-right-2,in,b1,out,in,b1,b1-center-2,in,b1,in,b1,b1-center-2,b1-center-2,b1-right,b1-center-1,b1-right,b1-center-2                                                                                                                                                                                                                                                                      1\n",
       "Name: traj, dtype: int64"
      ]
     },
     "execution_count": 140,
     "metadata": {},
     "output_type": "execute_result"
    }
   ],
   "source": [
    "trajs_combined.loc[trajs_combined['revisit_intention'] == 1]['traj'].value_counts()"
   ]
  },
  {
   "cell_type": "code",
   "execution_count": 143,
   "metadata": {
    "collapsed": false,
    "scrolled": true
   },
   "outputs": [
    {
     "data": {
      "text/html": [
       "<div>\n",
       "<table border=\"1\" class=\"dataframe\">\n",
       "  <thead>\n",
       "    <tr style=\"text-align: right;\">\n",
       "      <th></th>\n",
       "      <th>date</th>\n",
       "      <th>device_id</th>\n",
       "      <th>traj</th>\n",
       "      <th>new_visit_count</th>\n",
       "      <th>revisit_intention</th>\n",
       "      <th>num_logs</th>\n",
       "      <th>total_dwell_time</th>\n",
       "      <th>num_sp_100</th>\n",
       "      <th>prob_dwell_10</th>\n",
       "      <th>time_sp_100</th>\n",
       "      <th>std_sp_100</th>\n",
       "      <th>prob_deny</th>\n",
       "    </tr>\n",
       "  </thead>\n",
       "  <tbody>\n",
       "    <tr>\n",
       "      <th>16673_028a1f4dbca00ed06814fdda60f1b599</th>\n",
       "      <td>16673.0</td>\n",
       "      <td>028a1f4dbca00ed06814fdda60f1b599</td>\n",
       "      <td>out,in,b1,1f,b1-left-3,b1-left-2,1f-right-1,1f...</td>\n",
       "      <td>1.0</td>\n",
       "      <td>1.0</td>\n",
       "      <td>14</td>\n",
       "      <td>11092</td>\n",
       "      <td>11.0</td>\n",
       "      <td>0.846154</td>\n",
       "      <td>8329.0</td>\n",
       "      <td>870.565772</td>\n",
       "      <td>0.0</td>\n",
       "    </tr>\n",
       "    <tr>\n",
       "      <th>16673_0bc0852bb3b760c270585483cea24b4a</th>\n",
       "      <td>16673.0</td>\n",
       "      <td>0bc0852bb3b760c270585483cea24b4a</td>\n",
       "      <td>out,in,b1,1f,b1-right</td>\n",
       "      <td>1.0</td>\n",
       "      <td>0.0</td>\n",
       "      <td>5</td>\n",
       "      <td>776</td>\n",
       "      <td>4.0</td>\n",
       "      <td>1.000000</td>\n",
       "      <td>591.0</td>\n",
       "      <td>0.500000</td>\n",
       "      <td>0.0</td>\n",
       "    </tr>\n",
       "    <tr>\n",
       "      <th>16673_0d4fd55bb363bf6f6f7f8b3342cd0467</th>\n",
       "      <td>16673.0</td>\n",
       "      <td>0d4fd55bb363bf6f6f7f8b3342cd0467</td>\n",
       "      <td>out,in,b1,1f,in,b1,1f,in,b1,1f,b1-right,b1-lef...</td>\n",
       "      <td>1.0</td>\n",
       "      <td>1.0</td>\n",
       "      <td>19</td>\n",
       "      <td>76002</td>\n",
       "      <td>16.0</td>\n",
       "      <td>0.888889</td>\n",
       "      <td>53715.0</td>\n",
       "      <td>4072.029735</td>\n",
       "      <td>1.0</td>\n",
       "    </tr>\n",
       "    <tr>\n",
       "      <th>16673_17490e4c91a3ad7d1bdef7e61ea469c3</th>\n",
       "      <td>16673.0</td>\n",
       "      <td>17490e4c91a3ad7d1bdef7e61ea469c3</td>\n",
       "      <td>out,in,1f,1f-left-1</td>\n",
       "      <td>1.0</td>\n",
       "      <td>0.0</td>\n",
       "      <td>4</td>\n",
       "      <td>453</td>\n",
       "      <td>NaN</td>\n",
       "      <td>NaN</td>\n",
       "      <td>NaN</td>\n",
       "      <td>NaN</td>\n",
       "      <td>0.0</td>\n",
       "    </tr>\n",
       "    <tr>\n",
       "      <th>16673_1de880af544e89c437bd624454615e36</th>\n",
       "      <td>16673.0</td>\n",
       "      <td>1de880af544e89c437bd624454615e36</td>\n",
       "      <td>out,in,1f</td>\n",
       "      <td>1.0</td>\n",
       "      <td>0.0</td>\n",
       "      <td>3</td>\n",
       "      <td>240</td>\n",
       "      <td>NaN</td>\n",
       "      <td>NaN</td>\n",
       "      <td>NaN</td>\n",
       "      <td>NaN</td>\n",
       "      <td>0.0</td>\n",
       "    </tr>\n",
       "  </tbody>\n",
       "</table>\n",
       "</div>"
      ],
      "text/plain": [
       "                                           date  \\\n",
       "16673_028a1f4dbca00ed06814fdda60f1b599  16673.0   \n",
       "16673_0bc0852bb3b760c270585483cea24b4a  16673.0   \n",
       "16673_0d4fd55bb363bf6f6f7f8b3342cd0467  16673.0   \n",
       "16673_17490e4c91a3ad7d1bdef7e61ea469c3  16673.0   \n",
       "16673_1de880af544e89c437bd624454615e36  16673.0   \n",
       "\n",
       "                                                               device_id  \\\n",
       "16673_028a1f4dbca00ed06814fdda60f1b599  028a1f4dbca00ed06814fdda60f1b599   \n",
       "16673_0bc0852bb3b760c270585483cea24b4a  0bc0852bb3b760c270585483cea24b4a   \n",
       "16673_0d4fd55bb363bf6f6f7f8b3342cd0467  0d4fd55bb363bf6f6f7f8b3342cd0467   \n",
       "16673_17490e4c91a3ad7d1bdef7e61ea469c3  17490e4c91a3ad7d1bdef7e61ea469c3   \n",
       "16673_1de880af544e89c437bd624454615e36  1de880af544e89c437bd624454615e36   \n",
       "\n",
       "                                                                                     traj  \\\n",
       "16673_028a1f4dbca00ed06814fdda60f1b599  out,in,b1,1f,b1-left-3,b1-left-2,1f-right-1,1f...   \n",
       "16673_0bc0852bb3b760c270585483cea24b4a                              out,in,b1,1f,b1-right   \n",
       "16673_0d4fd55bb363bf6f6f7f8b3342cd0467  out,in,b1,1f,in,b1,1f,in,b1,1f,b1-right,b1-lef...   \n",
       "16673_17490e4c91a3ad7d1bdef7e61ea469c3                                out,in,1f,1f-left-1   \n",
       "16673_1de880af544e89c437bd624454615e36                                          out,in,1f   \n",
       "\n",
       "                                        new_visit_count  revisit_intention  \\\n",
       "16673_028a1f4dbca00ed06814fdda60f1b599              1.0                1.0   \n",
       "16673_0bc0852bb3b760c270585483cea24b4a              1.0                0.0   \n",
       "16673_0d4fd55bb363bf6f6f7f8b3342cd0467              1.0                1.0   \n",
       "16673_17490e4c91a3ad7d1bdef7e61ea469c3              1.0                0.0   \n",
       "16673_1de880af544e89c437bd624454615e36              1.0                0.0   \n",
       "\n",
       "                                        num_logs  total_dwell_time  \\\n",
       "16673_028a1f4dbca00ed06814fdda60f1b599        14             11092   \n",
       "16673_0bc0852bb3b760c270585483cea24b4a         5               776   \n",
       "16673_0d4fd55bb363bf6f6f7f8b3342cd0467        19             76002   \n",
       "16673_17490e4c91a3ad7d1bdef7e61ea469c3         4               453   \n",
       "16673_1de880af544e89c437bd624454615e36         3               240   \n",
       "\n",
       "                                        num_sp_100  prob_dwell_10  \\\n",
       "16673_028a1f4dbca00ed06814fdda60f1b599        11.0       0.846154   \n",
       "16673_0bc0852bb3b760c270585483cea24b4a         4.0       1.000000   \n",
       "16673_0d4fd55bb363bf6f6f7f8b3342cd0467        16.0       0.888889   \n",
       "16673_17490e4c91a3ad7d1bdef7e61ea469c3         NaN            NaN   \n",
       "16673_1de880af544e89c437bd624454615e36         NaN            NaN   \n",
       "\n",
       "                                        time_sp_100   std_sp_100  prob_deny  \n",
       "16673_028a1f4dbca00ed06814fdda60f1b599       8329.0   870.565772        0.0  \n",
       "16673_0bc0852bb3b760c270585483cea24b4a        591.0     0.500000        0.0  \n",
       "16673_0d4fd55bb363bf6f6f7f8b3342cd0467      53715.0  4072.029735        1.0  \n",
       "16673_17490e4c91a3ad7d1bdef7e61ea469c3          NaN          NaN        0.0  \n",
       "16673_1de880af544e89c437bd624454615e36          NaN          NaN        0.0  "
      ]
     },
     "execution_count": 143,
     "metadata": {},
     "output_type": "execute_result"
    }
   ],
   "source": [
    "trajs_combined.head(5)"
   ]
  },
  {
   "cell_type": "code",
   "execution_count": 162,
   "metadata": {
    "collapsed": false
   },
   "outputs": [],
   "source": [
    "### revisit_intention (predict해야 하는 라벨)을 가장 끝으로 보냄.\n",
    "cols = trajs_combined.columns.tolist()\n",
    "newcols = cols[:4]+cols[5:]+cols[4:5]\n",
    "trajs_combined = trajs_combined[newcols]"
   ]
  },
  {
   "cell_type": "code",
   "execution_count": 163,
   "metadata": {
    "collapsed": false
   },
   "outputs": [
    {
     "data": {
      "text/html": [
       "<div>\n",
       "<table border=\"1\" class=\"dataframe\">\n",
       "  <thead>\n",
       "    <tr style=\"text-align: right;\">\n",
       "      <th></th>\n",
       "      <th>date</th>\n",
       "      <th>device_id</th>\n",
       "      <th>traj</th>\n",
       "      <th>new_visit_count</th>\n",
       "      <th>num_logs</th>\n",
       "      <th>total_dwell_time</th>\n",
       "      <th>num_sp_100</th>\n",
       "      <th>prob_dwell_10</th>\n",
       "      <th>time_sp_100</th>\n",
       "      <th>std_sp_100</th>\n",
       "      <th>prob_deny</th>\n",
       "      <th>revisit_intention</th>\n",
       "    </tr>\n",
       "  </thead>\n",
       "  <tbody>\n",
       "    <tr>\n",
       "      <th>16673_028a1f4dbca00ed06814fdda60f1b599</th>\n",
       "      <td>16673.0</td>\n",
       "      <td>028a1f4dbca00ed06814fdda60f1b599</td>\n",
       "      <td>out,in,b1,1f,b1-left-3,b1-left-2,1f-right-1,1f...</td>\n",
       "      <td>1.0</td>\n",
       "      <td>14</td>\n",
       "      <td>11092</td>\n",
       "      <td>11.0</td>\n",
       "      <td>0.846154</td>\n",
       "      <td>8329.0</td>\n",
       "      <td>870.565772</td>\n",
       "      <td>0.0</td>\n",
       "      <td>1.0</td>\n",
       "    </tr>\n",
       "    <tr>\n",
       "      <th>16673_0bc0852bb3b760c270585483cea24b4a</th>\n",
       "      <td>16673.0</td>\n",
       "      <td>0bc0852bb3b760c270585483cea24b4a</td>\n",
       "      <td>out,in,b1,1f,b1-right</td>\n",
       "      <td>1.0</td>\n",
       "      <td>5</td>\n",
       "      <td>776</td>\n",
       "      <td>4.0</td>\n",
       "      <td>1.000000</td>\n",
       "      <td>591.0</td>\n",
       "      <td>0.500000</td>\n",
       "      <td>0.0</td>\n",
       "      <td>0.0</td>\n",
       "    </tr>\n",
       "    <tr>\n",
       "      <th>16673_0d4fd55bb363bf6f6f7f8b3342cd0467</th>\n",
       "      <td>16673.0</td>\n",
       "      <td>0d4fd55bb363bf6f6f7f8b3342cd0467</td>\n",
       "      <td>out,in,b1,1f,in,b1,1f,in,b1,1f,b1-right,b1-lef...</td>\n",
       "      <td>1.0</td>\n",
       "      <td>19</td>\n",
       "      <td>76002</td>\n",
       "      <td>16.0</td>\n",
       "      <td>0.888889</td>\n",
       "      <td>53715.0</td>\n",
       "      <td>4072.029735</td>\n",
       "      <td>1.0</td>\n",
       "      <td>1.0</td>\n",
       "    </tr>\n",
       "    <tr>\n",
       "      <th>16673_17490e4c91a3ad7d1bdef7e61ea469c3</th>\n",
       "      <td>16673.0</td>\n",
       "      <td>17490e4c91a3ad7d1bdef7e61ea469c3</td>\n",
       "      <td>out,in,1f,1f-left-1</td>\n",
       "      <td>1.0</td>\n",
       "      <td>4</td>\n",
       "      <td>453</td>\n",
       "      <td>NaN</td>\n",
       "      <td>NaN</td>\n",
       "      <td>NaN</td>\n",
       "      <td>NaN</td>\n",
       "      <td>0.0</td>\n",
       "      <td>0.0</td>\n",
       "    </tr>\n",
       "    <tr>\n",
       "      <th>16673_1de880af544e89c437bd624454615e36</th>\n",
       "      <td>16673.0</td>\n",
       "      <td>1de880af544e89c437bd624454615e36</td>\n",
       "      <td>out,in,1f</td>\n",
       "      <td>1.0</td>\n",
       "      <td>3</td>\n",
       "      <td>240</td>\n",
       "      <td>NaN</td>\n",
       "      <td>NaN</td>\n",
       "      <td>NaN</td>\n",
       "      <td>NaN</td>\n",
       "      <td>0.0</td>\n",
       "      <td>0.0</td>\n",
       "    </tr>\n",
       "  </tbody>\n",
       "</table>\n",
       "</div>"
      ],
      "text/plain": [
       "                                           date  \\\n",
       "16673_028a1f4dbca00ed06814fdda60f1b599  16673.0   \n",
       "16673_0bc0852bb3b760c270585483cea24b4a  16673.0   \n",
       "16673_0d4fd55bb363bf6f6f7f8b3342cd0467  16673.0   \n",
       "16673_17490e4c91a3ad7d1bdef7e61ea469c3  16673.0   \n",
       "16673_1de880af544e89c437bd624454615e36  16673.0   \n",
       "\n",
       "                                                               device_id  \\\n",
       "16673_028a1f4dbca00ed06814fdda60f1b599  028a1f4dbca00ed06814fdda60f1b599   \n",
       "16673_0bc0852bb3b760c270585483cea24b4a  0bc0852bb3b760c270585483cea24b4a   \n",
       "16673_0d4fd55bb363bf6f6f7f8b3342cd0467  0d4fd55bb363bf6f6f7f8b3342cd0467   \n",
       "16673_17490e4c91a3ad7d1bdef7e61ea469c3  17490e4c91a3ad7d1bdef7e61ea469c3   \n",
       "16673_1de880af544e89c437bd624454615e36  1de880af544e89c437bd624454615e36   \n",
       "\n",
       "                                                                                     traj  \\\n",
       "16673_028a1f4dbca00ed06814fdda60f1b599  out,in,b1,1f,b1-left-3,b1-left-2,1f-right-1,1f...   \n",
       "16673_0bc0852bb3b760c270585483cea24b4a                              out,in,b1,1f,b1-right   \n",
       "16673_0d4fd55bb363bf6f6f7f8b3342cd0467  out,in,b1,1f,in,b1,1f,in,b1,1f,b1-right,b1-lef...   \n",
       "16673_17490e4c91a3ad7d1bdef7e61ea469c3                                out,in,1f,1f-left-1   \n",
       "16673_1de880af544e89c437bd624454615e36                                          out,in,1f   \n",
       "\n",
       "                                        new_visit_count  num_logs  \\\n",
       "16673_028a1f4dbca00ed06814fdda60f1b599              1.0        14   \n",
       "16673_0bc0852bb3b760c270585483cea24b4a              1.0         5   \n",
       "16673_0d4fd55bb363bf6f6f7f8b3342cd0467              1.0        19   \n",
       "16673_17490e4c91a3ad7d1bdef7e61ea469c3              1.0         4   \n",
       "16673_1de880af544e89c437bd624454615e36              1.0         3   \n",
       "\n",
       "                                        total_dwell_time  num_sp_100  \\\n",
       "16673_028a1f4dbca00ed06814fdda60f1b599             11092        11.0   \n",
       "16673_0bc0852bb3b760c270585483cea24b4a               776         4.0   \n",
       "16673_0d4fd55bb363bf6f6f7f8b3342cd0467             76002        16.0   \n",
       "16673_17490e4c91a3ad7d1bdef7e61ea469c3               453         NaN   \n",
       "16673_1de880af544e89c437bd624454615e36               240         NaN   \n",
       "\n",
       "                                        prob_dwell_10  time_sp_100  \\\n",
       "16673_028a1f4dbca00ed06814fdda60f1b599       0.846154       8329.0   \n",
       "16673_0bc0852bb3b760c270585483cea24b4a       1.000000        591.0   \n",
       "16673_0d4fd55bb363bf6f6f7f8b3342cd0467       0.888889      53715.0   \n",
       "16673_17490e4c91a3ad7d1bdef7e61ea469c3            NaN          NaN   \n",
       "16673_1de880af544e89c437bd624454615e36            NaN          NaN   \n",
       "\n",
       "                                         std_sp_100  prob_deny  \\\n",
       "16673_028a1f4dbca00ed06814fdda60f1b599   870.565772        0.0   \n",
       "16673_0bc0852bb3b760c270585483cea24b4a     0.500000        0.0   \n",
       "16673_0d4fd55bb363bf6f6f7f8b3342cd0467  4072.029735        1.0   \n",
       "16673_17490e4c91a3ad7d1bdef7e61ea469c3          NaN        0.0   \n",
       "16673_1de880af544e89c437bd624454615e36          NaN        0.0   \n",
       "\n",
       "                                        revisit_intention  \n",
       "16673_028a1f4dbca00ed06814fdda60f1b599                1.0  \n",
       "16673_0bc0852bb3b760c270585483cea24b4a                0.0  \n",
       "16673_0d4fd55bb363bf6f6f7f8b3342cd0467                1.0  \n",
       "16673_17490e4c91a3ad7d1bdef7e61ea469c3                0.0  \n",
       "16673_1de880af544e89c437bd624454615e36                0.0  "
      ]
     },
     "execution_count": 163,
     "metadata": {},
     "output_type": "execute_result"
    }
   ],
   "source": [
    "trajs_combined.head(5)"
   ]
  },
  {
   "cell_type": "markdown",
   "metadata": {},
   "source": [
    "### XGBoost로 테스트 "
   ]
  },
  {
   "cell_type": "code",
   "execution_count": 173,
   "metadata": {
    "collapsed": true
   },
   "outputs": [],
   "source": [
    "import datetime\n",
    "import pandas as pd\n",
    "import numpy as np\n",
    "from sklearn.cross_validation import train_test_split\n",
    "import xgboost as xgb\n",
    "import random\n",
    "import zipfile\n",
    "import time\n",
    "import shutil\n",
    "from sklearn.metrics import log_loss\n",
    "from sklearn.metrics import mean_squared_error\n",
    "import json\n",
    "\n",
    "random.seed(2016)\n",
    "datadir = \"../data/781/781.p\""
   ]
  },
  {
   "cell_type": "code",
   "execution_count": 164,
   "metadata": {
    "collapsed": false
   },
   "outputs": [],
   "source": [
    "def run_xgb(train, test, features, target, random_state=0):\n",
    "    start_time = time.time()\n",
    "    objective = \"reg:linear\"\n",
    "    booster = \"gbtree\"\n",
    "    eval_metric = [\"auc\", \"rmse\"]\n",
    "    eta = 0.1\n",
    "    max_depth = 3\n",
    "    subsample = 0.7\n",
    "    colsample_bytree = 0.7\n",
    "    silent = 1\n",
    "\n",
    "    print('XGBoost params. ETA: {}, MAX_DEPTH: {}, SUBSAMPLE: {}, COLSAMPLE_BY_TREE: {}'.format(eta, max_depth, subsample, colsample_bytree))\n",
    "    params = {\n",
    "        \"objective\": objective,\n",
    "    #         \"num_class\": 2,\n",
    "        \"booster\" : booster,\n",
    "        \"eval_metric\": eval_metric,\n",
    "        \"eta\": eta,\n",
    "        \"max_depth\": max_depth,\n",
    "        \"subsample\": subsample,\n",
    "        \"colsample_bytree\": colsample_bytree,\n",
    "        \"silent\": silent,\n",
    "        \"seed\": random_state,\n",
    "    }\n",
    "    num_boost_round = 200\n",
    "    early_stopping_rounds = 20\n",
    "    test_size = 0.2\n",
    "\n",
    "    X_train, X_valid = train_test_split(train, test_size=test_size, random_state=random_state)\n",
    "    print('Length train:', len(X_train.index))\n",
    "    print('Length valid:', len(X_valid.index))\n",
    "    y_train = X_train[target]\n",
    "    y_valid = X_valid[target]\n",
    "    dtrain = xgb.DMatrix(X_train[features], y_train)\n",
    "    dvalid = xgb.DMatrix(X_valid[features], y_valid)\n",
    "\n",
    "    watchlist = [(dtrain, 'train'), (dvalid, 'eval')]\n",
    "    gbm = xgb.train(params, dtrain, num_boost_round, evals=watchlist, early_stopping_rounds=early_stopping_rounds, verbose_eval=True)\n",
    "\n",
    "    print(\"Validating...\")\n",
    "    check = gbm.predict(xgb.DMatrix(X_valid[features]), ntree_limit=gbm.best_iteration)\n",
    "\n",
    "    score = mean_squared_error(y_valid.tolist(), check)\n",
    "\n",
    "    print(\"Predict test set...\")\n",
    "    test_prediction = gbm.predict(xgb.DMatrix(test[features]), ntree_limit=gbm.best_iteration)\n",
    "\n",
    "    training_time = round((time.time() - start_time)/60, 2)\n",
    "    print('Training time: {} minutes'.format(training_time))\n",
    "\n",
    "    print(gbm)\n",
    "\n",
    "    # To save logs\n",
    "    explog = {}\n",
    "    explog['features'] = features\n",
    "    explog['target'] = target\n",
    "    explog['params'] = {}\n",
    "    explog['params']['objective'] = objective\n",
    "    explog['params']['booster'] = booster\n",
    "    explog['params']['eval_metric'] = eval_metric\n",
    "    explog['params']['eta'] = eta\n",
    "    explog['params']['max_depth'] = max_depth\n",
    "    explog['params']['subsample'] = subsample\n",
    "    explog['params']['colsample_bytree'] = colsample_bytree\n",
    "    explog['params']['silent'] = silent\n",
    "    explog['params']['seed'] = random_state\n",
    "    explog['params']['num_boost_round'] = num_boost_round\n",
    "    explog['params']['early_stopping_rounds'] = early_stopping_rounds\n",
    "    explog['params']['test_size'] = test_size\n",
    "    explog['length_train']= len(X_train.index)\n",
    "    explog['length_valid']= len(X_valid.index)\n",
    "    # explog['gbm_best_iteration']= \n",
    "    explog['score'] = score\n",
    "    explog['training_time'] = training_time\n",
    "\n",
    "\n",
    "\n",
    "\n",
    "    return test_prediction.tolist(), score, explog"
   ]
  },
  {
   "cell_type": "code",
   "execution_count": 165,
   "metadata": {
    "collapsed": true
   },
   "outputs": [],
   "source": [
    "def updateLog(explog, logPath):\n",
    "    try:\n",
    "        with open(logPath, 'r') as f:\n",
    "            obob = json.load(f)\n",
    "        f.close()\n",
    "    except:\n",
    "        obob = []\n",
    "\n",
    "\n",
    "    obob.append(explog)\n",
    "\n",
    "    with open(logPath, 'w') as f:\n",
    "        json.dump(obob, f)\n",
    "    f.close()"
   ]
  },
  {
   "cell_type": "code",
   "execution_count": 174,
   "metadata": {
    "collapsed": false
   },
   "outputs": [
    {
     "name": "stdout",
     "output_type": "stream",
     "text": [
      "Length of train:  45209\n",
      "Length of test:  5024\n",
      "Features [8]: ['new_visit_count', 'num_logs', 'num_sp_100', 'prob_deny', 'prob_dwell_10', 'std_sp_100', 'time_sp_100', 'total_dwell_time']\n",
      "XGBoost params. ETA: 0.1, MAX_DEPTH: 3, SUBSAMPLE: 0.7, COLSAMPLE_BY_TREE: 0.7\n",
      "Length train: 36167\n",
      "Length valid: 9042\n"
     ]
    },
    {
     "name": "stderr",
     "output_type": "stream",
     "text": [
      "Will train until eval error hasn't decreased in 20 rounds.\n",
      "Multiple eval metrics have been passed: 'rmse' will be used for early stopping.\n",
      "\n",
      "[0]\ttrain-auc:0.948440\ttrain-rmse:0.455263\teval-auc:0.943472\teval-rmse:0.455341\n",
      "[1]\ttrain-auc:0.953184\ttrain-rmse:0.416022\teval-auc:0.947812\teval-rmse:0.416135\n",
      "[2]\ttrain-auc:0.956822\ttrain-rmse:0.380169\teval-auc:0.951259\teval-rmse:0.380416\n",
      "[3]\ttrain-auc:0.957118\ttrain-rmse:0.349273\teval-auc:0.951330\teval-rmse:0.349681\n",
      "[4]\ttrain-auc:0.961599\ttrain-rmse:0.320764\teval-auc:0.955957\teval-rmse:0.321220\n",
      "[5]\ttrain-auc:0.961730\ttrain-rmse:0.295706\teval-auc:0.956028\teval-rmse:0.296308\n",
      "[6]\ttrain-auc:0.961817\ttrain-rmse:0.273754\teval-auc:0.956163\teval-rmse:0.274493\n",
      "[7]\ttrain-auc:0.961844\ttrain-rmse:0.255379\teval-auc:0.956620\teval-rmse:0.256155\n",
      "[8]\ttrain-auc:0.961947\ttrain-rmse:0.238682\teval-auc:0.956163\teval-rmse:0.239625\n",
      "[9]\ttrain-auc:0.962768\ttrain-rmse:0.223666\teval-auc:0.957623\teval-rmse:0.224644\n",
      "[10]\ttrain-auc:0.962898\ttrain-rmse:0.210612\teval-auc:0.957834\teval-rmse:0.211663\n",
      "[11]\ttrain-auc:0.962906\ttrain-rmse:0.200289\teval-auc:0.957790\teval-rmse:0.201526\n",
      "[12]\ttrain-auc:0.962930\ttrain-rmse:0.191515\teval-auc:0.957873\teval-rmse:0.192905\n",
      "[13]\ttrain-auc:0.963062\ttrain-rmse:0.183268\teval-auc:0.957928\teval-rmse:0.184704\n",
      "[14]\ttrain-auc:0.963034\ttrain-rmse:0.176740\teval-auc:0.957896\teval-rmse:0.178342\n",
      "[15]\ttrain-auc:0.963040\ttrain-rmse:0.171350\teval-auc:0.957901\teval-rmse:0.173060\n",
      "[16]\ttrain-auc:0.963181\ttrain-rmse:0.166181\teval-auc:0.958011\teval-rmse:0.167973\n",
      "[17]\ttrain-auc:0.963719\ttrain-rmse:0.161906\teval-auc:0.958812\teval-rmse:0.163783\n",
      "[18]\ttrain-auc:0.964107\ttrain-rmse:0.158566\teval-auc:0.958859\teval-rmse:0.160577\n",
      "[19]\ttrain-auc:0.964127\ttrain-rmse:0.155561\teval-auc:0.958831\teval-rmse:0.157655\n",
      "[20]\ttrain-auc:0.964089\ttrain-rmse:0.153488\teval-auc:0.958849\teval-rmse:0.155702\n",
      "[21]\ttrain-auc:0.964097\ttrain-rmse:0.151673\teval-auc:0.958879\teval-rmse:0.154004\n",
      "[22]\ttrain-auc:0.964093\ttrain-rmse:0.150070\teval-auc:0.958884\teval-rmse:0.152489\n",
      "[23]\ttrain-auc:0.964414\ttrain-rmse:0.148497\teval-auc:0.959099\teval-rmse:0.150936\n",
      "[24]\ttrain-auc:0.964496\ttrain-rmse:0.147165\teval-auc:0.959211\teval-rmse:0.149554\n",
      "[25]\ttrain-auc:0.964680\ttrain-rmse:0.146061\teval-auc:0.959265\teval-rmse:0.148398\n",
      "[26]\ttrain-auc:0.965360\ttrain-rmse:0.145280\teval-auc:0.960280\teval-rmse:0.147690\n",
      "[27]\ttrain-auc:0.965453\ttrain-rmse:0.144415\teval-auc:0.960445\teval-rmse:0.146836\n",
      "[28]\ttrain-auc:0.965518\ttrain-rmse:0.143606\teval-auc:0.960503\teval-rmse:0.146065\n",
      "[29]\ttrain-auc:0.965557\ttrain-rmse:0.142985\teval-auc:0.960577\teval-rmse:0.145419\n",
      "[30]\ttrain-auc:0.965941\ttrain-rmse:0.142373\teval-auc:0.961118\teval-rmse:0.144817\n",
      "[31]\ttrain-auc:0.966192\ttrain-rmse:0.141854\teval-auc:0.961390\teval-rmse:0.144233\n",
      "[32]\ttrain-auc:0.966217\ttrain-rmse:0.141608\teval-auc:0.961452\teval-rmse:0.144103\n",
      "[33]\ttrain-auc:0.966228\ttrain-rmse:0.141407\teval-auc:0.961462\teval-rmse:0.143962\n",
      "[34]\ttrain-auc:0.966234\ttrain-rmse:0.141256\teval-auc:0.961464\teval-rmse:0.143839\n",
      "[35]\ttrain-auc:0.966667\ttrain-rmse:0.141018\teval-auc:0.961247\teval-rmse:0.143660\n",
      "[36]\ttrain-auc:0.967303\ttrain-rmse:0.140635\teval-auc:0.961776\teval-rmse:0.143352\n",
      "[37]\ttrain-auc:0.967321\ttrain-rmse:0.140487\teval-auc:0.961785\teval-rmse:0.143295\n",
      "[38]\ttrain-auc:0.967364\ttrain-rmse:0.140365\teval-auc:0.961802\teval-rmse:0.143212\n",
      "[39]\ttrain-auc:0.967443\ttrain-rmse:0.140178\teval-auc:0.961676\teval-rmse:0.143029\n",
      "[40]\ttrain-auc:0.967473\ttrain-rmse:0.139967\teval-auc:0.961692\teval-rmse:0.142887\n",
      "[41]\ttrain-auc:0.967753\ttrain-rmse:0.139793\teval-auc:0.962016\teval-rmse:0.142733\n",
      "[42]\ttrain-auc:0.967770\ttrain-rmse:0.139756\teval-auc:0.962059\teval-rmse:0.142757\n",
      "[43]\ttrain-auc:0.967860\ttrain-rmse:0.139692\teval-auc:0.961933\teval-rmse:0.142763\n",
      "[44]\ttrain-auc:0.967939\ttrain-rmse:0.139532\teval-auc:0.962185\teval-rmse:0.142666\n",
      "[45]\ttrain-auc:0.967936\ttrain-rmse:0.139496\teval-auc:0.962180\teval-rmse:0.142679\n",
      "[46]\ttrain-auc:0.967808\ttrain-rmse:0.139334\teval-auc:0.962227\teval-rmse:0.142492\n",
      "[47]\ttrain-auc:0.967816\ttrain-rmse:0.139272\teval-auc:0.962224\teval-rmse:0.142519\n",
      "[48]\ttrain-auc:0.967897\ttrain-rmse:0.139175\teval-auc:0.962578\teval-rmse:0.142468\n",
      "[49]\ttrain-auc:0.968215\ttrain-rmse:0.139046\teval-auc:0.962675\teval-rmse:0.142345\n",
      "[50]\ttrain-auc:0.968216\ttrain-rmse:0.139015\teval-auc:0.962676\teval-rmse:0.142329\n",
      "[51]\ttrain-auc:0.968205\ttrain-rmse:0.138917\teval-auc:0.962712\teval-rmse:0.142249\n",
      "[52]\ttrain-auc:0.968332\ttrain-rmse:0.138889\teval-auc:0.962754\teval-rmse:0.142223\n",
      "[53]\ttrain-auc:0.968341\ttrain-rmse:0.138812\teval-auc:0.962755\teval-rmse:0.142223\n",
      "[54]\ttrain-auc:0.968501\ttrain-rmse:0.138669\teval-auc:0.962950\teval-rmse:0.142021\n",
      "[55]\ttrain-auc:0.968636\ttrain-rmse:0.138552\teval-auc:0.963257\teval-rmse:0.141885\n",
      "[56]\ttrain-auc:0.968663\ttrain-rmse:0.138461\teval-auc:0.963342\teval-rmse:0.141782\n",
      "[57]\ttrain-auc:0.968881\ttrain-rmse:0.138367\teval-auc:0.963831\teval-rmse:0.141669\n",
      "[58]\ttrain-auc:0.968886\ttrain-rmse:0.138328\teval-auc:0.963845\teval-rmse:0.141663\n",
      "[59]\ttrain-auc:0.968890\ttrain-rmse:0.138286\teval-auc:0.963844\teval-rmse:0.141673\n",
      "[60]\ttrain-auc:0.968878\ttrain-rmse:0.138246\teval-auc:0.963804\teval-rmse:0.141672\n",
      "[61]\ttrain-auc:0.968879\ttrain-rmse:0.138231\teval-auc:0.963804\teval-rmse:0.141662\n",
      "[62]\ttrain-auc:0.968924\ttrain-rmse:0.138153\teval-auc:0.963869\teval-rmse:0.141685\n",
      "[63]\ttrain-auc:0.968927\ttrain-rmse:0.138121\teval-auc:0.963868\teval-rmse:0.141696\n",
      "[64]\ttrain-auc:0.968943\ttrain-rmse:0.138043\teval-auc:0.963889\teval-rmse:0.141646\n",
      "[65]\ttrain-auc:0.969167\ttrain-rmse:0.137994\teval-auc:0.963993\teval-rmse:0.141625\n",
      "[66]\ttrain-auc:0.969189\ttrain-rmse:0.137929\teval-auc:0.964006\teval-rmse:0.141597\n",
      "[67]\ttrain-auc:0.969437\ttrain-rmse:0.137906\teval-auc:0.964315\teval-rmse:0.141567\n",
      "[68]\ttrain-auc:0.969447\ttrain-rmse:0.137874\teval-auc:0.964313\teval-rmse:0.141578\n",
      "[69]\ttrain-auc:0.969477\ttrain-rmse:0.137851\teval-auc:0.964126\teval-rmse:0.141580\n",
      "[70]\ttrain-auc:0.969537\ttrain-rmse:0.137806\teval-auc:0.964116\teval-rmse:0.141600\n",
      "[71]\ttrain-auc:0.969730\ttrain-rmse:0.137769\teval-auc:0.964057\teval-rmse:0.141613\n",
      "[72]\ttrain-auc:0.969814\ttrain-rmse:0.137716\teval-auc:0.964077\teval-rmse:0.141617\n",
      "[73]\ttrain-auc:0.969863\ttrain-rmse:0.137674\teval-auc:0.964088\teval-rmse:0.141623\n",
      "[74]\ttrain-auc:0.969814\ttrain-rmse:0.137599\teval-auc:0.964061\teval-rmse:0.141599\n",
      "[75]\ttrain-auc:0.969823\ttrain-rmse:0.137566\teval-auc:0.964085\teval-rmse:0.141613\n",
      "[76]\ttrain-auc:0.970098\ttrain-rmse:0.137499\teval-auc:0.964368\teval-rmse:0.141565\n",
      "[77]\ttrain-auc:0.970158\ttrain-rmse:0.137466\teval-auc:0.964261\teval-rmse:0.141621\n",
      "[78]\ttrain-auc:0.970162\ttrain-rmse:0.137420\teval-auc:0.964260\teval-rmse:0.141623\n",
      "[79]\ttrain-auc:0.970165\ttrain-rmse:0.137385\teval-auc:0.964257\teval-rmse:0.141645\n",
      "[80]\ttrain-auc:0.970171\ttrain-rmse:0.137351\teval-auc:0.964254\teval-rmse:0.141646\n",
      "[81]\ttrain-auc:0.970140\ttrain-rmse:0.137299\teval-auc:0.964097\teval-rmse:0.141583\n",
      "[82]\ttrain-auc:0.970133\ttrain-rmse:0.137254\teval-auc:0.964117\teval-rmse:0.141628\n",
      "[83]\ttrain-auc:0.970136\ttrain-rmse:0.137205\teval-auc:0.964112\teval-rmse:0.141662\n",
      "[84]\ttrain-auc:0.970069\ttrain-rmse:0.137162\teval-auc:0.964043\teval-rmse:0.141630\n",
      "[85]\ttrain-auc:0.970001\ttrain-rmse:0.137150\teval-auc:0.964241\teval-rmse:0.141626\n",
      "[86]\ttrain-auc:0.970003\ttrain-rmse:0.137128\teval-auc:0.964240\teval-rmse:0.141639\n",
      "[87]\ttrain-auc:0.970007\ttrain-rmse:0.137076\teval-auc:0.964235\teval-rmse:0.141639\n",
      "[88]\ttrain-auc:0.970010\ttrain-rmse:0.137044\teval-auc:0.964235\teval-rmse:0.141646\n",
      "[89]\ttrain-auc:0.970012\ttrain-rmse:0.137010\teval-auc:0.964229\teval-rmse:0.141646\n",
      "[90]\ttrain-auc:0.970017\ttrain-rmse:0.136962\teval-auc:0.964221\teval-rmse:0.141672\n",
      "[91]\ttrain-auc:0.970018\ttrain-rmse:0.136940\teval-auc:0.964222\teval-rmse:0.141648\n",
      "[92]\ttrain-auc:0.970017\ttrain-rmse:0.136911\teval-auc:0.964214\teval-rmse:0.141682\n",
      "[93]\ttrain-auc:0.970020\ttrain-rmse:0.136879\teval-auc:0.964196\teval-rmse:0.141696\n",
      "[94]\ttrain-auc:0.970110\ttrain-rmse:0.136827\teval-auc:0.964212\teval-rmse:0.141715\n"
     ]
    },
    {
     "name": "stdout",
     "output_type": "stream",
     "text": [
      "Validating...\n",
      "Predict test set...\n",
      "Training time: 0.02 minutes\n",
      "<xgboost.core.Booster object at 0x16d6385c0>\n",
      "Score:  0.0200542615548\n"
     ]
    },
    {
     "name": "stderr",
     "output_type": "stream",
     "text": [
      "[95]\ttrain-auc:0.970112\ttrain-rmse:0.136797\teval-auc:0.964221\teval-rmse:0.141717\n",
      "[96]\ttrain-auc:0.970112\ttrain-rmse:0.136786\teval-auc:0.964220\teval-rmse:0.141722\n",
      "Stopping. Best iteration:\n",
      "[76]\ttrain-auc:0.970098\ttrain-rmse:0.137499\teval-auc:0.964368\teval-rmse:0.141565\n",
      "\n"
     ]
    }
   ],
   "source": [
    "trajs_combined = trajs_combined.fillna(0)\n",
    "trajs_combined = trajs_combined.reindex(np.random.permutation(trajs_combined.index))\n",
    "\n",
    "idx = int(len(trajs_combined.index)*9/10)\n",
    "train = trajs_combined[:idx]\n",
    "test = trajs_combined[idx:]\n",
    "features = list(trajs_combined.columns)[3:-1]\n",
    "target = 'revisit_intention'\n",
    "\n",
    "print('Length of train: ', len(train))\n",
    "print('Length of test: ', len(test))\n",
    "print('Features [{}]: {}'.format(len(features), sorted(features)))\n",
    "\n",
    "test_prediction, score, explog = run_xgb(train, test, features, target)\n",
    "print('Score: ', score)\n",
    "\n",
    "logPath = '../result/results.json'\n",
    "\n",
    "explog['dataset']= datadir\n",
    "explog['ts']= time.strftime('%Y-%m-%d %H:%M:%S')\n",
    "\n",
    "updateLog(explog, logPath)"
   ]
  },
  {
   "cell_type": "code",
   "execution_count": null,
   "metadata": {
    "collapsed": true
   },
   "outputs": [],
   "source": []
  },
  {
   "cell_type": "code",
   "execution_count": null,
   "metadata": {
    "collapsed": true
   },
   "outputs": [],
   "source": []
  },
  {
   "cell_type": "code",
   "execution_count": null,
   "metadata": {
    "collapsed": true
   },
   "outputs": [],
   "source": []
  },
  {
   "cell_type": "code",
   "execution_count": null,
   "metadata": {
    "collapsed": true
   },
   "outputs": [],
   "source": []
  },
  {
   "cell_type": "code",
   "execution_count": null,
   "metadata": {
    "collapsed": true
   },
   "outputs": [],
   "source": []
  },
  {
   "cell_type": "code",
   "execution_count": null,
   "metadata": {
    "collapsed": true
   },
   "outputs": [],
   "source": []
  },
  {
   "cell_type": "code",
   "execution_count": null,
   "metadata": {
    "collapsed": true
   },
   "outputs": [],
   "source": []
  },
  {
   "cell_type": "code",
   "execution_count": null,
   "metadata": {
    "collapsed": true
   },
   "outputs": [],
   "source": []
  },
  {
   "cell_type": "code",
   "execution_count": null,
   "metadata": {
    "collapsed": true
   },
   "outputs": [],
   "source": []
  },
  {
   "cell_type": "code",
   "execution_count": null,
   "metadata": {
    "collapsed": true
   },
   "outputs": [],
   "source": []
  },
  {
   "cell_type": "code",
   "execution_count": null,
   "metadata": {
    "collapsed": true
   },
   "outputs": [],
   "source": []
  },
  {
   "cell_type": "markdown",
   "metadata": {},
   "source": [
    "### 데이터 validity check한 흔적들..."
   ]
  },
  {
   "cell_type": "code",
   "execution_count": 67,
   "metadata": {
    "collapsed": false,
    "scrolled": true
   },
   "outputs": [
    {
     "data": {
      "text/plain": [
       "0.0    46331\n",
       "1.0     3903\n",
       "Name: revisit_intention, dtype: int64"
      ]
     },
     "execution_count": 67,
     "metadata": {},
     "output_type": "execute_result"
    }
   ],
   "source": [
    "### visit_count(매장에 정식으로 방문한 횟수)가 1이상인 moving patterns 중 6개월 내에 revisit intention이 있는 moving pattern들의 count\n",
    "trajs['revisit_intention'].value_counts()"
   ]
  },
  {
   "cell_type": "code",
   "execution_count": 66,
   "metadata": {
    "collapsed": false
   },
   "outputs": [
    {
     "name": "stdout",
     "output_type": "stream",
     "text": [
      "1.0     36509\n",
      "2.0      3952\n",
      "3.0      1115\n",
      "4.0       608\n",
      "5.0       527\n",
      "6.0       179\n",
      "7.0       349\n",
      "8.0       125\n",
      "9.0       218\n",
      "10.0      133\n",
      "Name: new_visit_count, dtype: int64\n",
      "42\n",
      "39\n"
     ]
    }
   ],
   "source": [
    "### n 이 n+1보다 큰 경우가 있는데, n번 방문 후 찍히는 outout같은 로그들(revisit과는 상관없는 로그)들이 중간에 포함되어 있어서 그렇다는 걸 알게 됨.\n",
    "print(trajs['new_visit_count'].value_counts().sort_index().head(10))\n",
    "\n",
    "### revisit_intention = 1 인 정상적인 moving pattern 개수는 monotonically decreasing함.\n",
    "print(trajs.loc[(trajs['new_visit_count']==8) & (trajs['revisit_intention'] == 1)]['traj'].count())\n",
    "print(trajs.loc[(trajs['new_visit_count']==9) & (trajs['revisit_intention'] == 1)]['traj'].count())"
   ]
  },
  {
   "cell_type": "code",
   "execution_count": 86,
   "metadata": {
    "collapsed": false
   },
   "outputs": [
    {
     "data": {
      "text/plain": [
       "out                                                                                                                                                                                                                                                                                                                          1597404\n",
       "out,out                                                                                                                                                                                                                                                                                                                       198370\n",
       "out,out,out                                                                                                                                                                                                                                                                                                                    34865\n",
       "out,out,out,out                                                                                                                                                                                                                                                                                                                10235\n",
       "out,out,out,out,out                                                                                                                                                                                                                                                                                                             4608\n",
       "out,in,1f                                                                                                                                                                                                                                                                                                                       4292\n",
       "out,in,b1                                                                                                                                                                                                                                                                                                                       2838\n",
       "out,out,out,out,out,out                                                                                                                                                                                                                                                                                                         2786\n",
       "out,out,out,out,out,out,out                                                                                                                                                                                                                                                                                                     1979\n",
       "out,out,out,out,out,out,out,out                                                                                                                                                                                                                                                                                                 1519\n",
       "out,out,out,out,out,out,out,out,out                                                                                                                                                                                                                                                                                             1184\n",
       "out,out,out,out,out,out,out,out,out,out                                                                                                                                                                                                                                                                                         1004\n",
       "out,in,b1,1f                                                                                                                                                                                                                                                                                                                    1002\n",
       "out,out,out,out,out,out,out,out,out,out,out,out                                                                                                                                                                                                                                                                                  881\n",
       "out,out,out,out,out,out,out,out,out,out,out                                                                                                                                                                                                                                                                                      867\n",
       "out,in,1f,out                                                                                                                                                                                                                                                                                                                    724\n",
       "out,out,in,1f                                                                                                                                                                                                                                                                                                                    720\n",
       "out,out,out,out,out,out,out,out,out,out,out,out,out                                                                                                                                                                                                                                                                              638\n",
       "out,in                                                                                                                                                                                                                                                                                                                           636\n",
       "out,in,1f-right-2,1f                                                                                                                                                                                                                                                                                                             314\n",
       "out,out,in,b1                                                                                                                                                                                                                                                                                                                    291\n",
       "out,in,1f,1f-right-2                                                                                                                                                                                                                                                                                                             279\n",
       "out,out,out,out,out,out,out,out,out,out,out,out,out,out                                                                                                                                                                                                                                                                          272\n",
       "out,in,b1,out                                                                                                                                                                                                                                                                                                                    235\n",
       "out,in,1f,b1                                                                                                                                                                                                                                                                                                                     212\n",
       "out,in,b1,b1-right                                                                                                                                                                                                                                                                                                               171\n",
       "out,out,out,out,out,out,out,out,out,out,out,out,out,out,out                                                                                                                                                                                                                                                                      137\n",
       "out,in,1f,out,out                                                                                                                                                                                                                                                                                                                126\n",
       "out,out,out,in,1f                                                                                                                                                                                                                                                                                                                125\n",
       "out,out,in,b1,1f                                                                                                                                                                                                                                                                                                                 108\n",
       "                                                                                                                                                                                                                                                                                                                              ...   \n",
       "out,in,b1,out,in,b1,in,b1,out,in,b1,in,b1,1f-right-2,1f,1f-right-1,in,1f-right-2,1f,out,out,in,b1,out,in,b1                                                                                                                                                                                                                        1\n",
       "out,in,b1,1f,b1-center-2,b1-right,b1-center-1,b1-right,b1-center-1                                                                                                                                                                                                                                                                 1\n",
       "out,in,1f,b1,b1-center-1,b1-left-1,b1-right,b1-center-1,b1-left-1                                                                                                                                                                                                                                                                  1\n",
       "out,in,1f,1f-right-2,1f-right-2,1f-right-1,right-test,left-test,1f-left-2                                                                                                                                                                                                                                                          1\n",
       "out,out,in,b1,1f,1f-right-2,1f-left-1,right-test,1f-right-1                                                                                                                                                                                                                                                                        1\n",
       "out,in,1f-right-2,1f,1f-left-1,left-test,1f-left-2,1f-left-2,1f-left-2,1f-right-1,1f-left-2,1f-left-2,1f-right-1,1f-left-2,left-test,left-test,1f-left-2,1f-left-2,1f-left-1,left-test,left-test,b1,1f-left-2,1f-right-1,1f-left-2,1f-right-1                                                                                      1\n",
       "out,in,1f,1f-right-2,1f-right-2,in,1f,in,1f-right-2,1f,1f-right-2,1f-right-2,1f-right-2,1f-right-2,1f-right-2,1f-right-2,in,1f,in,1f                                                                                                                                                                                               1\n",
       "out,in,b1,in,b1,in,b1,out,in,b1,b1,out,in,b1,out,in,b1,out,in,b1,out,in,b1                                                                                                                                                                                                                                                         1\n",
       "out,in,b1-left-3,b1,b1-center-2,left-2,b1-right,b1-center-1,b1-left-1,1f                                                                                                                                                                                                                                                           1\n",
       "out,in,1f-left-1,1f,left-test,1f-left-2,1f-right-1,1f-right-2,1f-left-1,right-test,left-test,right-test,right-test,1f-left-1,right-test,right-test,right-test,1f-right-1,right-test                                                                                                                                                1\n",
       "out,in,b1,b1-center-2,1f,1f-right-2,right-test,1f-right-1,1f-left-2,b1,b1-center-2,left-2,b1-left-3,1f,b1-center-2,left-2,b1-right,b1-left-3,b1-left-3,1f,right-test,1f-right-1,1f-right-2,1f-left-1,1f-left-2,1f-left-2,left-test,1f-left-1,b1,1f-left-1,right-test,1f-right-1,1f-left-2,1f-right-1,1f-left-1,1f-right-1          1\n",
       "out,in,1f,out,in,b1,1f,b1-left-3,b1-right                                                                                                                                                                                                                                                                                          1\n",
       "out,in,1f,1f-right-2,1f-left-1,1f-right-1,b1,b1-left-3,b1-center-2,left-2,b1-center-1,b1-left-1,b1-right                                                                                                                                                                                                                           1\n",
       "out,in,1f,in,1f,in,1f,in,1f,in,1f,in,1f,in,1f,in,1f,in,1f,in,1f,in,1f,in,1f,in,1f                                                                                                                                                                                                                                                  1\n",
       "out,in,1f-right-2,1f,b1,b1-center-2,b1-left-3,left-2,b1-right,b1-center-1,b1-left-1,left-test,1f-left-2,1f-left-1                                                                                                                                                                                                                  1\n",
       "out,right-test,in,1f-right-1,1f,1f-right-2,1f-right-2,1f-right-2,1f-right-2,right-test,right-test,right-test,right-test,1f-right-2,right-test,1f-right-2,right-test,right-test,1f-right-2,right-test,right-test,1f-right-2,1f-right-2,right-test,right-test,1f-right-2,right-test,1f-right-2                                       1\n",
       "out,in,b1,1f,in,b1,1f,in,b1,1f,b1-right,in,b1,1f,out,in,b1,1f,in,b1,1f,b1,out,in,b1,1f                                                                                                                                                                                                                                             1\n",
       "out,out,out,out,in,1f,b1,b1-center-1,out,out                                                                                                                                                                                                                                                                                       1\n",
       "out,in,1f,1f-right-2,1f-left-1,out,in,1f,1f-right-2                                                                                                                                                                                                                                                                                1\n",
       "out,in,1f-right-2,1f,in,1f-right-2,1f,in,1f-right-2,1f,in,1f-right-2,1f,in,1f,in,1f-right-2,1f,in,1f-right-2,1f,in,1f-right-2,1f,in,1f-right-2,1f,in,1f-right-2,1f                                                                                                                                                                 1\n",
       "out,in,b1,out,out,in,b1,in,b1                                                                                                                                                                                                                                                                                                      1\n",
       "out,in,b1,b1-center-1,b1-right,b1-right,in,b1,in,b1,b1-right,b1-center-1,1f-right-2,1f,b1,1f,b1,b1-right,b1-center-1,b1-right,b1-right,1f                                                                                                                                                                                          1\n",
       "out,in,1f-right-1,1f,1f-right-2,1f-left-1,1f-right-2                                                                                                                                                                                                                                                                               1\n",
       "out,in,1f,1f-right-2,b1,b1-left-3,b1-center-2,left-2,b1-center-1,b1-right,b1-left-1                                                                                                                                                                                                                                                1\n",
       "out,in,b1-left-3,b1,b1-center-1,b1-right                                                                                                                                                                                                                                                                                           1\n",
       "out,out,in,1f-right-2,1f,right-test,1f-right-1,out,out                                                                                                                                                                                                                                                                             1\n",
       "out,in,1f,1f-right-2,b1,b1,b1,b1,b1,1f-right-1,right-test                                                                                                                                                                                                                                                                          1\n",
       "out,in,b1,1f,b1-left-3,b1-center-2,b1-left-2,b1-center-1,b1-left-1,out,in,b1,1f                                                                                                                                                                                                                                                    1\n",
       "out,in,b1,b1-right,b1-center-1,b1-left-1,b1-center-2                                                                                                                                                                                                                                                                               1\n",
       "out,in,b1,left-2,b1-center-2,b1-left-1,b1-center-1                                                                                                                                                                                                                                                                                 1\n",
       "Name: traj, dtype: int64"
      ]
     },
     "execution_count": 86,
     "metadata": {},
     "output_type": "execute_result"
    }
   ],
   "source": [
    "trajs_full['traj'].value_counts()"
   ]
  },
  {
   "cell_type": "code",
   "execution_count": 107,
   "metadata": {
    "collapsed": false
   },
   "outputs": [],
   "source": [
    "### out, in 간격이 멀수도 있구나 (기존에 out-in순서로 있는 경우에만 revisit count를 올려 주었는데, 코드 수정해야 할듯)\n",
    "# trajs_full.loc[bool(re.search('in', trajs_full['traj']))]\n",
    "\n",
    "### traj_full중에 in이 들어간 row만 따로 df로 trajs_in이라고 만듦. - 어떤 traj들이 있다 확인\n",
    "trajs_in = trajs_full.loc[trajs_full['traj'].str.contains('in')]\n",
    "# trajs_in['traj'].value_counts()"
   ]
  },
  {
   "cell_type": "code",
   "execution_count": 115,
   "metadata": {
    "collapsed": false
   },
   "outputs": [
    {
     "name": "stdout",
     "output_type": "stream",
     "text": [
      "1876809\n",
      "19929\n",
      "1856880\n"
     ]
    }
   ],
   "source": [
    "print(trajs_full.index.size)\n",
    "print(trajs_in.index.size)\n",
    "print(trajs_full.index.difference(trajs_in.index).size)"
   ]
  },
  {
   "cell_type": "code",
   "execution_count": 118,
   "metadata": {
    "collapsed": false
   },
   "outputs": [],
   "source": [
    "### 전체 트라젝토리 중 in이 없는 트라젝토리 (out-out-out 이외의 딴것이 있나 확인을 위해)\n",
    "trajs_notin = trajs_full.loc[trajs_full.index.difference(trajs_in.index)]"
   ]
  },
  {
   "cell_type": "code",
   "execution_count": 120,
   "metadata": {
    "collapsed": false
   },
   "outputs": [
    {
     "data": {
      "text/plain": [
       "out                                                                                                                                                                                                                                                                                                                                                           1597404\n",
       "out,out                                                                                                                                                                                                                                                                                                                                                        198370\n",
       "out,out,out                                                                                                                                                                                                                                                                                                                                                     34865\n",
       "out,out,out,out                                                                                                                                                                                                                                                                                                                                                 10235\n",
       "out,out,out,out,out                                                                                                                                                                                                                                                                                                                                              4608\n",
       "out,out,out,out,out,out                                                                                                                                                                                                                                                                                                                                          2786\n",
       "out,out,out,out,out,out,out                                                                                                                                                                                                                                                                                                                                      1979\n",
       "out,out,out,out,out,out,out,out                                                                                                                                                                                                                                                                                                                                  1519\n",
       "out,out,out,out,out,out,out,out,out                                                                                                                                                                                                                                                                                                                              1184\n",
       "out,out,out,out,out,out,out,out,out,out                                                                                                                                                                                                                                                                                                                          1004\n",
       "out,out,out,out,out,out,out,out,out,out,out,out                                                                                                                                                                                                                                                                                                                   881\n",
       "out,out,out,out,out,out,out,out,out,out,out                                                                                                                                                                                                                                                                                                                       867\n",
       "out,out,out,out,out,out,out,out,out,out,out,out,out                                                                                                                                                                                                                                                                                                               638\n",
       "out,out,out,out,out,out,out,out,out,out,out,out,out,out                                                                                                                                                                                                                                                                                                           272\n",
       "out,out,out,out,out,out,out,out,out,out,out,out,out,out,out                                                                                                                                                                                                                                                                                                       137\n",
       "out,out,out,out,out,out,out,out,out,out,out,out,out,out,out,out                                                                                                                                                                                                                                                                                                    58\n",
       "out,out,out,out,out,out,out,out,out,out,out,out,out,out,out,out,out                                                                                                                                                                                                                                                                                                23\n",
       "out,out,out,out,out,out,out,out,out,out,out,out,out,out,out,out,out,out                                                                                                                                                                                                                                                                                            13\n",
       "out,out,out,out,out,out,out,out,out,out,out,out,out,out,out,out,out,out,out,out                                                                                                                                                                                                                                                                                     8\n",
       "out,out,out,out,out,out,out,out,out,out,out,out,out,out,out,out,out,out,out                                                                                                                                                                                                                                                                                         8\n",
       "out,out,out,out,out,out,out,out,out,out,out,out,out,out,out,out,out,out,out,out,out                                                                                                                                                                                                                                                                                 3\n",
       "out,out,out,out,out,out,out,out,out,out,out,out,out,out,out,out,out,out,out,out,out,out                                                                                                                                                                                                                                                                             3\n",
       "out,out,out,out,out,out,out,out,out,out,out,out,out,out,out,out,out,out,out,out,out,out,out,out,out,out,out,out                                                                                                                                                                                                                                                     3\n",
       "out,out,out,out,out,out,out,out,out,out,out,out,out,out,out,out,out,out,out,out,out,out,out                                                                                                                                                                                                                                                                         2\n",
       "out,out,out,out,out,out,out,out,out,out,out,out,out,out,out,out,out,out,out,out,out,out,out,out                                                                                                                                                                                                                                                                     2\n",
       "out,out,out,out,out,out,out,out,out,out,out,out,out,out,out,out,out,out,out,out,out,out,out,out,out                                                                                                                                                                                                                                                                 1\n",
       "1f-left-1,1f-right-1,1f-right-1,1f-left-2,left-test,1f-right-1,right-test,1f-right-1,right-test,1f-left-2,1f-right-1,right-test,1f-left-1,right-test,1f-right-1,1f-right-1,1f-left-1,1f-right-1,1f-left-2,1f-right-1,1f-left-2,1f-right-1,right-test,1f-left-2                                                                                                      1\n",
       "1f-right-1,1f-left-1,right-test,right-test,right-test,right-test,right-test,left-test,1f-right-1,1f-right-1,1f-right-1,1f-right-1,1f-right-1,1f-right-1,1f-right-1                                                                                                                                                                                                  1\n",
       "right-test,right-test,right-test,1f-right-2,1f-left-2,1f-right-1,right-test,right-test,1f-left-2,1f-left-1,left-test,1f-right-1,left-test,1f-right-1,right-test,1f-left-2,1f-right-1,left-test,1f-left-1,1f-right-1,right-test,right-test,left-test,right-test,1f-left-1,left-test,1f-left-1,left-test,1f-left-1,right-test,1f-left-1,left-test,right-test          1\n",
       "1f-right-1,1f-right-1,1f-right-2,1f-left-2,1f-left-1,1f-right-1,1f-left-1,left-test,right-test,1f-left-1,right-test,right-test,1f-left-2,1f-left-1,1f-right-2,left-test,1f-right-1,1f-left-1,1f-right-1,left-test,left-test,1f-left-2,1f-left-1,left-test,1f-left-1                                                                                                 1\n",
       "out,out,out,out,out,out,out,out,out,out,out,out,out,out,out,out,out,out,out,out,out,out,out,out,out,out,out                                                                                                                                                                                                                                                         1\n",
       "1f-right-2,left-test,1f-left-2,1f-left-1,right-test,right-test,right-test,1f-left-1,1f-left-1,right-test,1f-left-1,left-test,1f-left-1,1f-left-1,right-test,right-test,right-test,right-test,1f-right-1                                                                                                                                                             1\n",
       "1f-right-1,1f-right-2,1f-right-1,1f-right-1,1f-right-2,1f-right-2,1f-right-2,1f-right-2,1f-right-2,1f-right-2,1f-right-2                                                                                                                                                                                                                                            1\n",
       "Name: traj, dtype: int64"
      ]
     },
     "execution_count": 120,
     "metadata": {},
     "output_type": "execute_result"
    }
   ],
   "source": [
    "### (out-out-out 이외의 딴것이 있긴 하지만 매우 적으므로, 그냥 가용한 트라젝토리를 in이 포함된 트라젝토리로 하기로 한다.)\n",
    "trajs_notin['traj'].value_counts()"
   ]
  },
  {
   "cell_type": "code",
   "execution_count": null,
   "metadata": {
    "collapsed": true
   },
   "outputs": [],
   "source": []
  },
  {
   "cell_type": "code",
   "execution_count": null,
   "metadata": {
    "collapsed": true
   },
   "outputs": [],
   "source": []
  },
  {
   "cell_type": "code",
   "execution_count": null,
   "metadata": {
    "collapsed": true
   },
   "outputs": [],
   "source": []
  }
 ],
 "metadata": {
  "anaconda-cloud": {},
  "kernelspec": {
   "display_name": "Python [py35]",
   "language": "python",
   "name": "Python [py35]"
  },
  "language_info": {
   "codemirror_mode": {
    "name": "ipython",
    "version": 3
   },
   "file_extension": ".py",
   "mimetype": "text/x-python",
   "name": "python",
   "nbconvert_exporter": "python",
   "pygments_lexer": "ipython3",
   "version": "3.5.2"
  }
 },
 "nbformat": 4,
 "nbformat_minor": 0
}

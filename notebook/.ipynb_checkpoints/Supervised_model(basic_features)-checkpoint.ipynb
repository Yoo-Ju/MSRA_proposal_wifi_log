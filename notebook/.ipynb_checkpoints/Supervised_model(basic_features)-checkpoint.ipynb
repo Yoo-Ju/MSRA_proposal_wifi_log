{
 "cells": [
  {
   "cell_type": "markdown",
   "metadata": {},
   "source": [
    "### 연구 목적: Indoor moving patterns들을 이용하여 revisit intention을 예측.\n",
    "<pre>\n",
    "\n",
    "\n",
    "</pre>\n",
    "__어떤 유저의 Revisit intention을 예측하는 supervised learning 모델에 이용될 간단한 Feature들:__\n",
    "1. User가 찍힌 로그 총 개수: num_logs\n",
    "2. 한 User가 와이파이에 잡힌 총 시간: total_dwell_time\n",
    "3. dwell_time > 10인 indoor area 개수: num_area_10\n",
    "4. indoor 로그 중 dwell_time > 10인 확률: prob_dwell_10\n",
    "5. 전체 로그 중 deny=True인 확률: prob_deny\n",
    "\n",
    "\n",
    "\n",
    "__여기서의 초점__\n",
    "1. 한 유저에 대한 log가 여러 개인데, 일단 aggregate하여 유저당 하나의 row로 나타낼 수 있도록 함)\n",
    "2. 가지고 있는 데이터셋의 revisit_count는 같은 날 두 번 방문하면 올라가지 않는다 - 유저별 max(revisit_count) > 0 이면 yes, 아니면 no로 레이블링\n",
    "3. 정확한 트레이닝은, 특정 시점 이전의 데이터를 이용하여 특정 시점 이후에 고객이 방문했는지 안 했는지 조사해야 하지만, 귀찮으므로 일단은 지금까지 전체 데이터를 가지고 revisit count를 예측하는 모델로 구성\n",
    "\n",
    "__데이터__\n",
    "1. 781번 매장 데이터 (10%의 유저를 테스트로 이용)"
   ]
  },
  {
   "cell_type": "code",
   "execution_count": 1,
   "metadata": {
    "collapsed": true
   },
   "outputs": [],
   "source": [
    "### import libraries\n",
    "import pandas as pd\n",
    "import datetime\n",
    "import numpy as np"
   ]
  },
  {
   "cell_type": "code",
   "execution_count": 2,
   "metadata": {
    "collapsed": false
   },
   "outputs": [],
   "source": [
    "df = pd.read_pickle(\"../data/781/781.p\")"
   ]
  },
  {
   "cell_type": "code",
   "execution_count": 94,
   "metadata": {
    "collapsed": false
   },
   "outputs": [],
   "source": [
    "# len(df['device_id'].unique())\n",
    "# uniqIDs = df['device_id'].unique()\n",
    "# columns = ['num_logs', 'total_dwell_time', 'num_area_10', 'prob_dwell_10', 'prob_deny']"
   ]
  },
  {
   "cell_type": "code",
   "execution_count": 95,
   "metadata": {
    "collapsed": false
   },
   "outputs": [],
   "source": [
    "f1, f2, f3, f4 ,f5, label = feature_generator(df)"
   ]
  },
  {
   "cell_type": "code",
   "execution_count": 96,
   "metadata": {
    "collapsed": true
   },
   "outputs": [],
   "source": [
    "df2 = df_generator(df_toy, f1, f2, f3, f4, f5, label)"
   ]
  },
  {
   "cell_type": "code",
   "execution_count": 101,
   "metadata": {
    "collapsed": false
   },
   "outputs": [
    {
     "data": {
      "text/html": [
       "<div>\n",
       "<table border=\"1\" class=\"dataframe\">\n",
       "  <thead>\n",
       "    <tr style=\"text-align: right;\">\n",
       "      <th></th>\n",
       "      <th>num_logs</th>\n",
       "      <th>total_dwell_time</th>\n",
       "      <th>num_area_10</th>\n",
       "      <th>prob_dwell_10</th>\n",
       "      <th>prob_deny</th>\n",
       "      <th>revisit_count</th>\n",
       "    </tr>\n",
       "  </thead>\n",
       "  <tbody>\n",
       "    <tr>\n",
       "      <th>0d4fd55bb363bf6f6f7f8b3342cd0467</th>\n",
       "      <td>3489.0</td>\n",
       "      <td>8111450.0</td>\n",
       "      <td>1725.0</td>\n",
       "      <td>0.542112</td>\n",
       "      <td>0.980797</td>\n",
       "      <td>68.0</td>\n",
       "    </tr>\n",
       "    <tr>\n",
       "      <th>15493306b1ea43056a690005e664d346</th>\n",
       "      <td>3241.0</td>\n",
       "      <td>689201.0</td>\n",
       "      <td>NaN</td>\n",
       "      <td>NaN</td>\n",
       "      <td>0.971305</td>\n",
       "      <td>4.0</td>\n",
       "    </tr>\n",
       "    <tr>\n",
       "      <th>839d202915edc20699f08f733d46f030</th>\n",
       "      <td>2674.0</td>\n",
       "      <td>1042562.0</td>\n",
       "      <td>NaN</td>\n",
       "      <td>NaN</td>\n",
       "      <td>0.945026</td>\n",
       "      <td>3.0</td>\n",
       "    </tr>\n",
       "    <tr>\n",
       "      <th>f076ab559ef130c78ab7123d3807c1fc</th>\n",
       "      <td>2235.0</td>\n",
       "      <td>974213.0</td>\n",
       "      <td>NaN</td>\n",
       "      <td>NaN</td>\n",
       "      <td>0.925280</td>\n",
       "      <td>NaN</td>\n",
       "    </tr>\n",
       "    <tr>\n",
       "      <th>f6258edf9145d1c0404e6f3d7a27a29d</th>\n",
       "      <td>13196.0</td>\n",
       "      <td>33024302.0</td>\n",
       "      <td>7449.0</td>\n",
       "      <td>0.607140</td>\n",
       "      <td>0.997272</td>\n",
       "      <td>81.0</td>\n",
       "    </tr>\n",
       "  </tbody>\n",
       "</table>\n",
       "</div>"
      ],
      "text/plain": [
       "                                  num_logs  total_dwell_time  num_area_10  \\\n",
       "0d4fd55bb363bf6f6f7f8b3342cd0467    3489.0         8111450.0       1725.0   \n",
       "15493306b1ea43056a690005e664d346    3241.0          689201.0          NaN   \n",
       "839d202915edc20699f08f733d46f030    2674.0         1042562.0          NaN   \n",
       "f076ab559ef130c78ab7123d3807c1fc    2235.0          974213.0          NaN   \n",
       "f6258edf9145d1c0404e6f3d7a27a29d   13196.0        33024302.0       7449.0   \n",
       "\n",
       "                                  prob_dwell_10  prob_deny  revisit_count  \n",
       "0d4fd55bb363bf6f6f7f8b3342cd0467       0.542112   0.980797           68.0  \n",
       "15493306b1ea43056a690005e664d346            NaN   0.971305            4.0  \n",
       "839d202915edc20699f08f733d46f030            NaN   0.945026            3.0  \n",
       "f076ab559ef130c78ab7123d3807c1fc            NaN   0.925280            NaN  \n",
       "f6258edf9145d1c0404e6f3d7a27a29d       0.607140   0.997272           81.0  "
      ]
     },
     "execution_count": 101,
     "metadata": {},
     "output_type": "execute_result"
    }
   ],
   "source": [
    "# Check methods works right by comparing with test dataframe\n",
    "df2.loc[['0d4fd55bb363bf6f6f7f8b3342cd0467','15493306b1ea43056a690005e664d346','839d202915edc20699f08f733d46f030','f076ab559ef130c78ab7123d3807c1fc','f6258edf9145d1c0404e6f3d7a27a29d'],:]"
   ]
  },
  {
   "cell_type": "code",
   "execution_count": null,
   "metadata": {
    "collapsed": true
   },
   "outputs": [],
   "source": []
  },
  {
   "cell_type": "code",
   "execution_count": null,
   "metadata": {
    "collapsed": true
   },
   "outputs": [],
   "source": []
  },
  {
   "cell_type": "code",
   "execution_count": null,
   "metadata": {
    "collapsed": true
   },
   "outputs": [],
   "source": []
  },
  {
   "cell_type": "markdown",
   "metadata": {},
   "source": [
    "### Test:  Small dataframe (2 people)"
   ]
  },
  {
   "cell_type": "code",
   "execution_count": 8,
   "metadata": {
    "collapsed": false
   },
   "outputs": [],
   "source": [
    "criterion = df['device_id'].map(lambda x: x.startswith('f6258edf9145d1c0404e6f3d7a27a29d') or x.startswith('0d4fd55bb363bf6f6f7f8b3342cd0467') or x.startswith('f076ab559ef130c78ab7123d3807c1fc') or x.startswith('839d202915edc20699f08f733d46f030') or x.startswith('15493306b1ea43056a690005e664d346'))\n",
    "df_toy = df[criterion]"
   ]
  },
  {
   "cell_type": "code",
   "execution_count": 9,
   "metadata": {
    "collapsed": false,
    "scrolled": true
   },
   "outputs": [
    {
     "data": {
      "text/plain": [
       "(24835, 8)"
      ]
     },
     "execution_count": 9,
     "metadata": {},
     "output_type": "execute_result"
    }
   ],
   "source": [
    "df_toy.shape"
   ]
  },
  {
   "cell_type": "code",
   "execution_count": 10,
   "metadata": {
    "collapsed": false
   },
   "outputs": [
    {
     "data": {
      "text/plain": [
       "Index(['area', 'deny', 'device_id', 'dwell_time', 'key', 'revisit_count',\n",
       "       'revisit_period', 'ts'],\n",
       "      dtype='object')"
      ]
     },
     "execution_count": 10,
     "metadata": {},
     "output_type": "execute_result"
    }
   ],
   "source": [
    "df_toy.columns"
   ]
  },
  {
   "cell_type": "code",
   "execution_count": 11,
   "metadata": {
    "collapsed": false
   },
   "outputs": [
    {
     "data": {
      "text/plain": [
       "array(['f076ab559ef130c78ab7123d3807c1fc',\n",
       "       '839d202915edc20699f08f733d46f030',\n",
       "       'f6258edf9145d1c0404e6f3d7a27a29d',\n",
       "       '15493306b1ea43056a690005e664d346',\n",
       "       '0d4fd55bb363bf6f6f7f8b3342cd0467'], dtype=object)"
      ]
     },
     "execution_count": 11,
     "metadata": {},
     "output_type": "execute_result"
    }
   ],
   "source": [
    "df_toy['device_id'].unique()"
   ]
  },
  {
   "cell_type": "code",
   "execution_count": 44,
   "metadata": {
    "collapsed": false
   },
   "outputs": [
    {
     "name": "stdout",
     "output_type": "stream",
     "text": [
      "device_id\n",
      "0d4fd55bb363bf6f6f7f8b3342cd0467     3489\n",
      "15493306b1ea43056a690005e664d346     3241\n",
      "839d202915edc20699f08f733d46f030     2674\n",
      "f076ab559ef130c78ab7123d3807c1fc     2235\n",
      "f6258edf9145d1c0404e6f3d7a27a29d    13196\n",
      "Name: ts, dtype: int64\n"
     ]
    }
   ],
   "source": [
    "### F1: 로그 총 개수\n",
    "# df_toy11 = df_toy['device_id'].value_counts()\n",
    "f1 = df_toy.groupby(['device_id'])['ts'].count()\n",
    "print(f1)"
   ]
  },
  {
   "cell_type": "code",
   "execution_count": 14,
   "metadata": {
    "collapsed": false,
    "scrolled": true
   },
   "outputs": [
    {
     "data": {
      "text/plain": [
       "device_id\n",
       "0d4fd55bb363bf6f6f7f8b3342cd0467     8111450\n",
       "15493306b1ea43056a690005e664d346      689201\n",
       "839d202915edc20699f08f733d46f030     1042562\n",
       "f076ab559ef130c78ab7123d3807c1fc      974213\n",
       "f6258edf9145d1c0404e6f3d7a27a29d    33024302\n",
       "Name: dwell_time, dtype: int64"
      ]
     },
     "execution_count": 14,
     "metadata": {},
     "output_type": "execute_result"
    }
   ],
   "source": [
    "### F2: 와이파이에 잡힌 총 시간\n",
    "f2 = df_toy.groupby(['device_id'])['dwell_time'].sum()\n",
    "f2"
   ]
  },
  {
   "cell_type": "code",
   "execution_count": 15,
   "metadata": {
    "collapsed": false
   },
   "outputs": [
    {
     "name": "stdout",
     "output_type": "stream",
     "text": [
      "device_id\n",
      "0d4fd55bb363bf6f6f7f8b3342cd0467    1725\n",
      "f6258edf9145d1c0404e6f3d7a27a29d    7449\n",
      "Name: area, dtype: int64\n"
     ]
    }
   ],
   "source": [
    "### F3: dwell_time > 100인 indoor area 개수\n",
    "df_toy_indoor = df_toy.loc[df_toy['area']!='out']\n",
    "df_toy_indoor2 = df_toy_indoor.loc[df_toy_indoor['dwell_time']>100]\n",
    "f3 = df_toy_indoor2.groupby(['device_id'])['area'].count()\n",
    "print(f3)"
   ]
  },
  {
   "cell_type": "code",
   "execution_count": 16,
   "metadata": {
    "collapsed": false
   },
   "outputs": [
    {
     "name": "stdout",
     "output_type": "stream",
     "text": [
      "device_id\n",
      "0d4fd55bb363bf6f6f7f8b3342cd0467    0.542112\n",
      "15493306b1ea43056a690005e664d346         NaN\n",
      "839d202915edc20699f08f733d46f030         NaN\n",
      "f6258edf9145d1c0404e6f3d7a27a29d    0.607140\n",
      "Name: area, dtype: float64\n"
     ]
    }
   ],
   "source": [
    "### F4: indoor 로그 중 dwell_time > 10인 확률\n",
    "f3_2 = df_toy_indoor.groupby(['device_id'])['area'].count()\n",
    "f4 = f3.div(f3_2)\n",
    "print (f4)\n"
   ]
  },
  {
   "cell_type": "code",
   "execution_count": 17,
   "metadata": {
    "collapsed": false
   },
   "outputs": [
    {
     "name": "stdout",
     "output_type": "stream",
     "text": [
      "0d4fd55bb363bf6f6f7f8b3342cd0467    0.980797\n",
      "15493306b1ea43056a690005e664d346    0.971305\n",
      "839d202915edc20699f08f733d46f030    0.945026\n",
      "f076ab559ef130c78ab7123d3807c1fc    0.925280\n",
      "f6258edf9145d1c0404e6f3d7a27a29d    0.997272\n",
      "dtype: float64\n"
     ]
    }
   ],
   "source": [
    "### F5: deny = True일 확률\n",
    "# df_toy_true = df_toy.loc[df_toy['deny']==True]\n",
    "# df_toy.groupby(['device_id'])['deny'].count()\n",
    "# print(df_toy.groupby(['device_id', 'deny']).count())\n",
    "a = df_toy.groupby(['device_id']).deny.count()\n",
    "b = df_toy['device_id'].value_counts()\n",
    "f5 = a.div(b)\n",
    "# print (a, b)\n",
    "print (f5)"
   ]
  },
  {
   "cell_type": "code",
   "execution_count": 18,
   "metadata": {
    "collapsed": false
   },
   "outputs": [
    {
     "data": {
      "text/plain": [
       "array(['0d4fd55bb363bf6f6f7f8b3342cd0467',\n",
       "       '15493306b1ea43056a690005e664d346',\n",
       "       '839d202915edc20699f08f733d46f030',\n",
       "       'f076ab559ef130c78ab7123d3807c1fc',\n",
       "       'f6258edf9145d1c0404e6f3d7a27a29d'], dtype=object)"
      ]
     },
     "execution_count": 18,
     "metadata": {},
     "output_type": "execute_result"
    }
   ],
   "source": [
    "# df_toy2['device_id'] = \n",
    "np.sort(df_toy['device_id'].unique())"
   ]
  },
  {
   "cell_type": "code",
   "execution_count": 35,
   "metadata": {
    "collapsed": false
   },
   "outputs": [],
   "source": [
    "device_ids_toy = np.sort(df_toy['device_id'].unique())"
   ]
  },
  {
   "cell_type": "code",
   "execution_count": 36,
   "metadata": {
    "collapsed": true
   },
   "outputs": [],
   "source": [
    "df_toy2 = pd.DataFrame(columns=columns, index=device_ids_toy)"
   ]
  },
  {
   "cell_type": "code",
   "execution_count": 37,
   "metadata": {
    "collapsed": true
   },
   "outputs": [],
   "source": [
    "# df_toy2['device_id'] = np.sort(df_toy['device_id'].unique())"
   ]
  },
  {
   "cell_type": "code",
   "execution_count": 47,
   "metadata": {
    "collapsed": false,
    "scrolled": true
   },
   "outputs": [
    {
     "data": {
      "text/html": [
       "<div>\n",
       "<table border=\"1\" class=\"dataframe\">\n",
       "  <thead>\n",
       "    <tr style=\"text-align: right;\">\n",
       "      <th></th>\n",
       "      <th>num_logs</th>\n",
       "      <th>total_dwell_time</th>\n",
       "      <th>num_area_10</th>\n",
       "      <th>prob_dwell_10</th>\n",
       "      <th>prob_deny</th>\n",
       "    </tr>\n",
       "  </thead>\n",
       "  <tbody>\n",
       "    <tr>\n",
       "      <th>0d4fd55bb363bf6f6f7f8b3342cd0467</th>\n",
       "      <td>NaN</td>\n",
       "      <td>NaN</td>\n",
       "      <td>NaN</td>\n",
       "      <td>NaN</td>\n",
       "      <td>NaN</td>\n",
       "    </tr>\n",
       "    <tr>\n",
       "      <th>15493306b1ea43056a690005e664d346</th>\n",
       "      <td>NaN</td>\n",
       "      <td>NaN</td>\n",
       "      <td>NaN</td>\n",
       "      <td>NaN</td>\n",
       "      <td>NaN</td>\n",
       "    </tr>\n",
       "    <tr>\n",
       "      <th>839d202915edc20699f08f733d46f030</th>\n",
       "      <td>NaN</td>\n",
       "      <td>NaN</td>\n",
       "      <td>NaN</td>\n",
       "      <td>NaN</td>\n",
       "      <td>NaN</td>\n",
       "    </tr>\n",
       "    <tr>\n",
       "      <th>f076ab559ef130c78ab7123d3807c1fc</th>\n",
       "      <td>NaN</td>\n",
       "      <td>NaN</td>\n",
       "      <td>NaN</td>\n",
       "      <td>NaN</td>\n",
       "      <td>NaN</td>\n",
       "    </tr>\n",
       "    <tr>\n",
       "      <th>f6258edf9145d1c0404e6f3d7a27a29d</th>\n",
       "      <td>NaN</td>\n",
       "      <td>NaN</td>\n",
       "      <td>NaN</td>\n",
       "      <td>NaN</td>\n",
       "      <td>NaN</td>\n",
       "    </tr>\n",
       "  </tbody>\n",
       "</table>\n",
       "</div>"
      ],
      "text/plain": [
       "                                 num_logs total_dwell_time num_area_10  \\\n",
       "0d4fd55bb363bf6f6f7f8b3342cd0467      NaN              NaN         NaN   \n",
       "15493306b1ea43056a690005e664d346      NaN              NaN         NaN   \n",
       "839d202915edc20699f08f733d46f030      NaN              NaN         NaN   \n",
       "f076ab559ef130c78ab7123d3807c1fc      NaN              NaN         NaN   \n",
       "f6258edf9145d1c0404e6f3d7a27a29d      NaN              NaN         NaN   \n",
       "\n",
       "                                 prob_dwell_10 prob_deny  \n",
       "0d4fd55bb363bf6f6f7f8b3342cd0467           NaN       NaN  \n",
       "15493306b1ea43056a690005e664d346           NaN       NaN  \n",
       "839d202915edc20699f08f733d46f030           NaN       NaN  \n",
       "f076ab559ef130c78ab7123d3807c1fc           NaN       NaN  \n",
       "f6258edf9145d1c0404e6f3d7a27a29d           NaN       NaN  "
      ]
     },
     "execution_count": 47,
     "metadata": {},
     "output_type": "execute_result"
    }
   ],
   "source": [
    "df_toy2"
   ]
  },
  {
   "cell_type": "code",
   "execution_count": 56,
   "metadata": {
    "collapsed": false
   },
   "outputs": [],
   "source": [
    "df_toy2[\"num_logs\"] = f1\n",
    "df_toy2[\"total_dwell_time\"] = f2\n",
    "df_toy2[\"num_area_10\"] = f3\n",
    "df_toy2[\"prob_dwell_10\"] = f4\n",
    "df_toy2[\"prob_deny\"] = f5"
   ]
  },
  {
   "cell_type": "code",
   "execution_count": 57,
   "metadata": {
    "collapsed": false
   },
   "outputs": [
    {
     "data": {
      "text/html": [
       "<div>\n",
       "<table border=\"1\" class=\"dataframe\">\n",
       "  <thead>\n",
       "    <tr style=\"text-align: right;\">\n",
       "      <th></th>\n",
       "      <th>num_logs</th>\n",
       "      <th>total_dwell_time</th>\n",
       "      <th>num_area_10</th>\n",
       "      <th>prob_dwell_10</th>\n",
       "      <th>prob_deny</th>\n",
       "    </tr>\n",
       "  </thead>\n",
       "  <tbody>\n",
       "    <tr>\n",
       "      <th>0d4fd55bb363bf6f6f7f8b3342cd0467</th>\n",
       "      <td>3489</td>\n",
       "      <td>8111450</td>\n",
       "      <td>1725.0</td>\n",
       "      <td>0.542112</td>\n",
       "      <td>0.980797</td>\n",
       "    </tr>\n",
       "    <tr>\n",
       "      <th>15493306b1ea43056a690005e664d346</th>\n",
       "      <td>3241</td>\n",
       "      <td>689201</td>\n",
       "      <td>NaN</td>\n",
       "      <td>NaN</td>\n",
       "      <td>0.971305</td>\n",
       "    </tr>\n",
       "    <tr>\n",
       "      <th>839d202915edc20699f08f733d46f030</th>\n",
       "      <td>2674</td>\n",
       "      <td>1042562</td>\n",
       "      <td>NaN</td>\n",
       "      <td>NaN</td>\n",
       "      <td>0.945026</td>\n",
       "    </tr>\n",
       "    <tr>\n",
       "      <th>f076ab559ef130c78ab7123d3807c1fc</th>\n",
       "      <td>2235</td>\n",
       "      <td>974213</td>\n",
       "      <td>NaN</td>\n",
       "      <td>NaN</td>\n",
       "      <td>0.925280</td>\n",
       "    </tr>\n",
       "    <tr>\n",
       "      <th>f6258edf9145d1c0404e6f3d7a27a29d</th>\n",
       "      <td>13196</td>\n",
       "      <td>33024302</td>\n",
       "      <td>7449.0</td>\n",
       "      <td>0.607140</td>\n",
       "      <td>0.997272</td>\n",
       "    </tr>\n",
       "  </tbody>\n",
       "</table>\n",
       "</div>"
      ],
      "text/plain": [
       "                                  num_logs  total_dwell_time  num_area_10  \\\n",
       "0d4fd55bb363bf6f6f7f8b3342cd0467      3489           8111450       1725.0   \n",
       "15493306b1ea43056a690005e664d346      3241            689201          NaN   \n",
       "839d202915edc20699f08f733d46f030      2674           1042562          NaN   \n",
       "f076ab559ef130c78ab7123d3807c1fc      2235            974213          NaN   \n",
       "f6258edf9145d1c0404e6f3d7a27a29d     13196          33024302       7449.0   \n",
       "\n",
       "                                  prob_dwell_10  prob_deny  \n",
       "0d4fd55bb363bf6f6f7f8b3342cd0467       0.542112   0.980797  \n",
       "15493306b1ea43056a690005e664d346            NaN   0.971305  \n",
       "839d202915edc20699f08f733d46f030            NaN   0.945026  \n",
       "f076ab559ef130c78ab7123d3807c1fc            NaN   0.925280  \n",
       "f6258edf9145d1c0404e6f3d7a27a29d       0.607140   0.997272  "
      ]
     },
     "execution_count": 57,
     "metadata": {},
     "output_type": "execute_result"
    }
   ],
   "source": [
    "df_toy2"
   ]
  },
  {
   "cell_type": "code",
   "execution_count": 61,
   "metadata": {
    "collapsed": false
   },
   "outputs": [],
   "source": [
    "##### 삽질한 코드들#####\n",
    "# pd.concat([df_toy2, f4], axis=1)\n",
    "# df_toy2.merge(f1, on='device_id', how='left')\n",
    "# df_toy2['total_dwell_time'] = df_toy.groupby(['device_id'])['dwell_time'].sum()\n",
    "# df_toy2 = pd.concat([df_toy2, df_toy12], axis=1)\n",
    "# df_toy12f = df_toy12.to_frame()\n",
    "# df_toy12.get"
   ]
  },
  {
   "cell_type": "code",
   "execution_count": 66,
   "metadata": {
    "collapsed": false
   },
   "outputs": [
    {
     "data": {
      "text/plain": [
       "device_id\n",
       "0d4fd55bb363bf6f6f7f8b3342cd0467    68.0\n",
       "15493306b1ea43056a690005e664d346     4.0\n",
       "839d202915edc20699f08f733d46f030     3.0\n",
       "f076ab559ef130c78ab7123d3807c1fc     NaN\n",
       "f6258edf9145d1c0404e6f3d7a27a29d    81.0\n",
       "Name: revisit_count, dtype: float64"
      ]
     },
     "execution_count": 66,
     "metadata": {},
     "output_type": "execute_result"
    }
   ],
   "source": [
    "label_toy = df_toy.groupby(['device_id'])['revisit_count'].max()\n",
    "label_toy"
   ]
  },
  {
   "cell_type": "code",
   "execution_count": 69,
   "metadata": {
    "collapsed": false
   },
   "outputs": [
    {
     "data": {
      "text/html": [
       "<div>\n",
       "<table border=\"1\" class=\"dataframe\">\n",
       "  <thead>\n",
       "    <tr style=\"text-align: right;\">\n",
       "      <th></th>\n",
       "      <th>num_logs</th>\n",
       "      <th>total_dwell_time</th>\n",
       "      <th>num_area_10</th>\n",
       "      <th>prob_dwell_10</th>\n",
       "      <th>prob_deny</th>\n",
       "      <th>revisit_count</th>\n",
       "    </tr>\n",
       "    <tr>\n",
       "      <th>device_id</th>\n",
       "      <th></th>\n",
       "      <th></th>\n",
       "      <th></th>\n",
       "      <th></th>\n",
       "      <th></th>\n",
       "      <th></th>\n",
       "    </tr>\n",
       "  </thead>\n",
       "  <tbody>\n",
       "    <tr>\n",
       "      <th>0d4fd55bb363bf6f6f7f8b3342cd0467</th>\n",
       "      <td>3489</td>\n",
       "      <td>8111450</td>\n",
       "      <td>1725.0</td>\n",
       "      <td>0.542112</td>\n",
       "      <td>0.980797</td>\n",
       "      <td>68.0</td>\n",
       "    </tr>\n",
       "    <tr>\n",
       "      <th>15493306b1ea43056a690005e664d346</th>\n",
       "      <td>3241</td>\n",
       "      <td>689201</td>\n",
       "      <td>NaN</td>\n",
       "      <td>NaN</td>\n",
       "      <td>0.971305</td>\n",
       "      <td>4.0</td>\n",
       "    </tr>\n",
       "    <tr>\n",
       "      <th>839d202915edc20699f08f733d46f030</th>\n",
       "      <td>2674</td>\n",
       "      <td>1042562</td>\n",
       "      <td>NaN</td>\n",
       "      <td>NaN</td>\n",
       "      <td>0.945026</td>\n",
       "      <td>3.0</td>\n",
       "    </tr>\n",
       "    <tr>\n",
       "      <th>f076ab559ef130c78ab7123d3807c1fc</th>\n",
       "      <td>2235</td>\n",
       "      <td>974213</td>\n",
       "      <td>NaN</td>\n",
       "      <td>NaN</td>\n",
       "      <td>0.925280</td>\n",
       "      <td>NaN</td>\n",
       "    </tr>\n",
       "    <tr>\n",
       "      <th>f6258edf9145d1c0404e6f3d7a27a29d</th>\n",
       "      <td>13196</td>\n",
       "      <td>33024302</td>\n",
       "      <td>7449.0</td>\n",
       "      <td>0.607140</td>\n",
       "      <td>0.997272</td>\n",
       "      <td>81.0</td>\n",
       "    </tr>\n",
       "  </tbody>\n",
       "</table>\n",
       "</div>"
      ],
      "text/plain": [
       "                                  num_logs  total_dwell_time  num_area_10  \\\n",
       "device_id                                                                   \n",
       "0d4fd55bb363bf6f6f7f8b3342cd0467      3489           8111450       1725.0   \n",
       "15493306b1ea43056a690005e664d346      3241            689201          NaN   \n",
       "839d202915edc20699f08f733d46f030      2674           1042562          NaN   \n",
       "f076ab559ef130c78ab7123d3807c1fc      2235            974213          NaN   \n",
       "f6258edf9145d1c0404e6f3d7a27a29d     13196          33024302       7449.0   \n",
       "\n",
       "                                  prob_dwell_10  prob_deny  revisit_count  \n",
       "device_id                                                                  \n",
       "0d4fd55bb363bf6f6f7f8b3342cd0467       0.542112   0.980797           68.0  \n",
       "15493306b1ea43056a690005e664d346            NaN   0.971305            4.0  \n",
       "839d202915edc20699f08f733d46f030            NaN   0.945026            3.0  \n",
       "f076ab559ef130c78ab7123d3807c1fc            NaN   0.925280            NaN  \n",
       "f6258edf9145d1c0404e6f3d7a27a29d       0.607140   0.997272           81.0  "
      ]
     },
     "execution_count": 69,
     "metadata": {},
     "output_type": "execute_result"
    }
   ],
   "source": [
    "pd.concat([df_toy2, label_toy], axis=1)"
   ]
  },
  {
   "cell_type": "markdown",
   "metadata": {},
   "source": [
    "### 정리하기"
   ]
  },
  {
   "cell_type": "code",
   "execution_count": null,
   "metadata": {
    "collapsed": true
   },
   "outputs": [],
   "source": [
    "criterion = df['device_id'].map(lambda x: x.startswith('f6258edf9145d1c0404e6f3d7a27a29d') or x.startswith('0d4fd55bb363bf6f6f7f8b3342cd0467') or x.startswith('f076ab559ef130c78ab7123d3807c1fc') or x.startswith('839d202915edc20699f08f733d46f030') or x.startswith('15493306b1ea43056a690005e664d346'))\n",
    "df_toy = df[criterion]"
   ]
  },
  {
   "cell_type": "code",
   "execution_count": 82,
   "metadata": {
    "collapsed": true
   },
   "outputs": [],
   "source": [
    "def feature_generator(df_toy):\n",
    "    ### F1: 로그 총 개수\n",
    "    f1 = df_toy.groupby(['device_id'])['ts'].count()\n",
    "#     print(f1)\n",
    "    \n",
    "    ### F2: 와이파이에 잡힌 총 시간\n",
    "    f2 = df_toy.groupby(['device_id'])['dwell_time'].sum()\n",
    "#     print(f2)\n",
    "\n",
    "    ### F3: dwell_time > 100인 indoor area 개수\n",
    "    df_toy_indoor = df_toy.loc[df_toy['area']!='out']\n",
    "    df_toy_indoor2 = df_toy_indoor.loc[df_toy_indoor['dwell_time']>100]\n",
    "    f3 = df_toy_indoor2.groupby(['device_id'])['area'].count()\n",
    "#     print(f3)\n",
    "\n",
    "    ### F4: indoor 로그 중 dwell_time > 10인 확률\n",
    "    f3_2 = df_toy_indoor.groupby(['device_id'])['area'].count()\n",
    "    f4 = f3.div(f3_2)\n",
    "#     print (f4)\n",
    "    \n",
    "    ### F5: deny = True일 확률\n",
    "    a = df_toy.groupby(['device_id']).deny.count()\n",
    "    b = df_toy['device_id'].value_counts()\n",
    "    f5 = a.div(b)\n",
    "#     print (f5)\n",
    "\n",
    "    ### Label: Maximum revisit count from the log\n",
    "    label_toy = df_toy.groupby(['device_id'])['revisit_count'].max()\n",
    "#     print(label_toy)\n",
    "\n",
    "    return f1, f2, f3, f4, f5, label_toy"
   ]
  },
  {
   "cell_type": "code",
   "execution_count": 84,
   "metadata": {
    "collapsed": false
   },
   "outputs": [],
   "source": [
    "f1, f2, f3, f4 ,f5, label_toy = feature_generator(df_toy)"
   ]
  },
  {
   "cell_type": "code",
   "execution_count": 90,
   "metadata": {
    "collapsed": false,
    "scrolled": true
   },
   "outputs": [],
   "source": [
    "def df_generator(df_toy, f1, f2, f3, f4, f5, label_toy):\n",
    "    columns = ['num_logs', 'total_dwell_time', 'num_area_10', 'prob_dwell_10', 'prob_deny']\n",
    "    \n",
    "    # feature들과의 index의 통일을 위해 np.sort를 이용.\n",
    "    device_ids_toy = np.sort(df_toy['device_id'].unique())       \n",
    "    df_toy2 = pd.DataFrame(columns=columns, index=device_ids_toy)\n",
    "    \n",
    "    # feature를 df에 삽입\n",
    "    df_toy2[\"num_logs\"] = f1          \n",
    "    df_toy2[\"total_dwell_time\"] = f2\n",
    "    df_toy2[\"num_area_10\"] = f3\n",
    "    df_toy2[\"prob_dwell_10\"] = f4\n",
    "    df_toy2[\"prob_deny\"] = f5\n",
    "    \n",
    "    # label을 df에 합침\n",
    "    df_toy2 = pd.concat([df_toy2, label_toy], axis=1)   \n",
    "    \n",
    "    # machine learning에 바로 이용될 dataframe을 리턴\n",
    "    return df_toy2\n",
    "    "
   ]
  },
  {
   "cell_type": "code",
   "execution_count": 92,
   "metadata": {
    "collapsed": false
   },
   "outputs": [],
   "source": [
    "df_toy2 = df_generator(df_toy, f1, f2, f3, f4, f5, label_toy)"
   ]
  },
  {
   "cell_type": "code",
   "execution_count": null,
   "metadata": {
    "collapsed": true
   },
   "outputs": [],
   "source": []
  }
 ],
 "metadata": {
  "anaconda-cloud": {},
  "kernelspec": {
   "display_name": "Python [py35]",
   "language": "python",
   "name": "Python [py35]"
  },
  "language_info": {
   "codemirror_mode": {
    "name": "ipython",
    "version": 3
   },
   "file_extension": ".py",
   "mimetype": "text/x-python",
   "name": "python",
   "nbconvert_exporter": "python",
   "pygments_lexer": "ipython3",
   "version": "3.5.2"
  }
 },
 "nbformat": 4,
 "nbformat_minor": 0
}

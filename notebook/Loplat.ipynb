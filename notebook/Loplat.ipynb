{
 "cells": [
  {
   "cell_type": "code",
   "execution_count": 3,
   "metadata": {
    "collapsed": true
   },
   "outputs": [],
   "source": [
    "import urllib2\n",
    "import json"
   ]
  },
  {
   "cell_type": "code",
   "execution_count": 23,
   "metadata": {
    "collapsed": false
   },
   "outputs": [
    {
     "name": "stdout",
     "output_type": "stream",
     "text": [
      "getstorevisit ----\n",
      "{u'placename': u'\\uce74\\uc774\\uc2a4\\ud2b8 E2-1 4203\\ud638', u'floor': 4, u'ts': u'2016-11-17 05:51:38', u'placeid': 50597, u'tag': u'#\\uce74\\uc774\\uc2a4\\ud2b8 #KSE', u'deviceid': u'1477544446837', u'lat': 36.367068, u'lng': 127.36454, u'accuracy': 0.957343}\n",
      "{u'placename': u'\\uce74\\uc774\\uc2a4\\ud2b8 E2-1 4203\\ud638', u'floor': 4, u'ts': u'2016-11-17 05:51:38', u'placeid': 50597, u'tag': u'#\\uce74\\uc774\\uc2a4\\ud2b8 #KSE', u'deviceid': u'1477544446837', u'lat': 36.367068, u'lng': 127.36454, u'accuracy': 0.957343}\n",
      "{u'placename': u'\\uce74\\uc774\\uc2a4\\ud2b8 E2-1 4203\\ud638', u'floor': 4, u'ts': u'2016-11-17 05:54:16', u'placeid': 50597, u'tag': u'#\\uce74\\uc774\\uc2a4\\ud2b8 #KSE', u'deviceid': u'1477544446837', u'lat': 36.367068, u'lng': 127.36454, u'accuracy': 0.92143}\n",
      "{u'placename': u'\\uce74\\uc774\\uc2a4\\ud2b8 E2-1 4203\\ud638', u'floor': 4, u'ts': u'2016-11-17 05:56:54', u'placeid': 50597, u'tag': u'#\\uce74\\uc774\\uc2a4\\ud2b8 #KSE', u'deviceid': u'1477544446837', u'lat': 36.367068, u'lng': 127.36454, u'accuracy': 0.94238}\n",
      "{u'placename': u'\\uce74\\uc774\\uc2a4\\ud2b8 E2-1 4204\\ud638', u'floor': 4, u'ts': u'2016-11-17 05:59:27', u'placeid': 50609, u'tag': u'#\\uce74\\uc774\\uc2a4\\ud2b8 #KSE', u'deviceid': u'1477544446837', u'lat': 36.367063, u'lng': 127.364588, u'accuracy': 0.758371}\n",
      "{u'placename': u'E2-1 4216\\ud638', u'floor': 4, u'ts': u'2016-11-17 06:01:13', u'placeid': 52357, u'tag': u'#KSE #\\uce74\\uc774\\uc2a4\\ud2b8', u'deviceid': u'1477544446837', u'lat': 36.36738, u'lng': 127.36486, u'accuracy': 0.765704}\n",
      "{u'placename': u'E2-1 4216\\ud638', u'floor': 4, u'ts': u'2016-11-17 06:01:14', u'placeid': 52357, u'tag': u'#KSE #\\uce74\\uc774\\uc2a4\\ud2b8', u'deviceid': u'1477544446837', u'lat': 36.36738, u'lng': 127.36486, u'accuracy': 0.765704}\n",
      "{u'placename': u'E2-1 4216\\ud638', u'floor': 4, u'ts': u'2016-11-17 06:03:46', u'placeid': 52357, u'tag': u'#KSE #\\uce74\\uc774\\uc2a4\\ud2b8', u'deviceid': u'1477544446837', u'lat': 36.36738, u'lng': 127.36486, u'accuracy': 0.794821}\n",
      "{u'placename': u'E2-1 4216\\ud638', u'floor': 4, u'ts': u'2016-11-17 06:04:35', u'placeid': 52357, u'tag': u'#KSE #\\uce74\\uc774\\uc2a4\\ud2b8', u'deviceid': u'1479362612232', u'lat': 36.36738, u'lng': 127.36486, u'accuracy': 0.830013}\n",
      "{u'placename': u'E2-1 4216\\ud638', u'floor': 4, u'ts': u'2016-11-17 06:04:58', u'placeid': 52357, u'tag': u'#KSE #\\uce74\\uc774\\uc2a4\\ud2b8', u'deviceid': u'1479362612232', u'lat': 36.36738, u'lng': 127.36486, u'accuracy': 0.841197}\n",
      "{u'placename': u'E2-1 4216\\ud638', u'floor': 4, u'ts': u'2016-11-17 06:05:27', u'placeid': 52357, u'tag': u'#KSE #\\uce74\\uc774\\uc2a4\\ud2b8', u'deviceid': u'1479362612232', u'lat': 36.36738, u'lng': 127.36486, u'accuracy': 0.816758}\n",
      "{u'placename': u'E2-1 4216\\ud638', u'floor': 4, u'ts': u'2016-11-17 06:05:27', u'placeid': 52357, u'tag': u'#KSE #\\uce74\\uc774\\uc2a4\\ud2b8', u'deviceid': u'1479362612232', u'lat': 36.36738, u'lng': 127.36486, u'accuracy': 0.816758}\n",
      "{u'placename': u'E2-1 4216\\ud638', u'floor': 4, u'ts': u'2016-11-17 06:06:41', u'placeid': 52357, u'tag': u'#KSE #\\uce74\\uc774\\uc2a4\\ud2b8', u'deviceid': u'1477544446837', u'lat': 36.36738, u'lng': 127.36486, u'accuracy': 0.772069}\n",
      "{u'placename': u'E2-1 4216\\ud638', u'floor': 4, u'ts': u'2016-11-17 06:09:08', u'placeid': 52357, u'tag': u'#KSE #\\uce74\\uc774\\uc2a4\\ud2b8', u'deviceid': u'1479362612232', u'lat': 36.36738, u'lng': 127.36486, u'accuracy': 0.809642}\n",
      "{u'placename': u'E2-1 4216\\ud638', u'floor': 4, u'ts': u'2016-11-17 06:09:15', u'placeid': 52357, u'tag': u'#KSE #\\uce74\\uc774\\uc2a4\\ud2b8', u'deviceid': u'1477544446837', u'lat': 36.36738, u'lng': 127.36486, u'accuracy': 0.808408}\n",
      "{u'placename': u'e2-4216\\ud638', u'floor': 4, u'ts': u'2016-11-17 06:12:06', u'placeid': 60222, u'tag': u'', u'deviceid': u'1477544446837', u'lat': 36.36739, u'lng': 127.3649, u'accuracy': 0.903581}\n",
      "{u'placename': u'e2-4216\\ud638', u'floor': 4, u'ts': u'2016-11-17 06:12:11', u'placeid': 60222, u'tag': u'', u'deviceid': u'1479362612232', u'lat': 36.36739, u'lng': 127.3649, u'accuracy': 0.946832}\n",
      "{u'placename': u'e2-4216\\ud638', u'floor': 4, u'ts': u'2016-11-17 06:12:16', u'placeid': 60222, u'tag': u'', u'deviceid': u'1479362612232', u'lat': 36.36739, u'lng': 127.3649, u'accuracy': 0.963218}\n",
      "{u'placename': u'e2-4216\\ud638', u'floor': 4, u'ts': u'2016-11-17 06:12:16', u'placeid': 60222, u'tag': u'', u'deviceid': u'1479362612232', u'lat': 36.36739, u'lng': 127.3649, u'accuracy': 0.963218}\n",
      "{u'placename': u'e2-4216\\ud638', u'floor': 4, u'ts': u'2016-11-17 06:12:41', u'placeid': 60222, u'tag': u'', u'deviceid': u'1477544446837', u'lat': 36.36739, u'lng': 127.3649, u'accuracy': 0.919954}\n",
      "{u'placename': u'e2-4216\\ud638', u'floor': 4, u'ts': u'2016-11-17 06:12:42', u'placeid': 60222, u'tag': u'', u'deviceid': u'1477544446837', u'lat': 36.36739, u'lng': 127.3649, u'accuracy': 0.919954}\n",
      "{u'placename': u'e2-4216\\ud638', u'floor': 4, u'ts': u'2016-11-17 06:13:22', u'placeid': 60222, u'tag': u'', u'deviceid': u'1477544446837', u'lat': 36.36739, u'lng': 127.3649, u'accuracy': 0.884305}\n",
      "{u'placename': u'e2-4216\\ud638', u'floor': 4, u'ts': u'2016-11-17 06:13:22', u'placeid': 60222, u'tag': u'', u'deviceid': u'1477544446837', u'lat': 36.36739, u'lng': 127.3649, u'accuracy': 0.884305}\n",
      "{u'placename': u'e2-4216\\ud638', u'floor': 4, u'ts': u'2016-11-17 06:15:55', u'placeid': 60222, u'tag': u'', u'deviceid': u'1477544446837', u'lat': 36.36739, u'lng': 127.3649, u'accuracy': 0.671234}\n",
      "{u'placename': u'e2-4216\\ud638', u'floor': 4, u'ts': u'2016-11-17 06:16:31', u'placeid': 60222, u'tag': u'', u'deviceid': u'1479362612232', u'lat': 36.36739, u'lng': 127.3649, u'accuracy': 0.891161}\n",
      "{u'placename': u'\\uce74\\uc774\\uc2a4\\ud2b8 E2-1 4203\\ud638', u'floor': 4, u'ts': u'2016-11-17 06:17:51', u'placeid': 50597, u'tag': u'#\\uce74\\uc774\\uc2a4\\ud2b8 #KSE', u'deviceid': u'1477544446837', u'lat': 36.367068, u'lng': 127.36454, u'accuracy': 0.924623}\n",
      "{u'placename': u'\\uce74\\uc774\\uc2a4\\ud2b8 E2-1 4203\\ud638', u'floor': 4, u'ts': u'2016-11-17 06:17:52', u'placeid': 50597, u'tag': u'#\\uce74\\uc774\\uc2a4\\ud2b8 #KSE', u'deviceid': u'1477544446837', u'lat': 36.367068, u'lng': 127.36454, u'accuracy': 0.924623}\n",
      "{u'placename': u'\\uce74\\uc774\\uc2a4\\ud2b8 E2-1 4203\\ud638', u'floor': 4, u'ts': u'2016-11-17 06:19:55', u'placeid': 50597, u'tag': u'#\\uce74\\uc774\\uc2a4\\ud2b8 #KSE', u'deviceid': u'1477544446837', u'lat': 36.367068, u'lng': 127.36454, u'accuracy': 0.930954}\n",
      "{u'placename': u'\\uce74\\uc774\\uc2a4\\ud2b8 E2-1 4203\\ud638', u'floor': 4, u'ts': u'2016-11-17 06:19:55', u'placeid': 50597, u'tag': u'#\\uce74\\uc774\\uc2a4\\ud2b8 #KSE', u'deviceid': u'1477544446837', u'lat': 36.367068, u'lng': 127.36454, u'accuracy': 0.930954}\n",
      "{u'placename': u'e2-4216\\ud638', u'floor': 4, u'ts': u'2016-11-17 06:20:50', u'placeid': 60222, u'tag': u'', u'deviceid': u'1479362612232', u'lat': 36.36739, u'lng': 127.3649, u'accuracy': 0.877607}\n",
      "{u'placename': u'\\uce74\\uc774\\uc2a4\\ud2b8 E2-1 4203\\ud638', u'floor': 4, u'ts': u'2016-11-17 06:23:02', u'placeid': 50597, u'tag': u'#\\uce74\\uc774\\uc2a4\\ud2b8 #KSE', u'deviceid': u'1477544446837', u'lat': 36.367068, u'lng': 127.36454, u'accuracy': 0.929325}\n",
      "{u'placename': u'e2-4216\\ud638', u'floor': 4, u'ts': u'2016-11-17 06:25:15', u'placeid': 60222, u'tag': u'', u'deviceid': u'1479362612232', u'lat': 36.36739, u'lng': 127.3649, u'accuracy': 0.810995}\n",
      "{u'placename': u'\\uce74\\uc774\\uc2a4\\ud2b8 E2-1 4203\\ud638', u'floor': 4, u'ts': u'2016-11-17 06:25:34', u'placeid': 50597, u'tag': u'#\\uce74\\uc774\\uc2a4\\ud2b8 #KSE', u'deviceid': u'1477544446837', u'lat': 36.367068, u'lng': 127.36454, u'accuracy': 0.944487}\n",
      "{u'placename': u'e2-4216\\ud638', u'floor': 4, u'ts': u'2016-11-17 06:29:52', u'placeid': 60222, u'tag': u'', u'deviceid': u'1479362612232', u'lat': 36.36739, u'lng': 127.3649, u'accuracy': 0.922117}\n",
      "{u'placename': u'e2-4216\\ud638', u'floor': 4, u'ts': u'2016-11-17 06:34:09', u'placeid': 60222, u'tag': u'', u'deviceid': u'1479362612232', u'lat': 36.36739, u'lng': 127.3649, u'accuracy': 0.890945}\n",
      "{u'placename': u'\\uce74\\uc774\\uc2a4\\ud2b8 E2-1 4203\\ud638', u'floor': 4, u'ts': u'2016-11-17 06:38:04', u'placeid': 50597, u'tag': u'#\\uce74\\uc774\\uc2a4\\ud2b8 #KSE', u'deviceid': u'1477544446837', u'lat': 36.367068, u'lng': 127.36454, u'accuracy': 0.916548}\n",
      "{u'placename': u'e2-4216\\ud638', u'floor': 4, u'ts': u'2016-11-17 06:38:20', u'placeid': 60222, u'tag': u'', u'deviceid': u'1479362612232', u'lat': 36.36739, u'lng': 127.3649, u'accuracy': 0.902416}\n",
      "{u'placename': u'\\uce74\\uc774\\uc2a4\\ud2b8 E2-1 4203\\ud638', u'floor': 4, u'ts': u'2016-11-17 06:40:54', u'placeid': 50597, u'tag': u'#\\uce74\\uc774\\uc2a4\\ud2b8 #KSE', u'deviceid': u'1477544446837', u'lat': 36.367068, u'lng': 127.36454, u'accuracy': 0.919105}\n",
      "{u'placename': u'e2-4216\\ud638', u'floor': 4, u'ts': u'2016-11-17 06:42:24', u'placeid': 60222, u'tag': u'', u'deviceid': u'1479362612232', u'lat': 36.36739, u'lng': 127.3649, u'accuracy': 0.915223}\n",
      "{u'placename': u'\\uce74\\uc774\\uc2a4\\ud2b8 E2-1 4203\\ud638', u'floor': 4, u'ts': u'2016-11-17 06:43:47', u'placeid': 50597, u'tag': u'#\\uce74\\uc774\\uc2a4\\ud2b8 #KSE', u'deviceid': u'1477544446837', u'lat': 36.367068, u'lng': 127.36454, u'accuracy': 0.930502}\n"
     ]
    }
   ],
   "source": [
    "def getstorevisit(placeid, period):\n",
    "    appid = 'indoorkaist'\n",
    "    appkey = 'indoorexperiment'\n",
    "#     appid = 'loplatdemo'\n",
    "#     appkey = 'loplatdemokey'\n",
    "    url = 'https://loplatapi.appspot.com/storevisit'\n",
    "    req = urllib2.Request(url)\n",
    "    req.add_header('Content-Type', 'application/json')\n",
    "    data = {\n",
    "        'client_id': appid,\n",
    "        'client_secret': appkey,\n",
    "        'type': 'getvisits',\n",
    "        'placeid': placeid,\n",
    "        'period': period\n",
    "    }\n",
    "    print ('getstorevisit ----') \n",
    "    try:\n",
    "        response = urllib2.urlopen(req, json.dumps(data))\n",
    "        string = response.read().decode('utf-8')\n",
    "        jresponse = json.loads(string)\n",
    "        status = jresponse['status']\n",
    "        type = jresponse['type']\n",
    "        # print status, type\n",
    "        if status == 'success':\n",
    "            for visit in jresponse['visits']:\n",
    "                print(visit)\n",
    "#                 placeid = visit['placeid']\n",
    "#                 deviceid = visit['deviceid']\n",
    "#                 placename = visit['placename']\n",
    "#                 tag = visit['tag']\n",
    "#                 floor = visit['floor']\n",
    "#                 lat = visit['lat']\n",
    "#                 lng = visit['lng']\n",
    "#                 accuracy = visit['accuracy']\n",
    "#                 ts = visit['ts']\n",
    "#                 print (placeid, deviceid, placename, tag, floor, lat, lng, accuracy, ts)\n",
    "    except urllib2.HTTPError as e:\n",
    "        print (e.code)\n",
    "        error = e.read()\n",
    "        print (error)\n",
    "# placeid = 19243\n",
    "placeid = None  # if placeid is None, get all the list of visits in the given client_id\n",
    "period = 6000 # minutes\n",
    "getstorevisit(placeid, period)"
   ]
  },
  {
   "cell_type": "code",
   "execution_count": 20,
   "metadata": {
    "collapsed": false
   },
   "outputs": [
    {
     "name": "stdout",
     "output_type": "stream",
     "text": [
      "가나다라\n"
     ]
    }
   ],
   "source": [
    "print '가나다라'"
   ]
  }
 ],
 "metadata": {
  "anaconda-cloud": {},
  "kernelspec": {
   "display_name": "Python [Root]",
   "language": "python",
   "name": "Python [Root]"
  },
  "language_info": {
   "codemirror_mode": {
    "name": "ipython",
    "version": 2
   },
   "file_extension": ".py",
   "mimetype": "text/x-python",
   "name": "python",
   "nbconvert_exporter": "python",
   "pygments_lexer": "ipython2",
   "version": "2.7.12"
  }
 },
 "nbformat": 4,
 "nbformat_minor": 0
}
